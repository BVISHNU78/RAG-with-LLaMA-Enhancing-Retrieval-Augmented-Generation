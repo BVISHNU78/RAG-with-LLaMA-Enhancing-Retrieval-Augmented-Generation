{
  "nbformat": 4,
  "nbformat_minor": 0,
  "metadata": {
    "colab": {
      "provenance": []
    },
    "kernelspec": {
      "name": "python3",
      "display_name": "Python 3"
    },
    "language_info": {
      "name": "python"
    }
  },
  "cells": [
    {
      "cell_type": "code",
      "source": [
        "!pip install chromadb"
      ],
      "metadata": {
        "colab": {
          "base_uri": "https://localhost:8080/"
        },
        "id": "aKOV2pZNloUK",
        "outputId": "249546cb-1ede-43c1-e315-2f84a9475775"
      },
      "execution_count": null,
      "outputs": [
        {
          "output_type": "stream",
          "name": "stdout",
          "text": [
            "Collecting chromadb\n",
            "  Downloading chromadb-0.6.3-py3-none-any.whl.metadata (6.8 kB)\n",
            "Collecting build>=1.0.3 (from chromadb)\n",
            "  Downloading build-1.2.2.post1-py3-none-any.whl.metadata (6.5 kB)\n",
            "Requirement already satisfied: pydantic>=1.9 in /usr/local/lib/python3.11/dist-packages (from chromadb) (2.10.5)\n",
            "Collecting chroma-hnswlib==0.7.6 (from chromadb)\n",
            "  Downloading chroma_hnswlib-0.7.6-cp311-cp311-manylinux_2_17_x86_64.manylinux2014_x86_64.whl.metadata (252 bytes)\n",
            "Collecting fastapi>=0.95.2 (from chromadb)\n",
            "  Downloading fastapi-0.115.6-py3-none-any.whl.metadata (27 kB)\n",
            "Collecting uvicorn>=0.18.3 (from uvicorn[standard]>=0.18.3->chromadb)\n",
            "  Downloading uvicorn-0.34.0-py3-none-any.whl.metadata (6.5 kB)\n",
            "Requirement already satisfied: numpy>=1.22.5 in /usr/local/lib/python3.11/dist-packages (from chromadb) (1.26.4)\n",
            "Collecting posthog>=2.4.0 (from chromadb)\n",
            "  Downloading posthog-3.8.3-py2.py3-none-any.whl.metadata (2.7 kB)\n",
            "Requirement already satisfied: typing_extensions>=4.5.0 in /usr/local/lib/python3.11/dist-packages (from chromadb) (4.12.2)\n",
            "Collecting onnxruntime>=1.14.1 (from chromadb)\n",
            "  Downloading onnxruntime-1.20.1-cp311-cp311-manylinux_2_27_x86_64.manylinux_2_28_x86_64.whl.metadata (4.5 kB)\n",
            "Requirement already satisfied: opentelemetry-api>=1.2.0 in /usr/local/lib/python3.11/dist-packages (from chromadb) (1.29.0)\n",
            "Collecting opentelemetry-exporter-otlp-proto-grpc>=1.2.0 (from chromadb)\n",
            "  Downloading opentelemetry_exporter_otlp_proto_grpc-1.29.0-py3-none-any.whl.metadata (2.2 kB)\n",
            "Collecting opentelemetry-instrumentation-fastapi>=0.41b0 (from chromadb)\n",
            "  Downloading opentelemetry_instrumentation_fastapi-0.50b0-py3-none-any.whl.metadata (2.1 kB)\n",
            "Requirement already satisfied: opentelemetry-sdk>=1.2.0 in /usr/local/lib/python3.11/dist-packages (from chromadb) (1.29.0)\n",
            "Requirement already satisfied: tokenizers>=0.13.2 in /usr/local/lib/python3.11/dist-packages (from chromadb) (0.21.0)\n",
            "Collecting pypika>=0.48.9 (from chromadb)\n",
            "  Downloading PyPika-0.48.9.tar.gz (67 kB)\n",
            "\u001b[2K     \u001b[90m━━━━━━━━━━━━━━━━━━━━━━━━━━━━━━━━━━━━━━━━\u001b[0m \u001b[32m67.3/67.3 kB\u001b[0m \u001b[31m2.4 MB/s\u001b[0m eta \u001b[36m0:00:00\u001b[0m\n",
            "\u001b[?25h  Installing build dependencies ... \u001b[?25l\u001b[?25hdone\n",
            "  Getting requirements to build wheel ... \u001b[?25l\u001b[?25hdone\n",
            "  Preparing metadata (pyproject.toml) ... \u001b[?25l\u001b[?25hdone\n",
            "Requirement already satisfied: tqdm>=4.65.0 in /usr/local/lib/python3.11/dist-packages (from chromadb) (4.67.1)\n",
            "Collecting overrides>=7.3.1 (from chromadb)\n",
            "  Downloading overrides-7.7.0-py3-none-any.whl.metadata (5.8 kB)\n",
            "Requirement already satisfied: importlib-resources in /usr/local/lib/python3.11/dist-packages (from chromadb) (6.5.2)\n",
            "Requirement already satisfied: grpcio>=1.58.0 in /usr/local/lib/python3.11/dist-packages (from chromadb) (1.69.0)\n",
            "Collecting bcrypt>=4.0.1 (from chromadb)\n",
            "  Downloading bcrypt-4.2.1-cp39-abi3-manylinux_2_28_x86_64.whl.metadata (9.8 kB)\n",
            "Requirement already satisfied: typer>=0.9.0 in /usr/local/lib/python3.11/dist-packages (from chromadb) (0.15.1)\n",
            "Collecting kubernetes>=28.1.0 (from chromadb)\n",
            "  Downloading kubernetes-31.0.0-py2.py3-none-any.whl.metadata (1.5 kB)\n",
            "Requirement already satisfied: tenacity>=8.2.3 in /usr/local/lib/python3.11/dist-packages (from chromadb) (9.0.0)\n",
            "Requirement already satisfied: PyYAML>=6.0.0 in /usr/local/lib/python3.11/dist-packages (from chromadb) (6.0.2)\n",
            "Collecting mmh3>=4.0.1 (from chromadb)\n",
            "  Downloading mmh3-5.0.1-cp311-cp311-manylinux_2_5_x86_64.manylinux1_x86_64.manylinux_2_17_x86_64.manylinux2014_x86_64.whl.metadata (14 kB)\n",
            "Requirement already satisfied: orjson>=3.9.12 in /usr/local/lib/python3.11/dist-packages (from chromadb) (3.10.14)\n",
            "Requirement already satisfied: httpx>=0.27.0 in /usr/local/lib/python3.11/dist-packages (from chromadb) (0.28.1)\n",
            "Requirement already satisfied: rich>=10.11.0 in /usr/local/lib/python3.11/dist-packages (from chromadb) (13.9.4)\n",
            "Requirement already satisfied: packaging>=19.1 in /usr/local/lib/python3.11/dist-packages (from build>=1.0.3->chromadb) (24.2)\n",
            "Collecting pyproject_hooks (from build>=1.0.3->chromadb)\n",
            "  Downloading pyproject_hooks-1.2.0-py3-none-any.whl.metadata (1.3 kB)\n",
            "Collecting starlette<0.42.0,>=0.40.0 (from fastapi>=0.95.2->chromadb)\n",
            "  Downloading starlette-0.41.3-py3-none-any.whl.metadata (6.0 kB)\n",
            "Requirement already satisfied: anyio in /usr/local/lib/python3.11/dist-packages (from httpx>=0.27.0->chromadb) (3.7.1)\n",
            "Requirement already satisfied: certifi in /usr/local/lib/python3.11/dist-packages (from httpx>=0.27.0->chromadb) (2024.12.14)\n",
            "Requirement already satisfied: httpcore==1.* in /usr/local/lib/python3.11/dist-packages (from httpx>=0.27.0->chromadb) (1.0.7)\n",
            "Requirement already satisfied: idna in /usr/local/lib/python3.11/dist-packages (from httpx>=0.27.0->chromadb) (3.10)\n",
            "Requirement already satisfied: h11<0.15,>=0.13 in /usr/local/lib/python3.11/dist-packages (from httpcore==1.*->httpx>=0.27.0->chromadb) (0.14.0)\n",
            "Requirement already satisfied: six>=1.9.0 in /usr/local/lib/python3.11/dist-packages (from kubernetes>=28.1.0->chromadb) (1.17.0)\n",
            "Requirement already satisfied: python-dateutil>=2.5.3 in /usr/local/lib/python3.11/dist-packages (from kubernetes>=28.1.0->chromadb) (2.8.2)\n",
            "Requirement already satisfied: google-auth>=1.0.1 in /usr/local/lib/python3.11/dist-packages (from kubernetes>=28.1.0->chromadb) (2.27.0)\n",
            "Requirement already satisfied: websocket-client!=0.40.0,!=0.41.*,!=0.42.*,>=0.32.0 in /usr/local/lib/python3.11/dist-packages (from kubernetes>=28.1.0->chromadb) (1.8.0)\n",
            "Requirement already satisfied: requests in /usr/local/lib/python3.11/dist-packages (from kubernetes>=28.1.0->chromadb) (2.32.3)\n",
            "Requirement already satisfied: requests-oauthlib in /usr/local/lib/python3.11/dist-packages (from kubernetes>=28.1.0->chromadb) (1.3.1)\n",
            "Requirement already satisfied: oauthlib>=3.2.2 in /usr/local/lib/python3.11/dist-packages (from kubernetes>=28.1.0->chromadb) (3.2.2)\n",
            "Requirement already satisfied: urllib3>=1.24.2 in /usr/local/lib/python3.11/dist-packages (from kubernetes>=28.1.0->chromadb) (2.3.0)\n",
            "Collecting durationpy>=0.7 (from kubernetes>=28.1.0->chromadb)\n",
            "  Downloading durationpy-0.9-py3-none-any.whl.metadata (338 bytes)\n",
            "Collecting coloredlogs (from onnxruntime>=1.14.1->chromadb)\n",
            "  Downloading coloredlogs-15.0.1-py2.py3-none-any.whl.metadata (12 kB)\n",
            "Requirement already satisfied: flatbuffers in /usr/local/lib/python3.11/dist-packages (from onnxruntime>=1.14.1->chromadb) (24.12.23)\n",
            "Requirement already satisfied: protobuf in /usr/local/lib/python3.11/dist-packages (from onnxruntime>=1.14.1->chromadb) (4.25.5)\n",
            "Requirement already satisfied: sympy in /usr/local/lib/python3.11/dist-packages (from onnxruntime>=1.14.1->chromadb) (1.13.1)\n",
            "Requirement already satisfied: deprecated>=1.2.6 in /usr/local/lib/python3.11/dist-packages (from opentelemetry-api>=1.2.0->chromadb) (1.2.15)\n",
            "Requirement already satisfied: importlib-metadata<=8.5.0,>=6.0 in /usr/local/lib/python3.11/dist-packages (from opentelemetry-api>=1.2.0->chromadb) (8.5.0)\n",
            "Requirement already satisfied: googleapis-common-protos~=1.52 in /usr/local/lib/python3.11/dist-packages (from opentelemetry-exporter-otlp-proto-grpc>=1.2.0->chromadb) (1.66.0)\n",
            "Collecting opentelemetry-exporter-otlp-proto-common==1.29.0 (from opentelemetry-exporter-otlp-proto-grpc>=1.2.0->chromadb)\n",
            "  Downloading opentelemetry_exporter_otlp_proto_common-1.29.0-py3-none-any.whl.metadata (1.8 kB)\n",
            "Collecting opentelemetry-proto==1.29.0 (from opentelemetry-exporter-otlp-proto-grpc>=1.2.0->chromadb)\n",
            "  Downloading opentelemetry_proto-1.29.0-py3-none-any.whl.metadata (2.3 kB)\n",
            "Collecting protobuf (from onnxruntime>=1.14.1->chromadb)\n",
            "  Downloading protobuf-5.29.3-cp38-abi3-manylinux2014_x86_64.whl.metadata (592 bytes)\n",
            "Collecting opentelemetry-instrumentation-asgi==0.50b0 (from opentelemetry-instrumentation-fastapi>=0.41b0->chromadb)\n",
            "  Downloading opentelemetry_instrumentation_asgi-0.50b0-py3-none-any.whl.metadata (1.9 kB)\n",
            "Collecting opentelemetry-instrumentation==0.50b0 (from opentelemetry-instrumentation-fastapi>=0.41b0->chromadb)\n",
            "  Downloading opentelemetry_instrumentation-0.50b0-py3-none-any.whl.metadata (6.1 kB)\n",
            "Requirement already satisfied: opentelemetry-semantic-conventions==0.50b0 in /usr/local/lib/python3.11/dist-packages (from opentelemetry-instrumentation-fastapi>=0.41b0->chromadb) (0.50b0)\n",
            "Collecting opentelemetry-util-http==0.50b0 (from opentelemetry-instrumentation-fastapi>=0.41b0->chromadb)\n",
            "  Downloading opentelemetry_util_http-0.50b0-py3-none-any.whl.metadata (2.5 kB)\n",
            "Requirement already satisfied: wrapt<2.0.0,>=1.0.0 in /usr/local/lib/python3.11/dist-packages (from opentelemetry-instrumentation==0.50b0->opentelemetry-instrumentation-fastapi>=0.41b0->chromadb) (1.17.0)\n",
            "Collecting asgiref~=3.0 (from opentelemetry-instrumentation-asgi==0.50b0->opentelemetry-instrumentation-fastapi>=0.41b0->chromadb)\n",
            "  Downloading asgiref-3.8.1-py3-none-any.whl.metadata (9.3 kB)\n",
            "Collecting monotonic>=1.5 (from posthog>=2.4.0->chromadb)\n",
            "  Downloading monotonic-1.6-py2.py3-none-any.whl.metadata (1.5 kB)\n",
            "Collecting backoff>=1.10.0 (from posthog>=2.4.0->chromadb)\n",
            "  Downloading backoff-2.2.1-py3-none-any.whl.metadata (14 kB)\n",
            "Requirement already satisfied: annotated-types>=0.6.0 in /usr/local/lib/python3.11/dist-packages (from pydantic>=1.9->chromadb) (0.7.0)\n",
            "Requirement already satisfied: pydantic-core==2.27.2 in /usr/local/lib/python3.11/dist-packages (from pydantic>=1.9->chromadb) (2.27.2)\n",
            "Requirement already satisfied: markdown-it-py>=2.2.0 in /usr/local/lib/python3.11/dist-packages (from rich>=10.11.0->chromadb) (3.0.0)\n",
            "Requirement already satisfied: pygments<3.0.0,>=2.13.0 in /usr/local/lib/python3.11/dist-packages (from rich>=10.11.0->chromadb) (2.18.0)\n",
            "Requirement already satisfied: huggingface-hub<1.0,>=0.16.4 in /usr/local/lib/python3.11/dist-packages (from tokenizers>=0.13.2->chromadb) (0.27.1)\n",
            "Requirement already satisfied: click>=8.0.0 in /usr/local/lib/python3.11/dist-packages (from typer>=0.9.0->chromadb) (8.1.8)\n",
            "Requirement already satisfied: shellingham>=1.3.0 in /usr/local/lib/python3.11/dist-packages (from typer>=0.9.0->chromadb) (1.5.4)\n",
            "Collecting httptools>=0.6.3 (from uvicorn[standard]>=0.18.3->chromadb)\n",
            "  Downloading httptools-0.6.4-cp311-cp311-manylinux_2_5_x86_64.manylinux1_x86_64.manylinux_2_17_x86_64.manylinux2014_x86_64.whl.metadata (3.6 kB)\n",
            "Collecting python-dotenv>=0.13 (from uvicorn[standard]>=0.18.3->chromadb)\n",
            "  Downloading python_dotenv-1.0.1-py3-none-any.whl.metadata (23 kB)\n",
            "Collecting uvloop!=0.15.0,!=0.15.1,>=0.14.0 (from uvicorn[standard]>=0.18.3->chromadb)\n",
            "  Downloading uvloop-0.21.0-cp311-cp311-manylinux_2_17_x86_64.manylinux2014_x86_64.whl.metadata (4.9 kB)\n",
            "Collecting watchfiles>=0.13 (from uvicorn[standard]>=0.18.3->chromadb)\n",
            "  Downloading watchfiles-1.0.4-cp311-cp311-manylinux_2_17_x86_64.manylinux2014_x86_64.whl.metadata (4.9 kB)\n",
            "Requirement already satisfied: websockets>=10.4 in /usr/local/lib/python3.11/dist-packages (from uvicorn[standard]>=0.18.3->chromadb) (14.1)\n",
            "Requirement already satisfied: cachetools<6.0,>=2.0.0 in /usr/local/lib/python3.11/dist-packages (from google-auth>=1.0.1->kubernetes>=28.1.0->chromadb) (5.5.0)\n",
            "Requirement already satisfied: pyasn1-modules>=0.2.1 in /usr/local/lib/python3.11/dist-packages (from google-auth>=1.0.1->kubernetes>=28.1.0->chromadb) (0.4.1)\n",
            "Requirement already satisfied: rsa<5,>=3.1.4 in /usr/local/lib/python3.11/dist-packages (from google-auth>=1.0.1->kubernetes>=28.1.0->chromadb) (4.9)\n",
            "Requirement already satisfied: filelock in /usr/local/lib/python3.11/dist-packages (from huggingface-hub<1.0,>=0.16.4->tokenizers>=0.13.2->chromadb) (3.16.1)\n",
            "Requirement already satisfied: fsspec>=2023.5.0 in /usr/local/lib/python3.11/dist-packages (from huggingface-hub<1.0,>=0.16.4->tokenizers>=0.13.2->chromadb) (2024.10.0)\n",
            "Requirement already satisfied: zipp>=3.20 in /usr/local/lib/python3.11/dist-packages (from importlib-metadata<=8.5.0,>=6.0->opentelemetry-api>=1.2.0->chromadb) (3.21.0)\n",
            "Requirement already satisfied: mdurl~=0.1 in /usr/local/lib/python3.11/dist-packages (from markdown-it-py>=2.2.0->rich>=10.11.0->chromadb) (0.1.2)\n",
            "Requirement already satisfied: charset-normalizer<4,>=2 in /usr/local/lib/python3.11/dist-packages (from requests->kubernetes>=28.1.0->chromadb) (3.4.1)\n",
            "Requirement already satisfied: sniffio>=1.1 in /usr/local/lib/python3.11/dist-packages (from anyio->httpx>=0.27.0->chromadb) (1.3.1)\n",
            "Collecting humanfriendly>=9.1 (from coloredlogs->onnxruntime>=1.14.1->chromadb)\n",
            "  Downloading humanfriendly-10.0-py2.py3-none-any.whl.metadata (9.2 kB)\n",
            "Requirement already satisfied: mpmath<1.4,>=1.1.0 in /usr/local/lib/python3.11/dist-packages (from sympy->onnxruntime>=1.14.1->chromadb) (1.3.0)\n",
            "Requirement already satisfied: pyasn1<0.7.0,>=0.4.6 in /usr/local/lib/python3.11/dist-packages (from pyasn1-modules>=0.2.1->google-auth>=1.0.1->kubernetes>=28.1.0->chromadb) (0.6.1)\n",
            "Downloading chromadb-0.6.3-py3-none-any.whl (611 kB)\n",
            "\u001b[2K   \u001b[90m━━━━━━━━━━━━━━━━━━━━━━━━━━━━━━━━━━━━━━━━\u001b[0m \u001b[32m611.1/611.1 kB\u001b[0m \u001b[31m25.0 MB/s\u001b[0m eta \u001b[36m0:00:00\u001b[0m\n",
            "\u001b[?25hDownloading chroma_hnswlib-0.7.6-cp311-cp311-manylinux_2_17_x86_64.manylinux2014_x86_64.whl (2.4 MB)\n",
            "\u001b[2K   \u001b[90m━━━━━━━━━━━━━━━━━━━━━━━━━━━━━━━━━━━━━━━━\u001b[0m \u001b[32m2.4/2.4 MB\u001b[0m \u001b[31m45.2 MB/s\u001b[0m eta \u001b[36m0:00:00\u001b[0m\n",
            "\u001b[?25hDownloading bcrypt-4.2.1-cp39-abi3-manylinux_2_28_x86_64.whl (278 kB)\n",
            "\u001b[2K   \u001b[90m━━━━━━━━━━━━━━━━━━━━━━━━━━━━━━━━━━━━━━━━\u001b[0m \u001b[32m278.6/278.6 kB\u001b[0m \u001b[31m15.8 MB/s\u001b[0m eta \u001b[36m0:00:00\u001b[0m\n",
            "\u001b[?25hDownloading build-1.2.2.post1-py3-none-any.whl (22 kB)\n",
            "Downloading fastapi-0.115.6-py3-none-any.whl (94 kB)\n",
            "\u001b[2K   \u001b[90m━━━━━━━━━━━━━━━━━━━━━━━━━━━━━━━━━━━━━━━━\u001b[0m \u001b[32m94.8/94.8 kB\u001b[0m \u001b[31m8.0 MB/s\u001b[0m eta \u001b[36m0:00:00\u001b[0m\n",
            "\u001b[?25hDownloading kubernetes-31.0.0-py2.py3-none-any.whl (1.9 MB)\n",
            "\u001b[2K   \u001b[90m━━━━━━━━━━━━━━━━━━━━━━━━━━━━━━━━━━━━━━━━\u001b[0m \u001b[32m1.9/1.9 MB\u001b[0m \u001b[31m49.9 MB/s\u001b[0m eta \u001b[36m0:00:00\u001b[0m\n",
            "\u001b[?25hDownloading mmh3-5.0.1-cp311-cp311-manylinux_2_5_x86_64.manylinux1_x86_64.manylinux_2_17_x86_64.manylinux2014_x86_64.whl (94 kB)\n",
            "\u001b[2K   \u001b[90m━━━━━━━━━━━━━━━━━━━━━━━━━━━━━━━━━━━━━━━━\u001b[0m \u001b[32m94.8/94.8 kB\u001b[0m \u001b[31m7.8 MB/s\u001b[0m eta \u001b[36m0:00:00\u001b[0m\n",
            "\u001b[?25hDownloading onnxruntime-1.20.1-cp311-cp311-manylinux_2_27_x86_64.manylinux_2_28_x86_64.whl (13.3 MB)\n",
            "\u001b[2K   \u001b[90m━━━━━━━━━━━━━━━━━━━━━━━━━━━━━━━━━━━━━━━━\u001b[0m \u001b[32m13.3/13.3 MB\u001b[0m \u001b[31m62.4 MB/s\u001b[0m eta \u001b[36m0:00:00\u001b[0m\n",
            "\u001b[?25hDownloading opentelemetry_exporter_otlp_proto_grpc-1.29.0-py3-none-any.whl (18 kB)\n",
            "Downloading opentelemetry_exporter_otlp_proto_common-1.29.0-py3-none-any.whl (18 kB)\n",
            "Downloading opentelemetry_proto-1.29.0-py3-none-any.whl (55 kB)\n",
            "\u001b[2K   \u001b[90m━━━━━━━━━━━━━━━━━━━━━━━━━━━━━━━━━━━━━━━━\u001b[0m \u001b[32m55.8/55.8 kB\u001b[0m \u001b[31m4.7 MB/s\u001b[0m eta \u001b[36m0:00:00\u001b[0m\n",
            "\u001b[?25hDownloading opentelemetry_instrumentation_fastapi-0.50b0-py3-none-any.whl (12 kB)\n",
            "Downloading opentelemetry_instrumentation-0.50b0-py3-none-any.whl (30 kB)\n",
            "Downloading opentelemetry_instrumentation_asgi-0.50b0-py3-none-any.whl (16 kB)\n",
            "Downloading opentelemetry_util_http-0.50b0-py3-none-any.whl (6.9 kB)\n",
            "Downloading overrides-7.7.0-py3-none-any.whl (17 kB)\n",
            "Downloading posthog-3.8.3-py2.py3-none-any.whl (64 kB)\n",
            "\u001b[2K   \u001b[90m━━━━━━━━━━━━━━━━━━━━━━━━━━━━━━━━━━━━━━━━\u001b[0m \u001b[32m64.7/64.7 kB\u001b[0m \u001b[31m5.0 MB/s\u001b[0m eta \u001b[36m0:00:00\u001b[0m\n",
            "\u001b[?25hDownloading uvicorn-0.34.0-py3-none-any.whl (62 kB)\n",
            "\u001b[2K   \u001b[90m━━━━━━━━━━━━━━━━━━━━━━━━━━━━━━━━━━━━━━━━\u001b[0m \u001b[32m62.3/62.3 kB\u001b[0m \u001b[31m4.6 MB/s\u001b[0m eta \u001b[36m0:00:00\u001b[0m\n",
            "\u001b[?25hDownloading backoff-2.2.1-py3-none-any.whl (15 kB)\n",
            "Downloading durationpy-0.9-py3-none-any.whl (3.5 kB)\n",
            "Downloading httptools-0.6.4-cp311-cp311-manylinux_2_5_x86_64.manylinux1_x86_64.manylinux_2_17_x86_64.manylinux2014_x86_64.whl (459 kB)\n",
            "\u001b[2K   \u001b[90m━━━━━━━━━━━━━━━━━━━━━━━━━━━━━━━━━━━━━━━━\u001b[0m \u001b[32m459.8/459.8 kB\u001b[0m \u001b[31m23.1 MB/s\u001b[0m eta \u001b[36m0:00:00\u001b[0m\n",
            "\u001b[?25hDownloading monotonic-1.6-py2.py3-none-any.whl (8.2 kB)\n",
            "Downloading protobuf-5.29.3-cp38-abi3-manylinux2014_x86_64.whl (319 kB)\n",
            "\u001b[2K   \u001b[90m━━━━━━━━━━━━━━━━━━━━━━━━━━━━━━━━━━━━━━━━\u001b[0m \u001b[32m319.7/319.7 kB\u001b[0m \u001b[31m22.2 MB/s\u001b[0m eta \u001b[36m0:00:00\u001b[0m\n",
            "\u001b[?25hDownloading python_dotenv-1.0.1-py3-none-any.whl (19 kB)\n",
            "Downloading starlette-0.41.3-py3-none-any.whl (73 kB)\n",
            "\u001b[2K   \u001b[90m━━━━━━━━━━━━━━━━━━━━━━━━━━━━━━━━━━━━━━━━\u001b[0m \u001b[32m73.2/73.2 kB\u001b[0m \u001b[31m6.3 MB/s\u001b[0m eta \u001b[36m0:00:00\u001b[0m\n",
            "\u001b[?25hDownloading uvloop-0.21.0-cp311-cp311-manylinux_2_17_x86_64.manylinux2014_x86_64.whl (4.0 MB)\n",
            "\u001b[2K   \u001b[90m━━━━━━━━━━━━━━━━━━━━━━━━━━━━━━━━━━━━━━━━\u001b[0m \u001b[32m4.0/4.0 MB\u001b[0m \u001b[31m68.1 MB/s\u001b[0m eta \u001b[36m0:00:00\u001b[0m\n",
            "\u001b[?25hDownloading watchfiles-1.0.4-cp311-cp311-manylinux_2_17_x86_64.manylinux2014_x86_64.whl (452 kB)\n",
            "\u001b[2K   \u001b[90m━━━━━━━━━━━━━━━━━━━━━━━━━━━━━━━━━━━━━━━━\u001b[0m \u001b[32m452.6/452.6 kB\u001b[0m \u001b[31m21.5 MB/s\u001b[0m eta \u001b[36m0:00:00\u001b[0m\n",
            "\u001b[?25hDownloading coloredlogs-15.0.1-py2.py3-none-any.whl (46 kB)\n",
            "\u001b[2K   \u001b[90m━━━━━━━━━━━━━━━━━━━━━━━━━━━━━━━━━━━━━━━━\u001b[0m \u001b[32m46.0/46.0 kB\u001b[0m \u001b[31m3.9 MB/s\u001b[0m eta \u001b[36m0:00:00\u001b[0m\n",
            "\u001b[?25hDownloading pyproject_hooks-1.2.0-py3-none-any.whl (10 kB)\n",
            "Downloading asgiref-3.8.1-py3-none-any.whl (23 kB)\n",
            "Downloading humanfriendly-10.0-py2.py3-none-any.whl (86 kB)\n",
            "\u001b[2K   \u001b[90m━━━━━━━━━━━━━━━━━━━━━━━━━━━━━━━━━━━━━━━━\u001b[0m \u001b[32m86.8/86.8 kB\u001b[0m \u001b[31m6.8 MB/s\u001b[0m eta \u001b[36m0:00:00\u001b[0m\n",
            "\u001b[?25hBuilding wheels for collected packages: pypika\n",
            "  Building wheel for pypika (pyproject.toml) ... \u001b[?25l\u001b[?25hdone\n",
            "  Created wheel for pypika: filename=PyPika-0.48.9-py2.py3-none-any.whl size=53771 sha256=a6aea533281a2cca849b4f497d2dafe2dbae7d6024c441e2afe040c85d05318e\n",
            "  Stored in directory: /root/.cache/pip/wheels/a3/01/bd/4c40ceb9d5354160cb186dcc153360f4ab7eb23e2b24daf96d\n",
            "Successfully built pypika\n",
            "Installing collected packages: pypika, monotonic, durationpy, uvloop, uvicorn, python-dotenv, pyproject_hooks, protobuf, overrides, opentelemetry-util-http, mmh3, humanfriendly, httptools, chroma-hnswlib, bcrypt, backoff, asgiref, watchfiles, starlette, posthog, opentelemetry-proto, coloredlogs, build, opentelemetry-exporter-otlp-proto-common, onnxruntime, kubernetes, fastapi, opentelemetry-instrumentation, opentelemetry-instrumentation-asgi, opentelemetry-exporter-otlp-proto-grpc, opentelemetry-instrumentation-fastapi, chromadb\n",
            "  Attempting uninstall: protobuf\n",
            "    Found existing installation: protobuf 4.25.5\n",
            "    Uninstalling protobuf-4.25.5:\n",
            "      Successfully uninstalled protobuf-4.25.5\n",
            "\u001b[31mERROR: pip's dependency resolver does not currently take into account all the packages that are installed. This behaviour is the source of the following dependency conflicts.\n",
            "tensorflow 2.17.1 requires protobuf!=4.21.0,!=4.21.1,!=4.21.2,!=4.21.3,!=4.21.4,!=4.21.5,<5.0.0dev,>=3.20.3, but you have protobuf 5.29.3 which is incompatible.\u001b[0m\u001b[31m\n",
            "\u001b[0mSuccessfully installed asgiref-3.8.1 backoff-2.2.1 bcrypt-4.2.1 build-1.2.2.post1 chroma-hnswlib-0.7.6 chromadb-0.6.3 coloredlogs-15.0.1 durationpy-0.9 fastapi-0.115.6 httptools-0.6.4 humanfriendly-10.0 kubernetes-31.0.0 mmh3-5.0.1 monotonic-1.6 onnxruntime-1.20.1 opentelemetry-exporter-otlp-proto-common-1.29.0 opentelemetry-exporter-otlp-proto-grpc-1.29.0 opentelemetry-instrumentation-0.50b0 opentelemetry-instrumentation-asgi-0.50b0 opentelemetry-instrumentation-fastapi-0.50b0 opentelemetry-proto-1.29.0 opentelemetry-util-http-0.50b0 overrides-7.7.0 posthog-3.8.3 protobuf-5.29.3 pypika-0.48.9 pyproject_hooks-1.2.0 python-dotenv-1.0.1 starlette-0.41.3 uvicorn-0.34.0 uvloop-0.21.0 watchfiles-1.0.4\n"
          ]
        }
      ]
    },
    {
      "cell_type": "code",
      "source": [
        "!pip install langchain langchain-community"
      ],
      "metadata": {
        "colab": {
          "base_uri": "https://localhost:8080/"
        },
        "id": "Sij8XqXKvGxm",
        "outputId": "396a6101-56ce-418d-8383-36b523291b8a"
      },
      "execution_count": null,
      "outputs": [
        {
          "output_type": "stream",
          "name": "stdout",
          "text": [
            "Requirement already satisfied: langchain in /usr/local/lib/python3.11/dist-packages (0.3.14)\n",
            "Collecting langchain-community\n",
            "  Downloading langchain_community-0.3.14-py3-none-any.whl.metadata (2.9 kB)\n",
            "Requirement already satisfied: PyYAML>=5.3 in /usr/local/lib/python3.11/dist-packages (from langchain) (6.0.2)\n",
            "Requirement already satisfied: SQLAlchemy<3,>=1.4 in /usr/local/lib/python3.11/dist-packages (from langchain) (2.0.37)\n",
            "Requirement already satisfied: aiohttp<4.0.0,>=3.8.3 in /usr/local/lib/python3.11/dist-packages (from langchain) (3.11.11)\n",
            "Requirement already satisfied: langchain-core<0.4.0,>=0.3.29 in /usr/local/lib/python3.11/dist-packages (from langchain) (0.3.29)\n",
            "Requirement already satisfied: langchain-text-splitters<0.4.0,>=0.3.3 in /usr/local/lib/python3.11/dist-packages (from langchain) (0.3.5)\n",
            "Requirement already satisfied: langsmith<0.3,>=0.1.17 in /usr/local/lib/python3.11/dist-packages (from langchain) (0.2.10)\n",
            "Requirement already satisfied: numpy<2,>=1.22.4 in /usr/local/lib/python3.11/dist-packages (from langchain) (1.26.4)\n",
            "Requirement already satisfied: pydantic<3.0.0,>=2.7.4 in /usr/local/lib/python3.11/dist-packages (from langchain) (2.10.5)\n",
            "Requirement already satisfied: requests<3,>=2 in /usr/local/lib/python3.11/dist-packages (from langchain) (2.32.3)\n",
            "Requirement already satisfied: tenacity!=8.4.0,<10,>=8.1.0 in /usr/local/lib/python3.11/dist-packages (from langchain) (9.0.0)\n",
            "Collecting dataclasses-json<0.7,>=0.5.7 (from langchain-community)\n",
            "  Downloading dataclasses_json-0.6.7-py3-none-any.whl.metadata (25 kB)\n",
            "Collecting httpx-sse<0.5.0,>=0.4.0 (from langchain-community)\n",
            "  Downloading httpx_sse-0.4.0-py3-none-any.whl.metadata (9.0 kB)\n",
            "Collecting pydantic-settings<3.0.0,>=2.4.0 (from langchain-community)\n",
            "  Downloading pydantic_settings-2.7.1-py3-none-any.whl.metadata (3.5 kB)\n",
            "Requirement already satisfied: aiohappyeyeballs>=2.3.0 in /usr/local/lib/python3.11/dist-packages (from aiohttp<4.0.0,>=3.8.3->langchain) (2.4.4)\n",
            "Requirement already satisfied: aiosignal>=1.1.2 in /usr/local/lib/python3.11/dist-packages (from aiohttp<4.0.0,>=3.8.3->langchain) (1.3.2)\n",
            "Requirement already satisfied: attrs>=17.3.0 in /usr/local/lib/python3.11/dist-packages (from aiohttp<4.0.0,>=3.8.3->langchain) (24.3.0)\n",
            "Requirement already satisfied: frozenlist>=1.1.1 in /usr/local/lib/python3.11/dist-packages (from aiohttp<4.0.0,>=3.8.3->langchain) (1.5.0)\n",
            "Requirement already satisfied: multidict<7.0,>=4.5 in /usr/local/lib/python3.11/dist-packages (from aiohttp<4.0.0,>=3.8.3->langchain) (6.1.0)\n",
            "Requirement already satisfied: propcache>=0.2.0 in /usr/local/lib/python3.11/dist-packages (from aiohttp<4.0.0,>=3.8.3->langchain) (0.2.1)\n",
            "Requirement already satisfied: yarl<2.0,>=1.17.0 in /usr/local/lib/python3.11/dist-packages (from aiohttp<4.0.0,>=3.8.3->langchain) (1.18.3)\n",
            "Collecting marshmallow<4.0.0,>=3.18.0 (from dataclasses-json<0.7,>=0.5.7->langchain-community)\n",
            "  Downloading marshmallow-3.25.1-py3-none-any.whl.metadata (7.3 kB)\n",
            "Collecting typing-inspect<1,>=0.4.0 (from dataclasses-json<0.7,>=0.5.7->langchain-community)\n",
            "  Downloading typing_inspect-0.9.0-py3-none-any.whl.metadata (1.5 kB)\n",
            "Requirement already satisfied: jsonpatch<2.0,>=1.33 in /usr/local/lib/python3.11/dist-packages (from langchain-core<0.4.0,>=0.3.29->langchain) (1.33)\n",
            "Requirement already satisfied: packaging<25,>=23.2 in /usr/local/lib/python3.11/dist-packages (from langchain-core<0.4.0,>=0.3.29->langchain) (24.2)\n",
            "Requirement already satisfied: typing-extensions>=4.7 in /usr/local/lib/python3.11/dist-packages (from langchain-core<0.4.0,>=0.3.29->langchain) (4.12.2)\n",
            "Requirement already satisfied: httpx<1,>=0.23.0 in /usr/local/lib/python3.11/dist-packages (from langsmith<0.3,>=0.1.17->langchain) (0.28.1)\n",
            "Requirement already satisfied: orjson<4.0.0,>=3.9.14 in /usr/local/lib/python3.11/dist-packages (from langsmith<0.3,>=0.1.17->langchain) (3.10.14)\n",
            "Requirement already satisfied: requests-toolbelt<2.0.0,>=1.0.0 in /usr/local/lib/python3.11/dist-packages (from langsmith<0.3,>=0.1.17->langchain) (1.0.0)\n",
            "Requirement already satisfied: annotated-types>=0.6.0 in /usr/local/lib/python3.11/dist-packages (from pydantic<3.0.0,>=2.7.4->langchain) (0.7.0)\n",
            "Requirement already satisfied: pydantic-core==2.27.2 in /usr/local/lib/python3.11/dist-packages (from pydantic<3.0.0,>=2.7.4->langchain) (2.27.2)\n",
            "Requirement already satisfied: python-dotenv>=0.21.0 in /usr/local/lib/python3.11/dist-packages (from pydantic-settings<3.0.0,>=2.4.0->langchain-community) (1.0.1)\n",
            "Requirement already satisfied: charset-normalizer<4,>=2 in /usr/local/lib/python3.11/dist-packages (from requests<3,>=2->langchain) (3.4.1)\n",
            "Requirement already satisfied: idna<4,>=2.5 in /usr/local/lib/python3.11/dist-packages (from requests<3,>=2->langchain) (3.10)\n",
            "Requirement already satisfied: urllib3<3,>=1.21.1 in /usr/local/lib/python3.11/dist-packages (from requests<3,>=2->langchain) (2.3.0)\n",
            "Requirement already satisfied: certifi>=2017.4.17 in /usr/local/lib/python3.11/dist-packages (from requests<3,>=2->langchain) (2024.12.14)\n",
            "Requirement already satisfied: greenlet!=0.4.17 in /usr/local/lib/python3.11/dist-packages (from SQLAlchemy<3,>=1.4->langchain) (3.1.1)\n",
            "Requirement already satisfied: anyio in /usr/local/lib/python3.11/dist-packages (from httpx<1,>=0.23.0->langsmith<0.3,>=0.1.17->langchain) (3.7.1)\n",
            "Requirement already satisfied: httpcore==1.* in /usr/local/lib/python3.11/dist-packages (from httpx<1,>=0.23.0->langsmith<0.3,>=0.1.17->langchain) (1.0.7)\n",
            "Requirement already satisfied: h11<0.15,>=0.13 in /usr/local/lib/python3.11/dist-packages (from httpcore==1.*->httpx<1,>=0.23.0->langsmith<0.3,>=0.1.17->langchain) (0.14.0)\n",
            "Requirement already satisfied: jsonpointer>=1.9 in /usr/local/lib/python3.11/dist-packages (from jsonpatch<2.0,>=1.33->langchain-core<0.4.0,>=0.3.29->langchain) (3.0.0)\n",
            "Collecting mypy-extensions>=0.3.0 (from typing-inspect<1,>=0.4.0->dataclasses-json<0.7,>=0.5.7->langchain-community)\n",
            "  Downloading mypy_extensions-1.0.0-py3-none-any.whl.metadata (1.1 kB)\n",
            "Requirement already satisfied: sniffio>=1.1 in /usr/local/lib/python3.11/dist-packages (from anyio->httpx<1,>=0.23.0->langsmith<0.3,>=0.1.17->langchain) (1.3.1)\n",
            "Downloading langchain_community-0.3.14-py3-none-any.whl (2.5 MB)\n",
            "\u001b[2K   \u001b[90m━━━━━━━━━━━━━━━━━━━━━━━━━━━━━━━━━━━━━━━━\u001b[0m \u001b[32m2.5/2.5 MB\u001b[0m \u001b[31m19.4 MB/s\u001b[0m eta \u001b[36m0:00:00\u001b[0m\n",
            "\u001b[?25hDownloading dataclasses_json-0.6.7-py3-none-any.whl (28 kB)\n",
            "Downloading httpx_sse-0.4.0-py3-none-any.whl (7.8 kB)\n",
            "Downloading pydantic_settings-2.7.1-py3-none-any.whl (29 kB)\n",
            "Downloading marshmallow-3.25.1-py3-none-any.whl (49 kB)\n",
            "\u001b[2K   \u001b[90m━━━━━━━━━━━━━━━━━━━━━━━━━━━━━━━━━━━━━━━━\u001b[0m \u001b[32m49.6/49.6 kB\u001b[0m \u001b[31m1.8 MB/s\u001b[0m eta \u001b[36m0:00:00\u001b[0m\n",
            "\u001b[?25hDownloading typing_inspect-0.9.0-py3-none-any.whl (8.8 kB)\n",
            "Downloading mypy_extensions-1.0.0-py3-none-any.whl (4.7 kB)\n",
            "Installing collected packages: mypy-extensions, marshmallow, httpx-sse, typing-inspect, pydantic-settings, dataclasses-json, langchain-community\n",
            "Successfully installed dataclasses-json-0.6.7 httpx-sse-0.4.0 langchain-community-0.3.14 marshmallow-3.25.1 mypy-extensions-1.0.0 pydantic-settings-2.7.1 typing-inspect-0.9.0\n"
          ]
        }
      ]
    },
    {
      "cell_type": "code",
      "source": [
        "!pip install -qU langchain-chroma"
      ],
      "metadata": {
        "id": "orTYsPIg0yGD",
        "colab": {
          "base_uri": "https://localhost:8080/"
        },
        "outputId": "71b80633-4144-4fa7-e72d-a92778117610"
      },
      "execution_count": null,
      "outputs": [
        {
          "output_type": "stream",
          "name": "stdout",
          "text": [
            "\u001b[2K   \u001b[90m━━━━━━━━━━━━━━━━━━━━━━━━━━━━━━━━━━━━━━━━\u001b[0m \u001b[32m628.3/628.3 kB\u001b[0m \u001b[31m15.7 MB/s\u001b[0m eta \u001b[36m0:00:00\u001b[0m\n",
            "\u001b[2K   \u001b[90m━━━━━━━━━━━━━━━━━━━━━━━━━━━━━━━━━━━━━━━━\u001b[0m \u001b[32m3.0/3.0 MB\u001b[0m \u001b[31m43.5 MB/s\u001b[0m eta \u001b[36m0:00:00\u001b[0m\n",
            "\u001b[?25h\u001b[31mERROR: pip's dependency resolver does not currently take into account all the packages that are installed. This behaviour is the source of the following dependency conflicts.\n",
            "transformers 4.47.1 requires tokenizers<0.22,>=0.21, but you have tokenizers 0.20.3 which is incompatible.\u001b[0m\u001b[31m\n",
            "\u001b[0m"
          ]
        }
      ]
    },
    {
      "cell_type": "code",
      "source": [
        "from langchain_community.document_loaders import WebBaseLoader\n",
        "from langchain_text_splitters import RecursiveCharacterTextSplitter\n",
        "from langchain_community.embeddings import HuggingFaceInferenceAPIEmbeddings\n",
        "from langchain.llms import HuggingFaceHub\n",
        "from langchain.vectorstores import Chroma\n",
        "from langchain_chroma import Chroma\n",
        "from langchain.chains import RetrievalQA"
      ],
      "metadata": {
        "id": "Ps0pz0pBuZEN",
        "colab": {
          "base_uri": "https://localhost:8080/"
        },
        "outputId": "e6a4b4b1-49f8-4545-cc75-d24080467805"
      },
      "execution_count": null,
      "outputs": [
        {
          "output_type": "stream",
          "name": "stderr",
          "text": [
            "WARNING:langchain_community.utils.user_agent:USER_AGENT environment variable not set, consider setting it to identify your requests.\n"
          ]
        }
      ]
    },
    {
      "cell_type": "code",
      "source": [
        "import os\n",
        "from getpass import getpass\n",
        "HF_token=getpass()"
      ],
      "metadata": {
        "colab": {
          "base_uri": "https://localhost:8080/"
        },
        "id": "PGFTxc2Omqvt",
        "outputId": "05bf1375-b934-4a5f-b73e-96336ba0399f"
      },
      "execution_count": null,
      "outputs": [
        {
          "name": "stdout",
          "output_type": "stream",
          "text": [
            "··········\n"
          ]
        }
      ]
    },
    {
      "cell_type": "code",
      "source": [
        "os.environ['HUGGINGFACEHUB_API_TOKEN']=HF_token"
      ],
      "metadata": {
        "id": "k1_1ygsLTGOL"
      },
      "execution_count": null,
      "outputs": []
    },
    {
      "cell_type": "code",
      "source": [
        "URL= \"https://en.wikipedia.org/wiki/Palakkad_district\""
      ],
      "metadata": {
        "id": "jlHv3LEfTlWF"
      },
      "execution_count": null,
      "outputs": []
    },
    {
      "cell_type": "code",
      "source": [
        "data=WebBaseLoader(URL)"
      ],
      "metadata": {
        "id": "L-dsNC7UUCug"
      },
      "execution_count": null,
      "outputs": []
    },
    {
      "cell_type": "code",
      "source": [
        "con=data.load()"
      ],
      "metadata": {
        "id": "isRAiY9LUL0O"
      },
      "execution_count": null,
      "outputs": []
    },
    {
      "cell_type": "code",
      "source": [
        "print(con)"
      ],
      "metadata": {
        "colab": {
          "base_uri": "https://localhost:8080/"
        },
        "id": "_FvvDeBcUR47",
        "outputId": "39bd0f2a-e478-449c-8ab9-da7685167146"
      },
      "execution_count": null,
      "outputs": [
        {
          "output_type": "stream",
          "name": "stdout",
          "text": [
            "[Document(metadata={'source': 'https://en.wikipedia.org/wiki/Palakkad_district', 'title': 'Palakkad district - Wikipedia', 'language': 'en'}, page_content='\\n\\n\\n\\nPalakkad district - Wikipedia\\n\\n\\n\\n\\n\\n\\n\\n\\n\\n\\n\\n\\n\\n\\n\\n\\n\\n\\n\\n\\n\\n\\n\\n\\n\\n\\n\\n\\n\\n\\n\\n\\n\\n\\n\\n\\nJump to content\\n\\n\\n\\n\\n\\n\\n\\nMain menu\\n\\n\\n\\n\\n\\nMain menu\\nmove to sidebar\\nhide\\n\\n\\n\\n\\t\\tNavigation\\n\\t\\n\\n\\nMain pageContentsCurrent eventsRandom articleAbout WikipediaContact us\\n\\n\\n\\n\\n\\n\\t\\tContribute\\n\\t\\n\\n\\nHelpLearn to editCommunity portalRecent changesUpload file\\n\\n\\n\\n\\n\\n\\n\\n\\n\\n\\n\\n\\n\\n\\n\\n\\n\\n\\n\\nSearch\\n\\n\\n\\n\\n\\n\\n\\n\\n\\n\\n\\nSearch\\n\\n\\n\\n\\n\\n\\n\\n\\n\\n\\n\\n\\n\\n\\n\\n\\n\\n\\n\\n\\n\\n\\nAppearance\\n\\n\\n\\n\\n\\n\\n\\n\\n\\n\\n\\n\\n\\n\\n\\n\\nDonate\\n\\nCreate account\\n\\nLog in\\n\\n\\n\\n\\n\\n\\n\\n\\nPersonal tools\\n\\n\\n\\n\\n\\nDonate Create account Log in\\n\\n\\n\\n\\n\\n\\t\\tPages for logged out editors learn more\\n\\n\\n\\nContributionsTalk\\n\\n\\n\\n\\n\\n\\n\\n\\n\\n\\n\\n\\n\\n\\n\\n\\n\\n\\n\\n\\n\\n\\n\\n\\n\\n\\n\\n\\nContents\\nmove to sidebar\\nhide\\n\\n\\n\\n\\n(Top)\\n\\n\\n\\n\\n\\n1\\nEtymology\\n\\n\\n\\n\\n\\n\\n\\n\\n2\\nHistory\\n\\n\\n\\n\\n\\n\\n\\n\\n3\\nAdministration\\n\\n\\n\\n\\nToggle Administration subsection\\n\\n\\n\\n\\n\\n3.1\\nKerala Legislative Assembly seats\\n\\n\\n\\n\\n\\n\\n\\n\\n3.2\\nMembers of Lok Sabha\\n\\n\\n\\n\\n\\n\\n\\n\\n3.3\\nSubdistricts (Taluks)\\n\\n\\n\\n\\n\\n\\n\\n\\n\\n\\n4\\nEconomy\\n\\n\\n\\n\\n\\n\\n\\n\\n5\\nTransport\\n\\n\\n\\n\\nToggle Transport subsection\\n\\n\\n\\n\\n\\n5.1\\nAir\\n\\n\\n\\n\\n\\n\\n\\n\\n5.2\\nRailways\\n\\n\\n\\n\\n\\n\\n\\n\\n5.3\\nRoad\\n\\n\\n\\n\\n\\n\\n\\n\\n\\n\\n6\\nDemographics\\n\\n\\n\\n\\nToggle Demographics subsection\\n\\n\\n\\n\\n\\n6.1\\nLanguages\\n\\n\\n\\n\\n\\n\\n\\n\\n\\n\\n7\\nTourist attractions\\n\\n\\n\\n\\nToggle Tourist attractions subsection\\n\\n\\n\\n\\n\\n7.1\\nSilent Valley National Park\\n\\n\\n\\n\\n\\n\\n\\n\\n\\n\\n8\\nNoted personalities\\n\\n\\n\\n\\n\\n\\n\\n\\n9\\nEducation in Palakkad\\n\\n\\n\\n\\n\\n\\n\\n\\n10\\nMedia\\n\\n\\n\\n\\n\\n\\n\\n\\n11\\nSports in Palakkad\\n\\n\\n\\n\\n\\n\\n\\n\\n12\\nMajor Towns in Palakkad District\\n\\n\\n\\n\\n\\n\\n\\n\\n13\\nGram panchayats in Palakkad District\\n\\n\\n\\n\\n\\n\\n\\n\\n14\\nSee also\\n\\n\\n\\n\\n\\n\\n\\n\\n15\\nReferences\\n\\n\\n\\n\\n\\n\\n\\n\\n16\\nFurther reading\\n\\n\\n\\n\\n\\n\\n\\n\\n17\\nSatellite Images\\n\\n\\n\\n\\n\\n\\n\\n\\n18\\nExternal links\\n\\n\\n\\n\\n\\n\\n\\n\\n\\n\\n\\n\\n\\n\\n\\n\\n\\n\\nToggle the table of contents\\n\\n\\n\\n\\n\\n\\n\\nPalakkad district\\n\\n\\n\\n32 languages\\n\\n\\n\\n\\nالعربيةবাংলা閩南語 / Bân-lâm-gúभोजपुरीCebuanoDeutschEspañolEuskaraفارسیFrançaisગુજરાતીहिन्दीBahasa IndonesiaItalianoಕನ್ನಡമലയാളംमराठीمصرىNederlandsनेपाल भाषाNorsk bokmålOccitanРусскийसंस्कृतम्ᱥᱟᱱᱛᱟᱲᱤSimple EnglishSvenskaதமிழ்తెలుగుاردوTiếng Việt中文\\n\\nEdit links\\n\\n\\n\\n\\n\\n\\n\\n\\n\\n\\n\\nArticleTalk\\n\\n\\n\\n\\n\\nEnglish\\n\\n\\n\\n\\n\\n\\n\\n\\n\\n\\n\\n\\n\\n\\n\\n\\n\\nReadEditView history\\n\\n\\n\\n\\n\\n\\n\\nTools\\n\\n\\n\\n\\n\\nTools\\nmove to sidebar\\nhide\\n\\n\\n\\n\\t\\tActions\\n\\t\\n\\n\\nReadEditView history\\n\\n\\n\\n\\n\\n\\t\\tGeneral\\n\\t\\n\\n\\nWhat links hereRelated changesUpload fileSpecial pagesPermanent linkPage informationCite this pageGet shortened URLDownload QR code\\n\\n\\n\\n\\n\\n\\t\\tPrint/export\\n\\t\\n\\n\\nDownload as PDFPrintable version\\n\\n\\n\\n\\n\\n\\t\\tIn other projects\\n\\t\\n\\n\\nWikimedia CommonsWikivoyageWikidata item\\n\\n\\n\\n\\n\\n\\n\\n\\n\\n\\n\\n\\n\\n\\n\\n\\n\\n\\n\\n\\n\\nAppearance\\nmove to sidebar\\nhide\\n\\n\\n\\n\\n\\n\\n\\n\\n\\nCoordinates: 10°46′30″N 76°39′04″E\\ufeff / \\ufeff10.775°N 76.651°E\\ufeff / 10.775; 76.651\\n\\nFrom Wikipedia, the free encyclopedia\\n\\n\\nDistrict in Kerala, India\\nThis article is about the district. For the city, see Palakkad.\\n\\n\\nDistrict in Kerala, IndiaPalakkadDistrict\\nClockwise from top:Palakkad Fort, Ottapalam town, Alathur town, Malampuzha Dam Water Canal, Pattambi town, Palakkad cityNickname:\\xa0The Granary of KeralaLocation in KeralaPalakkad districtCoordinates: 10°46′30″N 76°39′04″E\\ufeff / \\ufeff10.775°N 76.651°E\\ufeff / 10.775; 76.651Country\\xa0IndiaStateKeralaRegionSouth MalabarHeadquartersPalakkadGovernment\\xa0•\\xa0CollectorDr.S.Chitra IAS[1]\\xa0•\\xa0S.PR. Anand, IPS\\xa0•\\xa0DFONarendranath Veluri, IFSArea\\xa0•\\xa0Total4,482\\xa0km2 (1,731\\xa0sq\\xa0mi)\\xa0•\\xa0Rank2ndHighest\\xa0elevation (Anginda peak)2,383\\xa0m (7,818\\xa0ft)Population\\xa0(2018)[2]\\xa0•\\xa0Total2,952,254\\xa0•\\xa0Rank5\\xa0•\\xa0Density659/km2 (1,710/sq\\xa0mi)Languages\\xa0•\\xa0OfficialMalayalam, English[3]\\xa0•\\xa0Regional93.7% Malayalam4.8% Tamil1.5% Others\\n[4]Religions\\xa0•\\xa0Religion (2011)66.8% Hinduism28.9% Islam4.1% Christianity0.2% Others[5]Time zoneUTC+5:30 (IST)ISO 3166 codeIN-KL-PKDVehicle registrationKL-09 Palakkad, KL-49 Alathur, KL-50 Mannarkkad, KL-51 Ottappalam, KL-52 Pattambi, KL-70 Chittur-ThathamangalamHDI (2005) 0.761[6] ( High)Literacy89.31%[7]Websitewww.palakkad.nic.in\\nPalakkad (Malayalam: [pɐːlɐkːɐːɖɨ̆] ⓘ) is one of the 14 districts in the Indian state of Kerala. It was carved out of the southeastern region of the former Malabar District on 1 January 1957. It is located at the central region of Kerala and is the second largest district in the state after Idukki. The city of Palakkad is the district headquarters. Palakkad is bordered on the northwest by the Malappuram district, on the southwest by the Thrissur district, on the northeast by Nilgiris district, and on the east by Coimbatore district of Tamil Nadu. The district is nicknamed \"The granary of Kerala\". Palakkad is the gateway to Kerala due to the presence of the Palakkad Gap, in the Western Ghats. The 2,383 m high Anginda peak, which is situated in the border of Palakkad district, Nilgiris district, and Malappuram district, in Silent Valley National Park, is the highest point of elevation in Palakkad district. Palakkad city is about 347 kilometres (216\\xa0mi) northeast of the state capital, Thiruvananthapuram.\\nThe total area of the district is 4,480\\xa0km2 (1,730\\xa0sq\\xa0mi) which is 11.5% of the state\\'s area which makes it the second largest district of Kerala. Out of the total area of 4,480\\xa0km2 (1,730\\xa0sq\\xa0mi), about 1,360\\xa0km2 (530\\xa0sq\\xa0mi) of land is covered by forests. Most parts of the district fall in the midland region (elevation 75–250\\xa0m or 246–820\\xa0ft), except the Nelliampathy-Parambikulam area in the Chittur taluk in the south and Attappadi-Malampuzha area in the north, which are hilly and fall in the highland region (elevation > 250\\xa0m or 820\\xa0ft). Attappadi valley of Palakkad district, along with the Chaliyar valley of the neighbouring Nilambur region (Eastern Eranad region) in Malappuram district, is known for natural Gold fields,[8] which is also seen in other parts of Nilgiri Biosphere Reserve.\\nThe climate is pleasant for most parts of the year, the exception is the summer months. There is sufficient rainfall and it receives more rainfall than the extreme southern districts of Kerala. The district has many small and medium rivers, which are tributaries of the Bharathapuzha River. A number of dams have been built across these rivers, the largest being the Malampuzha dam. The largest in volume capacity is the Parambikulam Dam[9] Bhavani River, which is a tributary of Kaveri River, also flows through the district. Kadalundi River has its origin in Silent Valley National Park. The Chalakudy River also flows through district.\\nPalakkad district have total number of seven municipalities.The largest city in the district is the Palakkad municipality.[10] The municipalities in the district are Palakkad city, Ottapalam, Shornur, Chittur-Tattamangalam, Pattambi, Cherpulassery and Mannarkkad.[11] Out of the total Palakkad District population for 2011 Census of India, 24.09 percent lives in urban regions of district. In total 676,810 people lives in urban areas of which males are 328,012 and females are 348,798. Sex Ratio in urban region of Palakkad District is 1063 as per 2011 Census of India data. Similarly child sex ratio in Palakkad District was 959 in 2011 census. Child population (0–6) in urban region was 70,405 of which males and females were 35,933 and 34,472. This child population figure of Palakkad district is 10.95% of total urban population.\\n\\n\\nEtymology[edit]\\nIn earlier times, Palakkad was also known as Palakkattussery.[12] Many concluded that Palakkad is derived from \\'Pala\\', an indigenous tree which once densely occupied the land; and hence Palakkad or \"the forest of Pala trees\".Some believe, connecting the ancient Jain Temple in the town, that the sacred language Pali gave the name.[13] In 1757, to check the invasion of the Zamorin of Calicut, the Palakkad Raja sought the help of Hyder Ali of Mysore. Later his son Tipu sultan became the ruler.\\nBefore the Indian Independence, present-day Kerala state was scattered in South Canara, Malabar District of British India, and two princely states namely Cochin and Travancore. The first All-Kerala conference of Indian National Congress was held in 1921 at Ottapalam on the banks of the river Bharathappuzha, which also later demanded a separate state for the Malayalam-speaking regions in future Independent India. Kerala Pradesh Congress Committee was formed in that conference. Before that, Malabar District, Cochin, and Travancore had separate Congress committees. Ottapalam is located right in the middle of Kerala state.\\n\\nHistory[edit]\\nSee also: Palakkad, Zamorin of Calicut, Nedungadi, and Kingdom of Valluvanad\\nThe region around Coimbatore was ruled by the Cheras during Sangam period between c. first and the fourth centuries CE and it served as the eastern entrance to the Palakkad Gap, the principal trade route between the Malabar Coast and Tamil Nadu.[14] Palakkad city, which lies on the northern bank of the River Bharathappuzha, was ruled by the Palakkad Rajas (Tarur Swaroopam).[15] Palakkad Raja had the right over the Taluks of Palakkad, Alathur, and Chittur.[15] The original headquarters of Palakkad Rajas were at Athavanad, Tirur Taluk, in present-day Malappuram district.[15] It is said that their lands at Athavanad area were given to the Azhvanchery Thamprakkal and the Palakkad-Chittur areas were bought from them instead.[15]\\nPattambi-Ottapalam Taluk were ruled by the Zamorin of Calicut, and Mannarkkad Taluk was a part of the Kingdom of Valluvanad, which was also later annexed by the Zamorin.[15] Pattambi – Ottapalam areas were originally a part of Nedunganad (ruled by Nedungadis, which was later annexed by the Kingdom of Valluvanad, which was again followed by the conquest of the Zamorin of Calicut around 15th century C. E.[15] Nedunganad was ruled by a Samanthan Nair clan known as Nedungadis, similar to the Eradis of Eranad and Vellodis of Valluvanad. Other kingdoms in Palakkad district during medieval period included Kollengode and Kavalappara.[15] Both of them became a part of the kingdom of Zamorin of Calicut around 15th century CE.[15] Parts of Palakkad had also become under the Zamorin for sometime.[15]\\nIn 1757, to resist the invasion of the Zamorin of Kozhikode, the Palakkad Raja sought the help of the Hyder Ali of Mysore.[16] In 1766, Hyder Ali defeated the Zamorin of Kozhikode – an East India Company ally at the time – and absorbed Kozhikode into his state.[16] The Hyder Ali rebuilt Palakkad Fort in 1766.[17] The smaller princely states in northern and north-central parts of Kerala (comprising Malabar District) including Kolathunadu, Kottayam, Kadathanadu, Kozhikode, Tanur, Valluvanad, and Palakkad were unified under the rulers of Mysore and were made a part of the larger Kingdom of Mysore.[18] His son and successor, Tipu Sultan, launched campaigns against the expanding British East India Company, resulting in two of the four Anglo-Mysore Wars.[19][20]\\n\\nMalabar District in 1951\\nTipu ultimately ceded the Malabar District and South Kanara to the company in the 1790s as a result of the Third Anglo-Mysore War and the subsequent Treaty of Seringapatam; both were annexed to the Bombay Presidency (which had also included other regions in the western coast of India) of British India in the years 1792 and 1799 respectively.[21][22][23] Later in 1800, both of the Malabar District and South Canara were separated from Bombay presidency to merge them with the neighbouring Madras Presidency.[24] Palakkad was under British Raj until 1947.\\nThe municipality of Palakkad was formed on 1 November 1866 according to the Madras Act 10 of 1865 (Amendment of the Improvements in Towns act 1850)[25][26][27][28] of the British Indian Empire, along with the municipalities of Kozhikode, Kannur, Thalassery, and Fort Kochi, making them the first modern municipalities in the modern state of Kerala.\\nPresent-day Palakkad district was a part of Malabar District before the formation of Palakkad district.[29][17] Thrithala Revenue block of present-day Pattambi Taluk was a part of the Ponnani taluk.[30] Rest of Pattambi Taluk, Ottapalam, and Mannarkkad Taluks were included in the Valluvanad Taluk of Malappuram Revenue Division in Malabar District.[17][31] The remaining three Taluks of current Palakkad district (Palakkad, Alathur, and Chittur) together formed the Palghat Taluk of Malabar District during British Raj.[17][31]\\nAt the time of 1951 Census of India, Palakkad was the second-largest city in the erstwhile Malabar District after Kozhikode.[32] At that time only two towns in Malabar was treated as cities: Kozhikode and Palakkad.[32] Following the formation of the state of Kerala in 1956, the erstwhile Taluk of Palakkad in Malabar District was divided into three: Palakkad, Alathur.[24] Palakkad district was formed by taking parts of the erstwhile Malabar District.[31] On 16 June 1969, Perinthalmanna taluk and Ponnani taluk were separated to form Malappuram district.[30] On same day, Parudur village of Tirur Taluk was transferred to Palakkad district.[30][33] Later some years, the Silent Valley National Park of Karuvarakundu village in Eranad Taluk (now Karuvarakundu is a part of Nilambur Taluk) of Malappuram district was transferred Mannarkkad Taluk in Palakkad district.[33]\\n\\nAdministration[edit]\\nMain article: Political Divisions of Palakkad District\\nKerala Legislative Assembly seats[edit]\\nLegislative Assembly constituencies with their limits\\nThere are 12 legislative assembly seats in Palakkad.\\n\\n\\nKerala Legislative Assembly Constituencies from Palakkad district (12)\\n\\n\\nSl no.\\n\\nConstituency\\n\\nMember\\n\\nParty\\n\\nAlliance\\n\\n\\n1\\nThrithala\\nM. B. Rajesh\\nCPI(M)\\n\\xa0\\xa0LDF\\n\\n\\n2\\nPattambi\\nMuhammed Muhsin\\nCPI\\n\\xa0\\xa0LDF\\n\\n\\n3\\nShornur\\nP. K. Sasi\\nCPI(M)\\n\\xa0\\xa0LDF\\n\\n\\n4\\nOttapalam\\nP. Unni\\nCPI(M)\\n\\xa0\\xa0LDF\\n\\n\\n5\\nKongad\\nK. Shanthakumari\\nCPI(M)\\n\\xa0\\xa0LDF\\n\\n\\n6\\nMannarkkad\\nN. Samsudheen\\nIUML\\n\\xa0\\xa0UDF\\n\\n\\n7\\nMalampuzha\\nPrabhakaran\\nCPI(M)\\n\\xa0\\xa0LDF\\n\\n\\n8\\nPalakkad\\nShafi Parambil\\nINC\\n\\xa0\\xa0UDF\\n\\n\\n9\\nTarur\\nA. K. Balan\\nCPI(M)\\n\\xa0\\xa0LDF\\n\\n\\n10\\nChittur\\nK. Krishnankutty\\nJD(S)\\n\\xa0\\xa0LDF\\n\\n\\n11\\nNenmara\\nK. Babu\\nCPI(M)\\n\\xa0\\xa0LDF\\n\\n\\n12\\nAlathur\\nK. D. Prasenan\\nCPI(M)\\n\\xa0\\xa0LDF\\n\\nMembers of Lok Sabha[edit]\\nThere are two Lok Sabha seats in Palakkad district.\\n\\n\\n\\nSl. No\\n\\nConstituency\\n\\nMP\\n\\nParty\\n\\nAlliance\\n\\n\\n1\\nPalakkad\\nV.K Sreekandan\\nINC\\n\\xa0\\xa0UDF\\n\\n\\n2\\nAlathur\\nK. Radhakrishnan\\nCPI(M)\\n\\xa0\\xa0LDF\\n\\n\\n3\\nPonnani(Thrithala only)\\nE. T. Mohammed Basheer\\nIUML\\n\\xa0\\xa0UDF\\n\\nSubdistricts (Taluks)[edit]\\nUnder the amended Indian Constitution, decentralized planning has been implemented in the state. The headquarters of the District Panchayat is at Palakkad Municipal town. The District Panchayat office building is near the Civil Station.\\nTaluks of Palakkad\\n\\n\\n\\n\\n\\nSubdistrict\\n\\nArea(in km2)\\n\\nPopulation(2011)\\n\\nVillages\\n\\n\\nPattambi\\n369\\n467,722\\n18\\n\\n\\nOttapalam\\n477\\n462,970\\n24\\n\\n\\nMannarkkad\\n1,209\\n384,393\\n25\\n\\n\\nPalakkad\\n713\\n612,116\\n30\\n\\n\\nChittur\\n1,136\\n437,738\\n30\\n\\n\\nAlathur\\n571\\n444,995\\n30\\n\\n\\nSources: 2011 Census of India,[34] Official website of Palakkad district[35]\\n\\n\\nEconomy[edit]\\nStadium bypass, developing brand streetGrowing Skyline of Palakkad city\\nUpcoming Shopping Mall in Kanjikode\\nThe presence of Palakkad Gap and proximity to Coimbatore make Palakkad economically important. Palakkad city is one of the largest industrial hubs in Kerala. Kanjikode area of Palakkad city is the second industrial hub of Kerala after Kochi. Kanjikode is one of the largest industrial areas in Kerala and companies like Indian Telephone Industries Limited (ITI), Instrumentation Limited, Fluid Control Research Institute, Saint-Gobain India Private Limited (formerly SEPR Refractories India Private Limited), Patspin India Ltd, Pepsi, PPS steel (Kerela) Pvt Ltd, United breweries, Empee Distilleries, Marico, Bharat Earth Movers Limited (BEML), Rubfila International Ltd, Arya Vaidya Pharmacy have production facilities. \\nThe commercialization of Palakkad City is Picking up and growing at steady pace in recent years, Nowadays Palakkad City and the suburbs are witnessing rapid amount of commercial and public development activities. The developments are mainly concentrated on the bypass roads, Both Stadium and Calicut bypass roads passing through city are getting major commercial projects. Major national and international branded Retail chains, food Chains, Restaurants, Hotels, Shopping complexes, Textiles, branded jewellers, Vehicle Showrooms, are functioning in and around city. There are many housing colonies consist of Villas and apartments are also present in Palakkad City and suburbs.\\n\\nTransport[edit]\\nPalakkad Junction Railway StationKSRTC Bus terminal, Palakkad\\nShoranur Junction railway stationA view of the railway bridge over the river Bharathappuzha at Shoranur\\nAir[edit]\\nThe nearest international airport is Coimbatore International Airport, which is about 62 kilometres (39\\xa0mi) from Palakkad. However, Cochin International Airport and Calicut International Airport serve the city as well.\\nThere has been a proposal for a mini domestic airport at East Yakkara with respect to setting up domestic airports for enhanced air connectivity by the civil aviation ministry of India. 60 acres has been identified for the project at East Yakkara Palakkad.[36]\\n\\nRailways[edit]\\nThe Palakkad railway division is one of the six administrative divisions of the Southern Railway zone of Indian Railways, headquartered at Palakkad. It is the smallest railway division in Southern Railway. It was formed by dissolving the Podanur division. Managing 588 route kilometers of track in the states of Kerala, Tamil Nadu, Karnataka and Mahé (in the Union Territory of Puducherry), it is one of the oldest railway divisions in India. The major stations under this railway division are Palakkad Junction, Shoranur Junction, Tirur, Kozhikode, Thalassery, Kannur, Kasaragod, Mangalore Central, Mangalore Junction and Pollachi Junction. It is the only division in India with no terminal facilities in its headquarters.\\nThe terminal facility of Palakkad division is situated in Shoranur Junction & Mangalore Central of Karnataka state.\\nThe city is served by two railway stations – Palakkad Junction is a broad gauge railway junction (located at Olavakkode, about 4\\xa0km from Municipal bus stand) and Palakkad Town railway station located in the heart of the Palakkad city. The cities of Coimbatore, Tiruchirappalli, Erode, Salem, Thiruvananthapuram, Kollam, Mangalore, Kozhikode and Ernakulam are connected by the broad gauge line. Train services to Pollachi, Dindigul and Madurai are through the broad gauge line through Palakkad Town station.[37] The Shornur Junction also has rail connections to Mangalore and the Konkan Railway, enabling travel towards Goa and Bombay. The trains coming from other parts of India are diverted to the north and south Kerala from Shoranur Junction in Palakkad District. From here, there is train service to Calicut, Ernakulam, Trivandrum, Shoranur and Nilambur.\\nShoranur Junction railway station is the largest railway station in Kerala which plays a major role in connecting the southwestern coast of India (Mangalore) with the southeastern coast (Chennai) through Palghat Gap. It is also the meeting point of three important Railway lines: Mangalore-Chennai line, Nilambur–Shoranur line, and Kanyakumari-Shoranur line, due to the presence of Palakkad Gap.\\n\\nRoad[edit]\\nPalakkad has a medium-grade network of roads. The National Highway 544 from Salem to Kochi passes through the outskirts of the city.National Highway 966 starts from Palakkad and joins NH 66 near Kozhikode.[38]  Another important road is the Palakkad – Ponnani road which connects NH 544 and Mumbai-Kanyakumari coastal NH 66.\\nPalakkad City has four Bus Stations includes KSRTCTerminal Palakkad and three Private Bus stands named Stadium Stand, Municipal Bus stand, and Town Bus Stand. Palakkad KSRTC depot is the only depot in Palakkad district. Sub depot is present at Chittur serving Chittur-Thathamangalam. Operating centres are present at Vadakkenchery and Mannarkkad serving the respective towns. KSRTC Station Master office is present at Pattambi.[39]\\n\\nDemographics[edit]\\nHistorical populationYearPop.±% p.a.1901763,917—\\xa0\\xa0\\xa0\\xa01911819,726+0.71%1921853,988+0.41%1931941,286+0.98%19411,025,058+0.86%19511,214,208+1.71%19611,369,508+1.21%19711,685,347+2.10%19812,044,399+1.95%19912,382,235+1.54%20012,617,482+0.95%20112,809,934+0.71%20182,952,254+0.71%source:[40]\\n\\n\\n\\nReligions in Palakkad district (2011)[5]\\n\\nReligion\\n\\nPercent\\n\\n\\nHinduism\\n\\u2009\\n66.76%\\n\\n\\nIslam\\n\\u2009\\n28.93%\\n\\n\\nChristianity\\n\\u2009\\n4.07%\\n\\n\\nOther or not stated\\n\\u2009\\n0.24%\\n\\n\\n\\n\\nAccording to the 2018 Statistics Report, Palakkad district has a population of 2,952,254,[2] roughly equal to the nation of Armenia[41] or the state Utah in the U.S.[42] so it a ranking of 138th in India (out of a total of 640).[7] The district has a population density of 659 inhabitants per square kilometre (1,710/sq\\xa0mi).[7] Its population growth rate over the decade 2001–2011 was 7.39%.[7] Palakkad has a sex ratio of 1067 females for every 1000 males.[7] The literacy rate of Palakkad district is 89.49%, which is the lowest in Kerala.[43] Scheduled Castes and Scheduled Tribes make up 14.37% and 1.74% of the population respectively.[7] The district is home to the largest ratio of Scheduled Castes (SC) population in Kerala, which accounts for around 15% of total population of the district.[44]\\nThe total Palakkad District population living in rural areas is 2,133,124 of which males and females are 1,031,466 and 1,101,658 respectively. In rural areas of Palakkad District, sex ratio is 1068 females per 1000 males. If child sex ratio data of Palakkad district is considered, figure is 969 girls per 1000 boys. Child population in the age 0–6 is 231,892 in rural areas of which males were 117,763 and females were 114,129. The child population comprises 11.42% of total rural population of Palakkad district. Literacy rate in rural areas of Palakkad District is 88.31% as per census data 2011. Gender wise, male and female literacy stood at 92.36 and 84.56 percent respectively. In total, 1,678,895 people were literate of which males and females were 843,855 and 835,040 respectively.\\nIn 2011, Palakkad had population of 2,809,934 of which male and female were 1,359,478 and 1,450,456 respectively. In 2001 census, Palakkad had a population of 2,617,482 of which males were 1,266,985 and remaining 1,350,497 were females. Palakkad District population constituted 8.41 percent of total Kerala population in the census of 2011. In 2001 census, this figure for Palakkad District was at 8.22 percent of Kerala population.[7]\\nIn the 2011 Census of India there was change of 7.35 percent in the population compared to population as per 2001. In the previous census of India 2001, Palakkad District recorded increase of 9.88 percent to its population compared to 1991. The initial provisional data released by census India 2011, shows that density of Palakkad district for 2011 is 627 people per km2. In 2001, Palakkad District density was at 584 people per km2. Palakkad District administers 4,482 square kilometers of areas. Average literacy rate of Palakkad in 2011 were 89.31 compared to 84.35 of 2001. If things are looked out at gender wise, male and female literacy were 93.10 and 85.79 respectively. For 2001 census, same figures stood at 89.52 and 79.56 in Palakkad District. Total literate in Palakkad District were 2,239,492 of which male and female were 1,122,600 and 1,116,892 respectively. In 2001, Palakkad District had 1,938,818 in its district, With regards to Sex Ratio in Palakkad, it stood at 1067 per 1000 male compared to 2001 census figure of 1066. The average national sex ratio in India is 940 as per latest reports of Census 2011 Directorate. In 2011 Census of India, child sex ratio is 967 girls per 1000 boys compared to figure of 963 girls per 1000 boys of 2001 census data.[7]\\nThere were total 302,297 children under age of 0–6 against 318,884 of 2001 census. Of total 302,297 male and female were 153,696 and 148,601 respectively. Child Sex Ratio as per 2011 Census of India was 967 compared to 963 of census 2001. In 2011, Children under 0–6 formed 10.76 percent of Palakkad District compared to 12.18 percent of 2001. There was net change of −1.42 percent in this compared to previous census of India.[7]\\n\\nLanguages[edit]\\n\\n\\n\\n\\n\\n\\n\\n\\n\\nLanguages of Palakkad district (2011)[4]\\n\\n\\xa0\\xa0Malayalam (93.71%)\\xa0\\xa0Tamil (4.82%)\\xa0\\xa0Others (1.47%)\\n\\n\\nAt the time of the 2011 census, 93.71% of the population spoke Malayalam and 4.82% Tamil as their first language.[4]\\nThe administrative language and widely spoken language is Malayalam. Minority Dravidian languages like Irula (3560 speakers) and Kurumba (1028 speakers) are also spoken here. According to the 2011 census report, the percents of mother tongue of the total population is as follows:\\n\\nTourist attractions[edit]\\nVarikkasseri Mana-one of the oldest traditional Namboothiri family houses (illam) in KeralaMalampuzha Dam EntrancePothundi Dam constructed in 19th century (British period), is one of the oldest dams in India\\nSilent Valley National ParkNelliampathi mountainsParambikulam Wildlife Sanctuary\\n\\nAttappadi Reserve Forest\\nDhoni Waterfalls\\nElivai Mala\\nFantasy Park\\nKanjirapuzha Dam\\nKannimara Teak[45]\\nKarimpuzha Kovilakam\\nKollengode\\nMalampuzha Dam\\nMalampuzha Garden\\nMampara peak (Raja\\'s cliff)\\nMangalam Dam\\nMeenvallam Waterfalls\\nMeenkara Dam\\nNelliampathi hillstation\\nPalakkad Fort\\nParambikulam Dam\\nParambikulam Tiger Reserve\\nPothundi Dam\\nSilent Valley National Park\\nSiruvani Dam\\nSiruvani Waterfalls\\nVarikkasseri Mana\\nWalayar Dam\\nSekharipuram\\nSilent Valley National Park[edit]\\nMain article: Silent Valley National Park\\nSee also: Attappadi\\nIt is located in the rich biodiversity of Nilgiri Biosphere Reserve. Karimpuzha Wildlife Sanctuary, New Amarambalam Reserved Forest, and Nedumkayam Rainforest in Nilambur Taluk of Malappuram district, Attappadi Reserved Forest in Mannarkkad Taluk of Palakkad district, and Mukurthi National Park of Nilgiris district, are located around Silent Valley National Park. Mukurthi peak, the fifth-highest peak in South India, and Anginda peak are also located in its vicinity. Bhavani River, a tributary of Kaveri River, and Kunthipuzha River, a tributary of Bharathappuzha river, originate in the vicinity of Silent Valley. The Kadalundi River has also its origin in Silent Valley.\\n\\n View of the Western Ghats Mountain Range from Mangalam Dam Reservoir\\nNoted personalities[edit]\\nMain article: List of people from Palakkad district\\nMaythil Radhakrishnan\\nV. T. Bhattathiripad\\nC. P. Mohammed\\nMajor Ravi\\nAnumol\\nManikandan Pattambi\\nKaushik Menon (Playback Singer)\\nKalamandalam Gopi\\nM.G. Sasi\\nShivaji (Malayalam actor)\\nAnita Nair\\nE Sreedharan (Metroman of India)\\nKunchan Nambiar\\nK. P. Kesava Menon (Idealist, Founder of Mathrubhoomi)\\nMethil Devika\\nM. T. Vasudevan Nair\\nO. V. Vijayan\\nM. B. Rajesh\\nK. Sankaranarayanan\\nSudev Nair\\nShashi Tharoor\\nT. N. Seshan (Former Chief Election Commissioner)\\nP. R. Pisharoty (Kollengode, Father of remote sensing in India)\\nM. G. Ramachandran (Actor and former Chief Minister of Tamil Nadu)\\nNiranjan EK(Decorated Military officer)\\nVidya Balan (Bollywood actress)\\nShankar Mahadevan (Singer)\\nStephen Devassy (Pianist)\\nPriyamani (Actress)\\nRaghuvaran (Actor)\\nP R Nathan (Novelist, writer)\\nSwarnalatha (Singer)\\nUnni Mukundan (actor)\\nGovind Padmasoorya (actor)\\n\\nM.P. Sankunni Nair (Novelist)\\nPalghat Mani Iyer (Mridangist)\\nKocheril R. Narayanan (former president of india)\\nV P Menon\\nOlappamanna\\nO V Vijayan\\nAkkitham Achuthan Namboothiri\\nMalayattoor Ramakrishnan\\nO M C Narayanan Nambudiripad\\nK. S. Sethumadhavan\\nP. Unnikrishnan\\nOttapalam Pappan, Malayalam Drama and Film Actor\\nGautham Vasudev Menon, Tamil Film director\\nLal Jose, Malayalam film director\\nAnil Radhakrishnan Menon, Malayalam film director\\nBhaskar Menon, first Indian to head a multinational corporation, chairman of Lever Brothers (now Unilever)\\nK. P. S. Menon, first Foreign Secretary of India. He also served pre-independence India as an Agent-General to China\\nM. G. K. Menon, former Union Minister and Scientific Adviser in the Rajiv Gandhi administration\\nKP Candeth, was a prominent Lieutenant General in the Indian army\\nShivshankar Menon, 4th National Security Advisor and 26th foreign secretary\\nM. K. Narayanan, the former chief of the Intelligence Bureau and former National Security Adviser\\nK. Sankaran Nair, former director of Research and Analysis Wing and former High Commissioner of India to Singapore\\nC. Venkataraman Sundaram, former director of Indira Gandhi Centre for Atomic Research and Padma Bhushan recipient[46]\\nDhruvan, Malayalam Film Actor\\nSrinish Aravind, Television Actor\\nEducation in Palakkad[edit]\\nMain article: Education in Palakkad district\\nGovernment Victoria College, PalakkadIndian Institute of Technology, Palakkad\\nNSS College of Engineering, PalakkadB. E. M. Higher Secondary School, Palakkad\\nPalakkad District is one of the main centre of education in Kerala state India. Palakkad District has Prominent Educational Institutions provide platform for various level of education . The district is home to the only Indian Institute of Technology in Kerala state. Palakkad District has three educational districts namely Palakkad, Ottappalam and Mannarkkad.[47] There are several educational institutions working across the district. Government Victoria College, Palakkad, Government Engineering College, Sreekrishnapuram, NSS College of Engineering, Government Medical College, Palakkad, Chembai Memorial Government Music College, and many more higher level of educational institutions are located in \\nPalakkad District.\\nGovernment Victoria College, Palakkad, established in 1866, is one of the oldest colleges in the state.[48] The Government Medical College, Palakkad[49] is started in 2014 is the first Government medical college in the district. The NSS College of Engineering[50] at Akathethara, is the Fourth Engineering Institution established in Kerala, India. The Chembai Memorial Government Music College[51] is one of the main centres of excellence in teaching carnatic music in the state. The Mercy College, Palakkad[52] a women\\'s college established in 1964 is one of the familiar institution in Palakkad city.\\n\\n\\nIIT Palakkad\\nVictoria College\\nGovernment Medical College, Palakkad\\nNSS College of Engineering\\nGovernment Engineering College, Sreekrishnapuram\\nMES Kalladi College, Mannarkkad\\nDistrict Public library, Palakkad\\nChembai Memorial Government Music College, Palakkad (est. 2000)\\nNSS College, Ottapalam, Palakkad (est. 1961)\\nNSS College, Nenmara, Palakkad (est. 1967)\\nGovernment College, Chittur\\nSree Neelakanta Government Sanskrit College Pattambi\\nAl-Ameen Engineering College, Shornur Palakkad\\nKaruna Medical College, Vilayodi Palakkad\\nMercy College, Palakkad\\nCollege of Applied Science, Vadakkencherry, Palakkad (est. 1993)\\nSreekrishnapuram VT Bhattathiripad College\\nIndustrial training institute, Malampuzha\\nGovernment polytechnic, Kodumbu, Palakkad\\nSreenarayana college, Alathur\\nSree Neelakanta Government Sanskrit College Pattambi\\nYuvakshetra Institute of Management Studies\\nRegional Agricultural Research Station, Pattambi, Palakkad\\nPK DAS Institute of Medical Sciences, Ottapalam\\nKerala Medical College, Mangode, Palakkad\\nNajath Arts and Science College, Mannarkkad, Palakkad\\nCollege of Applied Science, Malampuzha, Kalleppully, Palakkad (est. 2008)\\nCollege of Applied Science, Kuzhalmannam, Kottayi, Palakkad (est. 2008)\\nCollege of Applied Science, Attappadi, Palakkad (est. 2010)\\nCollege of Applied Science, Ayalur, Palakkad (est. 2012)\\nA.W.H. College of Science and Technology, Palakkad\\nInstitute for Communicative and Cognitive Neuro Sciences, Palakkad\\nKaruna Arts and Science College, Palakkad\\nM.P.M.M.S.N. Trust College, Shornur\\nMinority Arts and Science College, Padinjarangadi\\nRoyal Institute of Science and Technology, Palakkad\\nSree Neelakanda Govt. Sanskrit College, Pattambi\\nSreekrishnapuram V.T. Bhattathiripad College,\\nMannampatta\\n\\nThunchath Ezhuthachan College of Management, Information Technology and Biotechnology, Palakkad\\nV.V. College of Science and Technology, Palakkad\\nYuvakshethra Institute of Management Studies, Palakkad\\nAhalia Ayurveda Medical College, Palakkad\\nPoomulli Neelakandan Nampoodiripad Memorial Ayurveda Medical College, Shoranur\\nSanthigiri Ayurveda Medical College, Olassery Palakkad\\nVishnu Ayurveda College, Shoranur\\nAhalia School of Engineering & Technology, Palakkad\\nAmmini College of Engineering\\nChathanmkulam Institute of Research and Advanced Studies, Menonpara\\nJawaharlal College of Engineering and Technology, Mangalam\\nPrime College of Engineering\\nSreepathy Institute of Management and Technology\\nNDFC Technical Institute & College for the Deaf, Shangaramangalam, Pattambi, Palakkad\\nGovernment Arts & Science College, Pathirippala, Palakkad\\nGovt. Arts and Science College, Kozhinjampara\\nGovt. Arts and Science College, Nattukal, Palakkad\\nRajiv Gandhi Memorial Govt Arts & Science College, Attappadi, Palakkad (est. 2012)\\nMedia[edit]\\nMajor Malayalam Newspapers include Malayala Manorama,Mathrubhumi, Deshabhimani, Suprabhaatham Daily have printing centers in Palakkad city and there are also few evening newspapers published from the city. Local news channels like (ACV) are also functioning in city . Palakkad Press Club is located on Robinson road, Sultanpet. A private FM Station operating in Palakkad at Ahalia Campus. There is a long term demand for setting up a government FM Station in Palakkad. At the present total number of 8 cinema halls are operational in Palakkad City which screens Malayalam, English, Tamil, Hindi movies, there are few other multiplex screens are under construction and expect to open near future in and around city.\\n\\nSports in Palakkad[edit]\\nPalakkad has produced some world class athletes. Indira Gandhi Municipal Stadium in the center of city was once used for Major sports meets and football matches in the state, but the stadium is not currently in condition for conducting games due to the lack of maintenance. There is a proposal for the renovation of the stadium with international facilities by the Municipality.[53] The city has Fort Maidan[54] also known as Kota Maidanam, a multi-use stadium in the center of the Palakkad. It is currently used mostly for cricket matches. Fort Maidan holds a maximum capacity of 10,000 people. Until 2002, the ground was considered for local cricket only.[55] In 2003, the Ranji Trophy was introduced in Fort Maidan. The city has an Indoor Stadium[56] located near Government Victoria College, Palakkad with a total area of 100,000 square feet (9,300\\xa0m2) with commercial establishments still unfinished and incomplete. There is a Synthetic Track with eight lines operational in the ground of the newly constructed Government Medical College, Palakkad.[57]\\n\\nMajor Towns in Palakkad District[edit]\\nOttapalam townPattambi Town\\nVadakkencherry TownAlathur Town\\n\\nPalakkad\\nOttappalam\\nPattambi\\nMannarkkad\\nCherpulassery\\nKollengode\\nChittur-Thathamangalam\\nShornur\\nAlathur\\nVadakkencherry\\nKoduvayur\\nNemmara\\nKozhinjampara\\n[58]\\n\\nGram panchayats in Palakkad District[edit]\\n\\nAgali (gram panchayat)\\nAlanallur\\nAlathur\\nAmbalappara\\nAnakkara (Palakkad)\\nAnanganadi\\nAyiloor (gram panchayat)\\nChalavara\\nChalissery\\nElappully\\nElavancherry\\nErimayur\\nEruthampathy (gram panchayat)\\nKadampazhipuram\\nKanjirampuzha (gram panchayat)\\nKannadi\\nKappur (Palakkad district)\\nKarimba, Palakkad\\nKarimpuzha, Palakkad\\nKavasseri\\nKeralasseri\\nKizhakkancherry\\nKodumba\\nKoduvayur (gram panchayat)\\nKollengode, Palakkad\\nKongad (gram panchayat)\\nKoppam\\nKottappadam (gram panchayat)\\nKottayi (gram panchayat)\\nKozhinjampara (gram panchayat)\\nKulukkallur\\nKumaramputhur (gram panchayat)\\nKuthannoor (gram panchayat)\\nKuzhalmannam (gram panchayat)\\nMankara\\nMannur\\nMarutharode\\nMathur (gram panchayat)\\nMelarcode\\nMundur, Palakkad\\nMuthalamada, Palakkad\\nMuthuthala\\nNagalassery\\nNalleppilly (gram panchayat)\\nNellaya Gramapanchayath\\nNelliampathi\\nNemmara (gram panchayat)\\nOngallur (gram panchayat)\\nPallassena\\nParali grama panchayat\\nParudur\\nPattencherry (gram panchayat)\\nPeringottukurissi (gram panchayat)\\nPerumatty (gram panchayat)\\nPeruvemba\\nPirayiri\\nPolpully\\nPuducode\\nPudur, Palakkad\\nPudusseri (gram panchayat)\\nPuthunagaram\\nSholayar (gram panchayat)\\nTachampara (gram panchayat)\\nTarur (gram panchayat)\\nThenkara\\nThenkurissi (gram panchayat)\\nThirumittacode (gram panchayat)\\nThiruvegappura\\nVadakarapathy (gram panchayat)\\nVadakkencherry (gram panchayat)\\nVadavannur\\nVallapuzha\\nVandazhy (gram panchayat)\\nVaniamkulam (gram panchayat)\\nVilayur\\n[59]\\n\\nSee also[edit]\\nPalakkad\\nPalakkad Industrial Smart City\\nEducation in Palakkad district\\nNedunganad\\nDistricts of Kerala\\nPolitical Divisions of Palakkad District\\n\\nReferences[edit]\\n\\n\\n^ \"About District\". Palakkad District. Retrieved 6 December 2021.\\n\\n^ a b Annual Vital Statistics Report – 2018 (PDF). Thiruvananthapuram: Department of Economics and Statistics, Government of Kerala. 2020. p.\\xa055.\\n\\n^ \"The Kerala Official Language (Legislation) Act, 1969\" (PDF). Archived from the original on 11 September 2014.\\n\\n^ a b c \"Table C-16 Population by Mother Tongue: Kerala\". www.censusindia.gov.in. Registrar General and Census Commissioner of India.\\n\\n^ a b \"Table C-01: Population by religious community: Kerala\". Census of India. Registrar General and Census Commissioner of India. 2011.\\n\\n^ \"Kerala | UNDP in India\". UNDP.\\n\\n^ a b c d e f g h i \"District Census Hand Book: Palakkad\" (PDF). Census of India. Registrar General and Census Commissioner of India.\\n\\n^ \"Minerals Resources\". dmg.kerala.gov.in.\\n\\n^ \"Fact sheet on Indian dams at Diehardindian.com\". Archived from the original on 13 December 2006.\\n\\n^ \"*** Official WebSite Of Palakkad District ***\". Palakkad.nic.in. Retrieved 18 October 2011.\\n\\n^ \"Muncipalities [sic] | Palakkad | India\".\\n\\n^ \"Ittipangi Achan passes away\". The New Indian Express. 31 July 2011. Archived from the original on 31 December 2013. Retrieved 6 December 2021.\\n\\n^ \"The Palakkad district, an overview – History and Geography of Palakkad district\" (PDF). INFLIBNET. Retrieved 4 April 2019.\\n\\n^ Subramanian, T. S (28 January 2007). \"Roman connection in Tamil Nadu\". The Hindu. Archived from the original on 19 September 2013. Retrieved 28 October 2011.\\n\\n^ a b c d e f g h i Shreedhara Menon, A (2007). \\'Kerala Charitram. Kottayam: DC Books. pp.\\xa0199–201. ISBN\\xa09788126415885.\\n\\n^ a b K. V. Krishna Iyer (1938), Zamorins of Calicut: From the earliest times to AD 1806, Norman Printing Bureau, Kozhikode\\n\\n^ a b c d 1951 census handbook - Malabar district (PDF). Chennai: Government of Madras. 1953. p.\\xa01.\\n\\n^ Raghunath Rai. History. FK Publications. pp.\\xa014–. ISBN\\xa0978-81-87139-69-0. Retrieved 18 November 2012.\\n\\n^ British Museum; Anna Libera Dallapiccola (22 June 2010). South Indian Paintings: A Catalogue of the British Museum Collection. Mapin Publishing Pvt Ltd. pp.\\xa012–. ISBN\\xa0978-0-7141-2424-7. Retrieved 18 November 2012.\\n\\n^ Edgar Thorpe, Showick Thorpe; Thorpe Edgar. The Pearson CSAT Manual 2011. Pearson Education India. p.\\xa099. ISBN\\xa0978-81-317-5830-4. Retrieved 18 November 2012.\\n\\n^ The Edinburgh Gazetteer. Longman, Rees, Orme, Brown, and Green. 1827. pp.\\xa063–. Retrieved 18 November 2012.\\n\\n^ Dharma Kumar (1965). Land and Caste in South India: Agricultural Labor in the Madras Presidency During the Nineteenth Century. CUP Archive. pp.\\xa087–. GGKEY:T72DPF9AZDK. Retrieved 18 November 2012.\\n\\n^ K.P. Ittaman (1 June 2003). History of Mughal Architecture Volume Ii. Abhinav Publications. pp.\\xa030–. ISBN\\xa0978-81-7017-034-1. Retrieved 18 November 2012.\\n\\n^ a b A Survey of Kerala History, A. Shreedhara Menon\\n\\n^ \"CHRONOLOGICAL LIST OF CENTRAL ACTS (Updated up to 17-10-2014)\". Lawmin.nic.in. Retrieved 7 August 2016.\\n\\n^ Lewis McIver, G. Stokes (1883). Imperial Census of 1881 Operations and Results in the Presidency of Madras ((Vol II)\\xa0ed.). Madras: E.Keys at the Government Press. p.\\xa0444. Retrieved 5 December 2020.\\n\\n^ Presidency, Madras (India (1915). Madras District Gazetteers, Statistical Appendix For Malabar District (Vol.2\\xa0ed.). Madras: The Superintendent, Government Press. p.\\xa020. Retrieved 2 December 2020.\\n\\n^ HENRY FROWDE, M.A., Imperial Gazetteer of India (1908–1909). Imperial Gazetteer of India (New\\xa0ed.). Oxford: Clarendon Press. Retrieved 2 December 2020.\\n\\n^ Logan, William (2010). Malabar Manual (Volume-I). New Delhi: Asian Educational Services. pp.\\xa0631–666. ISBN\\xa09788120604476.\\n\\n^ a b c K. Narayanan (1972). District Census Handbook – Malappuram (Part-C) – 1971 (PDF). Thiruvananthapuram: Directorate of Census Operations, Kerala. p.\\xa03.\\n\\n^ a b c Devassy, M. K. (1965). District Census Handbook (3) – Palakkad (1961) (PDF). Shoranur: Government of Kerala.\\n\\n^ a b 1951 census handbook – Malabar district (PDF). Chennai: Government of Madras. 1953.\\n\\n^ a b \"History | Palakkad | India\".\\n\\n^ \"Taluk-wise demography of Palakkad\" (PDF). censusindia.gov.in. Directorate of Census Operations, Kerala. pp.\\xa0161–193. Retrieved 28 August 2020.\\n\\n^ \"Villages in Palakkad\". palakkad.nic.in. Retrieved 28 August 2020.\\n\\n^ \"60 Acres Identified For Airport Project\". The Hindu. Chennai, India. 21 May 2011. Archived from the original on 26 May 2011.\\n\\n^ \"Train services resume on Pollachi – Palakkad section\". Coimbatore. The Hindu. 17 November 2015. Retrieved 25 November 2015.\\n\\n^ \"National Highways and their lengths\" Archived 6 September 2012 at the Wayback Machine. National Highways Authority of India. Retrieved 4 September 2015.\\n\\n^ \"KSRTC Depots\". 14 March 2011. Archived from the original on 14 March 2011. Retrieved 6 September 2022.\\n\\n^ Decadal Variation In Population Since 1901\\n\\n^ US Directorate of Intelligence. \"Country Comparison:Population\". Archived from the original on 13 June 2007. Retrieved 1 October 2011. Jamaica 2,868,380 July 2011 est\\n\\n^ \"2010 Resident Population Data\". U. S. Census Bureau. Retrieved 30 September 2011. Utah 2,763,885\\n\\n^ \"Literacy Rate 2011 – Government of Kerala, India\". Archived from the original on 23 February 2016.\\n\\n^ Government of Kerala (2021). Economic Review 2020 – Volume I (PDF). Thiruvananthapuram: Kerala State Planning Board.\\n\\n^ \"MUNNAR TOURISM\".\\n\\n^ \"Biography\" (PDF). Indira Gandhi Centre for Atomic Research. 3 June 2018. Retrieved 3 June 2018.\\n\\n^ \"Education | Palakkad | India\".\\n\\n^ \"District Profile\". spb.kerala.gov.in. Retrieved 9 January 2019.\\n\\n^ \"-CUSTOMER VALUE-\". -CUSTOMER VALUE-.\\n\\n^ \"NSS College of Engineering – Palakkad, Kerala\". www.nssce.ac.in.\\n\\n^ \"借金SOS | Just another WordPress site\". cmgmusiccollege.org.\\n\\n^ \"Affiliated Colleges and courses\" (PDF). Archived from the original (PDF) on 16 September 2017.\\n\\n^ \"Palakkad municipal stadium turns into dump yard covered with weeds\". Mathrubhumi.\\n\\n^ \"Fort Maidan | India | Cricket Grounds | ESPNcricinfo.com\".\\n\\n^ \"The Home of CricketArchive\". cricketarchive.com.\\n\\n^ \"Palakkad Indoor Stadium\". www.palakkadtourism.org.\\n\\n^ \"Synthetic track for Palakkad\". The Hindu. 7 September 2015 – via www.thehindu.com.\\n\\n^ \"Kerala (India): Districts, Cities and Towns – Population Statistics, Charts and Map\". www.citypopulation.de.\\n\\n^ \"Panchayaths | Palakkad | India\".\\n\\n\\nFurther reading[edit]\\nGovernment of Madras (1953), 1951 Census Handbook- Malabar District (PDF), Madras Government Press\\nM. K. Devassy (1965), 1961 Census Handbook- Palghat District (PDF), Directorate of Census Operations, Kerala and The Union Territory of Laccadive, Minicoy, and Amindivi Islands\\nGovernment of India (2014–2015), District Census Handbook – Palakkad (Part-A) 2011 (PDF), Directorate of Census Operations, Kerala\\nGovernment of India (2014–2015), District Census Handbook – Palakkad (Part-B) 2011 (PDF), Directorate of Census Operations, Kerala\\nSatellite Images[edit]\\nSatellite image of Palakkad\\nRoad map of Palakkad\\nExternal links[edit]\\n\\n\\n\\nWikimedia Commons has media related to Palakkad district.\\n\\n\\n\\n\\nWikivoyage has a travel guide for Palakkad District.\\n\\nOfficial website for Palakkad\\nvtePlaces adjacent to Palakkad district\\nMalappuram district\\nNilgiris district, Coimbatore Tamil Nadu\\n\\n\\n\\n\\n\\n\\n\\n\\nPalakkad district\\n\\nCoimbatore, Tamil Nadu\\n\\n\\n\\n\\n\\nThrissur district\\n\\nCoimbatore, Tamil Nadu\\n\\nvtePalakkad districtCities and towns\\nThrithala\\nPattambi\\nShoranur\\nOttapalam\\nCherpulassery\\nMannarkkad\\nPalakkad\\nPuthunagaram\\nChittur-Thathamangalam\\nKoduvayur\\nNemmara\\nAlathur\\nVadakkencherry\\nSub-districts,panchayatsandvillagesAlathur\\nAlathur\\nErimayur (Erimayur-I, Erimayur-II)\\nKannambra (Kannambra-I, Kannambra-II, R. Mangalam)\\nKavasery (Kavasseri-I, Kavasseri-II)\\nKizhakkancherry (Kizhakkencheri-I, Kizhakkencheri-II)\\nKottayi (Kottayi-I, Kottayi-II)\\nKuthannoor (Kuthannur-I, Kuthannur-II)\\nKuzhalmannam (Kuzhalmannam-I, Kuzhalmannam-II)\\nMathur (Mathur-I, Mathur-II)\\nPerinkulam\\nPeringottukurissi (Peringottukurissi-I, Peringottukurissi-II)\\nPuducode (Manappadam)\\nTarur (Tarur-I, Tarur-II)\\nThenkurissi (Thenkurissi-I, Thenkurissi-II)\\nVadakkancheri (Vadakkancheri-I, Vadakkancheri-II)\\nVandazhy (Mangalam Dam, Vandazhi-I, Vandazhi-II)\\nChittur\\nAyiloor (Ayiloor, Kairady, Thiruvazhiyad)\\nEruthampathy (Eruthempathy, Kozhipathy)\\nKoduvayur (Koduvayur-II)\\nKollengode (Kollengode-I, Kollengode-II)\\nKozhinjampara (Valiyavallampathy)\\nMuthalamada (Muthalamada-I, Muthalamada-II)\\nNalleppilly (gram panchayat) (Nalleppilly, Chittur (Part), Thekkedesom)\\nNelliampathy\\nNemmara (Nemmara, Vallanghy)\\nPattencherry (Pattanchery, Thathamangalam (Part))\\nPerumatty (Moolathara, Vandithavalam)\\nVadakarapathy (Ozhalapathy)\\nMannarkad\\nAgali (Agali, Kallamala, Padavayal, Palakkayam)\\nAlanallur (Alanallur-I, Alanallur-II, Alanallur-III)\\nKanjirampuzha (Pottassery-I, Pottassery-II)\\nKarimba (Karimba-I, Karimba-II)\\nKottappadam (Kottoppadam-I, Kottoppadam-II, Kottoppadam-III)\\nKumaramputhur (Payyanadam)\\nMannarkkad (Mannarkad-I)\\nSholayar (Kottathara, Sholayur)\\nTachampara (Karakurissi, Karimba-I, Pottassery-II, Thachampara)\\nThachanattukara (Thachanattukara-I, Thachanattukara-II)\\nThenkara (Mannarkad-II)\\nOttappalam\\nAmbalapara (Ambalapara-II, Ambalapara-II)\\nChalissery\\nCherpulassery\\nKadampazhipuram (Kadampazhipuram-I, Kadampazhipuram-II)\\nKarimpuzha (Karimpuzha-I, Karimpuzha-II)\\nLakkidiperur (Lakkidi-Perur-I, Lakkidi-Perur-II)\\nMuthuthala\\nOngallur (Ongallur-I, Ongallur-II)\\nPattambi\\nPookkottukavu (Sreekrishnapuram-II, Thrikkadeeri-I, Vellinezhi)\\nSreekrishnapuram (Sreekrishnapuram-I, Sreekrishnapuram-II)\\nThirumittacode (Thirumittacode-II, Thirumittacode-I)\\nThiruvegapura\\nThrikkadeeri (Thrikkadeeri-I, Thrikkadeeri-II)\\nThrithala (Pattithara, Thrithala\\nVaniamkulam (Vaniyamkulam-II, Vaniyamkulam-I)\\nPalakkad\\nAkathethara (Hemambikanagar)\\nElappully (Elappully-I, Elappully-II)\\nKannadi (Kannadi-I, Kannadi-II)\\nKongad (Kongad-I, Kongad-II)\\nMalampuzha (Malampuzha-I, Malampuzha-II)\\nMarutharode (Maruthuroad)\\nMundur (Mundur-I, Mundur-II)\\nParli (Parli-I, Parli-II)\\nPirayiri\\nPuduppariyaram (Puthuppariyaram-I)\\nPudusseri (Pudussery Central, Pudussery East, Pudussery West)\\n\\nvteDistricts of KeralaDistricts\\nAlappuzha\\nErnakulam\\nIdukki\\nKannur\\nKasargod\\nKollam\\nKottayam\\nKozhikode\\nMalappuram\\nPalakkad\\nPathanamthitta\\nThiruvananthapuram\\nThrissur\\nWayanad\\n\\nvte State of KeralaCapital: ThiruvananthapuramDistricts\\nThiruvananthapuram KL-01\\nKollam KL-02\\nPathanamthitta KL-03\\nAlappuzha KL-04\\nKottayam KL-05\\nIdukki KL-06\\nErnakulam KL-07\\nThrissur KL-08\\nPalakkad KL-09\\nMalappuram KL-10\\nKozhikode KL-11\\nWayanad KL-12\\nKannur KL-13\\nKasaragod KL-14\\nTopics\\nArts\\nCulture\\nDemographics\\nEconomy\\nEducation\\nFilm\\nGeography\\n Roads\\n Ports\\nHistory\\nWildlife\\nGovernment\\nTourism\\nSports\\nSymbols\\nBird\\nGreat hornbill\\nAnimal\\nIndian elephant\\nTree\\nCoconut\\nFlower\\nGolden rain\\nFish\\nKarimeen\\nFruit\\nJackfruit\\nInsect\\nPapilio buddha\\nTaluks\\nAdoor\\nAlathur\\nAluva\\nAmbalappuzha\\nChalakudy\\nChanganassery\\nChavakkad\\nChengannur\\nCherthala\\nChirayinkeezhu\\nChittur\\nDevikulam\\nEranad\\nHosdurg\\nIdukki\\nIritty\\nKanayannur\\nKanjirappally\\nKannur\\nKarthikappally\\nKarunagappalli\\nKasaragod\\nKattakada\\nKochi\\nKodungallur\\nKollam\\nKondotty\\nKonni\\nKothamangalam\\nKottarakkara\\nKottayam\\nKoyilandy\\nKozhencherry\\nKozhikode\\nKunnamkulam\\nKunnathunad\\nKunnathur\\nKuttanad\\nMallapally\\nMananthavady\\nManjeshwaram\\nMannarkkad\\nMavelikkara\\nMeenachil\\nMukundapuram\\nMuvattupuzha\\nNedumangad\\nNeyyattinkara\\nNilambur\\nNorth Paravur\\nOttapalam\\nPalakkad\\nPathanapuram\\nPattambi\\nPayyanur\\nPeermade\\nPerinthalmanna\\nPonnani\\nPunalur\\nRanni\\nSultan Bathery\\nTaliparamba\\nThalapilly\\nThalassery\\nThamarassery\\nThiruvalla\\nThiruvananthapuram\\nThodupuzha\\nThrissur\\nTirur\\nTirurangadi\\nUdumbanchola\\nVaikom\\nVarkala\\nVatakara\\nVellarikundu\\nVythiri\\nMunicipal corporations\\nThiruvananthapuram\\nKozhikode\\nKochi\\nKollam\\nThrissur\\nKannur\\nMunicipalities\\nAdoor\\nAnthoor\\nAlappuzha\\nAluva\\nAngamaly\\nAttingal\\nChalakudy\\nChanganassery\\nChavakkad\\nChengannur\\nCherthala\\nChittur-Thathamangalam\\nEloor\\nGuruvayur\\nIrinjalakuda\\nIritty\\nKalamassery\\nKalpetta\\nKanhangad\\nKarunagappalli\\nKasaragod\\nKattappana\\nKayamkulam\\nKodungallur\\nKondotty\\nKuthuparamba\\nKothamangalam, Kerala\\nKottakkal\\nKottarakkara\\nKottayam\\nKoyilandy\\nKunnamkulam\\nMalappuram\\nManjeri\\nMaradu\\nMattanur\\nMavelikkara\\nMuvattupuzha\\nNedumangad\\nNeyyattinkara\\nNilambur\\nNileshwaram\\nNorth Paravur\\nOttapalam\\nPala\\nPalakkad\\nPanoor\\nParappanangadi\\nParavur\\nPathanamthitta\\nPayyanur\\nPerinthalmanna\\nPerumbavoor\\nPonnani\\nPunalur\\nShoranur\\nSreekandapuram\\nTanur\\nThalassery\\nTaliparamba\\nThiruvalla\\nThodupuzha\\nThrikkakkara\\nThrippunithura\\nTirur\\nTirurangadi\\nValanchery\\nVatakara\\nVaikom\\nVarkala\\nOther townsNorth\\nEdappal\\nThavanur\\nPuthanathani\\nKottakkal\\nAngadipuram\\nMankada\\nKuttippuram\\nKaripur\\nAreekode\\nWandoor\\nVengara\\nVallikkunnu\\nOlavanna\\nKunnamangalam\\nThamarassery\\nThiruvambady\\nKodencheri\\nBalussery\\nPerambra\\nNadapuram\\nKuttiady\\nLakkidi\\nVythiri\\nChundale\\nMeppadi\\nKottappadi Part\\nMuttil\\nPadinharethara\\nMeenangadi\\nPanamaram\\nPulpally\\nPeravoor\\nDharmadom\\nAnjarakkandy\\nMuzhappilangad\\nAzhikode\\nCherukunnu\\nPappinisseri\\nKalliasseri\\nIrikkur\\nAlakode\\nThrikaripur\\nCheruvathur\\nBekal\\nUdma\\nVellarikundu\\nParappa\\nKaradka\\nKumbla\\nMangalpady\\nUppala\\nManjeshwar\\nCentral\\nPeermade\\nVandiperiyar\\nKumily\\nRajakkad\\nMunnar\\nDevikulam\\nAdimali\\nKolenchery\\nPuthencruz\\nKunnathunad\\nKalady\\nMalayattoor\\nChottanikkara\\nUdayamperoor\\nVarappuzha\\nSreemoolanagaram\\nNedumbassery\\nMala\\nKodakara\\nPuthukkad\\nManaloor\\nPavaratty\\nChelakkara\\nVadakkencherry\\nAlathur\\nNemmara\\nPuthunagaram\\nMalampuzha\\nSreekrishnapuram\\nLakkidi-Perur\\nThrithala\\nSouth\\nParassala\\nBalaramapuram\\nKattakada\\nChirayinkeezhu\\nKilimanoor\\nParippally\\nChathannoor\\nKottiyam\\nKundara\\nNeendakara\\nChavara\\nOachira\\nSasthamkotta\\nKunnathur\\nAnchal\\nKadakkal\\nPathanapuram\\nThenmala\\nKulathupuzha\\nKozhencherry\\nKonni\\nRanni\\nMallapally\\nKumbanad\\nAranmula\\nKulanada\\nOmallur\\nVadasserikara\\nParumala\\nMannar\\nCharummoodu\\nAmbalappuzha\\nMararikulam\\nAroor\\nKanjirappally\\nErumely\\nMundakayam\\nVazhoor\\nKarukachal\\nPampady\\nPuthuppally\\nKuravilangad\\nUzhavoor\\nThalayolaparambu\\nKaduthuruthy\\nHistorical regions\\nKolathunadu (Kingdom of Cannanore)\\nZamorin\\nMalabar\\nNorth Malabar\\nSouth Malabar\\nCochin\\nVenad (kingdom)\\nTravancore\\nTravancore–Cochin\\n India portal\\nvteHindu temples in KeralaAlappuzha\\nKurattikadu Mutharamman Devi Temple\\nMannar Thrikkuratti Mahadeva Temple\\nAmbalappuzha Sri Krishna\\nManakkattu Devi Temple, Pallippad, Harippad\\nChakkulathukavu\\nChammanad Devi\\nCherthala Devi\\nChettikulangara Devi\\nEvoor Major Sri krishnaswamy temple\\nHaripad Sree Subrahmanya Swamy temple\\nKandiyoor Sree Mahadeva Temple\\nKuttikattu Sree Bhadra Kali Devi\\nMannarasala\\nMullakkal\\nNalpathaneeswaram Sree Mahadeva\\nPadanilam Parabrahma Temple\\nPattambalam\\nValiyakulangara Devi\\nErnakulam\\nCherai Gowreeshwara\\nDakshina Mookambika Temple North Paravur\\nChottanikkara\\nEravikulangara\\nIringole Kavu\\nKalamassery Mahaganapathy\\nKurumbakkavu Bhagavathy\\nPanekavu Bhagavati Shastha\\nSree Bhavaneeswara\\nSree Poornathrayesa\\nSree Venugopala\\nThamaramkulangara Sree Dharma Sastha\\nThrikkakara Temple\\nThiru Nayathode Siva Narayana Temple\\nChelamattom Shree Krishna Swami Temple\\nIdukki\\nSri Siddhi Vinayakar\\nKannur\\nAndalur kavu\\nSree Vadeswaram\\nAzhikode Palottukavu\\nChenankavu\\nChala Bhagavathi\\nSree Annapoorneswari\\nSree Chovva Shiva Temple\\nEdappara Chamundi\\nHanumarambalam\\nSree Jagannathan\\nKandanthalli\\nKeecheri Palottukavu\\nKeezhur Mahadeva\\nKottiyoor Vadakkeshwaram\\nKunnathoor Padi\\nMadayi Kavu\\nKalarivathukkal Bhagavathy Temple\\nVadukunda\\nMamanathambalam\\nManakulangara\\nMariamman Koil, Pilakool\\nMavilakkavu\\nMuneeswaran Kovil\\nOorpazhachi Kavu\\nPadavil Sree Muthappan\\nPanoonneri Shiva\\nParassinikkadavu Muthappan\\nPayyannur Sree Subramanyaswamy Temple\\nPeralasseri Sree Subramaniaswamy Temple\\nPillayar Koil\\nNeeliyaarkottam\\nRajarajeshwara Temple\\nSree Andalurkavu\\nTiruvangad\\nTalap Ambalam\\nTrichambaram\\nThrikkapalam Shiva\\nVasudevapuram Tavanur\\nPlaces of worship in Kannur district\\nKasaragod\\nAnanthapura Lake\\nKanila Shree Bhagavathi\\nMadhur\\nTrikaripur Chakrapani\\nSri Gopalakrishna Temple Kumble\\n Kollam\\nAmmachiveedu Muhurthi\\nAnandavalleeshwaram Sri Mahadevar Temple\\nAshram Sree krishna Swamy\\nKadakkal Devi\\nKodimoottil Sri Bhadrakaali\\nKottankulangara Devi Temple\\nKottarakkara Sree Mahaganapathi Kshethram\\nKottarakkulam Sree Mahaganapathy Kovil, Kollam\\nOachira Parabrahma Temple\\nPanakkattodil Devi Temple\\nPoruvazhy Peruviruthy Malanada Temple\\nPulimukham Devi Temple\\nParavur Puttingal Devi Temple\\nSasthamcotta Sree Dharma Sastha Temple\\nSree Indilayappan\\nSree Maha Ganapathy\\nVayalil Thrikkovil Mahavishnu\\nKottayam\\nVaikom\\nThiruVazhappally Sree Mahadevar\\nEttumanoor Mahadevar\\nThirunakkara Sree Mahadevar Temple\\nKidangoor Subramanya Temple\\nChirakkadavu Sree Mahadevar\\nKaduthruthy Mahadeva Temple\\nNeendoor Subrahmanya Swami Temple\\nPerunna Subrahmanya Swami\\nKavinpuram Devi\\nMorkulangara Devi\\nKadamuri Narasimhaswamy Temple, Kadamuri\\nMoozhayil Sankaranarayana Temple Anicad\\nKodungoor Devi Temple\\nElamgulam Sree Dharma Shastha Temple\\nAnicad Sree Bhagavathi Temple\\nPullattukunnel Temple, Elamgulam\\nNethalloor Devi\\nPanachikkadu\\nPaippad Puthenkavu Bhagavathi\\nPundareekapuram\\nPuthiyakavu Devi Temple\\nKozhikode\\nAbhimanyu Temple\\nAzhakodi Devi\\nLokanarkavu\\nPisharikavu\\nValayanad Devi\\nMalappuram\\nAlathiyur Hanuman\\nKadampuzha Devi\\nKadampuzha Bhagavathy\\nSree Rama\\nThirumanthamkunnu\\nThirunavaya\\nThrikkavu\\nVairankode Bhagavathy Temple\\nPalakkad\\nBrahmeeswaran\\nChinakkathoor\\nKarimpuzha Sree Ramaswamy\\nKillikkurussimangalam\\nKodikkunnu Bhagavathy\\nManapullikavu\\nMalamakkavu Ayyappa Temple\\nMeenkulathi\\nSri Nellikulangara Bhagavathi\\nThirupuraikkal\\nValliya Aarattu – Karnaki Amman\\nVayilyamkunnu Bhagavathi\\nViswanatha Swam\\nPanniyur Sri Varahamurthy Temple\\nPathanamthitta\\nAranmula Parthasarathy\\nanikkattilammakshethram\\nGurunathanmukadi\\nKaviyoor Mahadevar\\nMahadeva\\nMezhuveli\\nMuringamangalam Sreemahadevar\\nPanayannarkavu\\nPattupurakkavu Bhagavathi\\nRektha Kanda Swamy\\nSabarimala\\nSree Bhuvaneswary\\nSree Vallabha\\nSreenarayanapuram\\nSri Chirakkakavu Bhagavthi\\nThazhoor Bhagavathy Kshetram\\nThrikkovil Sree Padmanabha Swami Kshetram\\nThrippara Shiva Kshetram\\nThumpamon Vadakkumnatha\\nValiyakoikkal\\nThiruvananthapuram\\nAttukal\\nAvanavanchery Sri Indilayappan\\nEdava Palakkavu Bhagavathi temple\\nIrumkulangara Durga Devi\\nJanardanaswamy\\nKappil Bhagavathy\\nMannanthala Anandavaleeswaram\\nPadmanabhaswamy\\nSarkaradevi\\nSivagiri Sarada Mutt\\nSreekanteswaram\\nThaliyadichapuram Sree Mahadeva\\nVellayani Devi Temple\\nVenkatachalapathy\\nThrissur\\nArattupuzha Temple\\nAmmathiruvadi Temple\\nAvanangattilkalari Vishnumaya Temple\\nAnnamanada Mahadeva Temple\\nChembukkavu Bhagavathy Temple\\nChemmanthatta Mahadeva Temple\\nChiravarampathukavu Bhagavathi Temple\\nChoorakkottukavu Bhagavathy Temple\\nGuruvayur Temple\\nIvor Madom\\nKanimangalam Sastha Temple\\nKodungallur Bhagavathy Temple\\nKoodalmanikyam Temple\\nKootumuchikal amma\\nKottekkad Temple\\nKuttankulangara Sri Krishna Temple\\nKuttumuck Siva Temple\\nLaloor Bhagavathy Temple\\nMammiyoor Temple\\nMithrananthapuram Trimurti Temple\\nMuthuvara Mahadeva Temple\\nPallimanna Siva Temple\\nPanamukkumpally Sastha Temple\\nParamekkavu Bagavathi Temple\\nPoonkunnam Siva Temple\\nPunkunnam Seetha Ramaswamy Temple\\nShatrughna Temple\\nThriprayar Temple\\nSree Maheswara Temple\\nSringapuram Mahadeva Temple\\nThanikkudam Bhagavathi Temple\\nThiruvambadi Sri Krishna Temple\\nThiruvanchikulam Temple\\nThiruvullakkavu Sree Dharma Sastha Temple\\nThottipal Bhagavati\\nTrikkur Mahadeva\\nVadakkunnathan\\nVilwadrinatha Temple\\nPeruvanam Mahadeva Temple\\nMathur Shiva Temple\\nKalathil Sree Rudra Devi Temple\\nWayanad\\nMazhuvannur Maha Siva Kshethram\\nThirunelli\\nValliyoorkkavu\\n\\nAuthority control databases InternationalVIAFNationalGermanyUnited States\\n\\n\\n\\n\\nRetrieved from \"https://en.wikipedia.org/w/index.php?title=Palakkad_district&oldid=1269838157\"\\nCategories: Villages in Palakkad districtPalakkad district1956 establishments in KeralaDistricts of KeralaHidden categories: Pages using gadget WikiMiniAtlasPages using the Phonos extensionCS1: unfit URLWebarchive template wayback linksArticles with short descriptionShort description matches WikidataUse dmy dates from March 2024Use Indian English from January 2016All Wikipedia articles written in Indian EnglishCoordinates on WikidataPages using infobox settlement with unknown parametersPages with Malayalam IPAPages including recorded pronunciationsCommons category link is on WikidataPages using the Kartographer extension\\n\\n\\n\\n\\n\\n\\n This page was last edited on 16 January 2025, at 17:17\\xa0(UTC).\\nText is available under the Creative Commons Attribution-ShareAlike 4.0 License;\\nadditional terms may apply. By using this site, you agree to the Terms of Use and Privacy Policy. Wikipedia® is a registered trademark of the Wikimedia Foundation, Inc., a non-profit organization.\\n\\n\\nPrivacy policy\\nAbout Wikipedia\\nDisclaimers\\nContact Wikipedia\\nCode of Conduct\\nDevelopers\\nStatistics\\nCookie statement\\nMobile view\\n\\n\\n\\n\\n\\n\\n\\n\\n\\n\\n\\n\\n\\n\\nSearch\\n\\n\\n\\n\\n\\n\\n\\n\\n\\n\\n\\n\\n\\nSearch\\n\\n\\n\\n\\n\\n\\n\\n\\n\\nToggle the table of contents\\n\\n\\n\\n\\n\\n\\n\\nPalakkad district\\n\\n\\n\\n\\n\\n\\n\\n\\n\\n\\n\\n\\n\\n\\n\\n\\n\\n\\n\\n\\n\\n\\n\\n\\n\\n\\n\\n\\n32 languages\\n\\n\\nAdd topic\\n\\n\\n\\n\\n\\n\\n\\n\\n\\n\\n\\n\\n\\n\\n')]\n"
          ]
        }
      ]
    },
    {
      "cell_type": "markdown",
      "source": [
        "##Text splitter"
      ],
      "metadata": {
        "id": "rNeoTetyUjO7"
      }
    },
    {
      "cell_type": "code",
      "source": [
        "text_splitter = RecursiveCharacterTextSplitter(chunk_size=550,chunk_overlap=30)"
      ],
      "metadata": {
        "id": "jS8qTLbPUfe2"
      },
      "execution_count": null,
      "outputs": []
    },
    {
      "cell_type": "code",
      "source": [
        "chunking = text_splitter.split_documents(con)\n",
        "len(chunking)"
      ],
      "metadata": {
        "colab": {
          "base_uri": "https://localhost:8080/"
        },
        "id": "QE-sP4xeU7Kv",
        "outputId": "057211d2-1da6-4556-989e-a22d4cff6632"
      },
      "execution_count": null,
      "outputs": [
        {
          "output_type": "execute_result",
          "data": {
            "text/plain": [
              "142"
            ]
          },
          "metadata": {},
          "execution_count": 55
        }
      ]
    },
    {
      "cell_type": "code",
      "source": [
        "chunking[100]"
      ],
      "metadata": {
        "colab": {
          "base_uri": "https://localhost:8080/"
        },
        "id": "rHv72f9oVEEh",
        "outputId": "9b85eac9-f696-4376-a2a5-b7b87e1c514f"
      },
      "execution_count": null,
      "outputs": [
        {
          "output_type": "execute_result",
          "data": {
            "text/plain": [
              "Document(metadata={'source': 'https://en.wikipedia.org/wiki/Palakkad_district', 'title': 'Palakkad district - Wikipedia', 'language': 'en'}, page_content='^ The Edinburgh Gazetteer. Longman, Rees, Orme, Brown, and Green. 1827. pp.\\xa063–. Retrieved 18 November 2012.\\n\\n^ Dharma Kumar (1965). Land and Caste in South India: Agricultural Labor in the Madras Presidency During the Nineteenth Century. CUP Archive. pp.\\xa087–. GGKEY:T72DPF9AZDK. Retrieved 18 November 2012.\\n\\n^ K.P. Ittaman (1 June 2003). History of Mughal Architecture Volume Ii. Abhinav Publications. pp.\\xa030–. ISBN\\xa0978-81-7017-034-1. Retrieved 18 November 2012.\\n\\n^ a b A Survey of Kerala History, A. Shreedhara Menon')"
            ]
          },
          "metadata": {},
          "execution_count": 54
        }
      ]
    },
    {
      "cell_type": "code",
      "source": [
        "chunking[20]"
      ],
      "metadata": {
        "colab": {
          "base_uri": "https://localhost:8080/"
        },
        "id": "csmZuKQIVfkM",
        "outputId": "230635d7-ad3f-45be-de6e-c1d0ef1b418a"
      },
      "execution_count": null,
      "outputs": [
        {
          "output_type": "execute_result",
          "data": {
            "text/plain": [
              "Document(metadata={'source': 'https://en.wikipedia.org/wiki/Palakkad_district', 'title': 'Palakkad district - Wikipedia', 'language': 'en'}, page_content='History[edit]\\nSee also: Palakkad, Zamorin of Calicut, Nedungadi, and Kingdom of Valluvanad')"
            ]
          },
          "metadata": {},
          "execution_count": 53
        }
      ]
    },
    {
      "cell_type": "code",
      "source": [
        "chunking"
      ],
      "metadata": {
        "colab": {
          "base_uri": "https://localhost:8080/"
        },
        "id": "V-zfL4y5mn5o",
        "outputId": "a818c3d4-4e75-449f-af66-59c2d9c11a1a"
      },
      "execution_count": null,
      "outputs": [
        {
          "output_type": "execute_result",
          "data": {
            "text/plain": [
              "[Document(metadata={'source': 'https://en.wikipedia.org/wiki/Palakkad_district', 'title': 'Palakkad district - Wikipedia', 'language': 'en'}, page_content='Palakkad district - Wikipedia\\n\\n\\n\\n\\n\\n\\n\\n\\n\\n\\n\\n\\n\\n\\n\\n\\n\\n\\n\\n\\n\\n\\n\\n\\n\\n\\n\\n\\n\\n\\n\\n\\n\\n\\n\\n\\nJump to content\\n\\n\\n\\n\\n\\n\\n\\nMain menu\\n\\n\\n\\n\\n\\nMain menu\\nmove to sidebar\\nhide\\n\\n\\n\\n\\t\\tNavigation\\n\\t\\n\\n\\nMain pageContentsCurrent eventsRandom articleAbout WikipediaContact us\\n\\n\\n\\n\\n\\n\\t\\tContribute\\n\\t\\n\\n\\nHelpLearn to editCommunity portalRecent changesUpload file\\n\\n\\n\\n\\n\\n\\n\\n\\n\\n\\n\\n\\n\\n\\n\\n\\n\\n\\n\\nSearch\\n\\n\\n\\n\\n\\n\\n\\n\\n\\n\\n\\nSearch\\n\\n\\n\\n\\n\\n\\n\\n\\n\\n\\n\\n\\n\\n\\n\\n\\n\\n\\n\\n\\n\\n\\nAppearance\\n\\n\\n\\n\\n\\n\\n\\n\\n\\n\\n\\n\\n\\n\\n\\n\\nDonate\\n\\nCreate account\\n\\nLog in\\n\\n\\n\\n\\n\\n\\n\\n\\nPersonal tools\\n\\n\\n\\n\\n\\nDonate Create account Log in\\n\\n\\n\\n\\n\\n\\t\\tPages for logged out editors learn more'),\n",
              " Document(metadata={'source': 'https://en.wikipedia.org/wiki/Palakkad_district', 'title': 'Palakkad district - Wikipedia', 'language': 'en'}, page_content='ContributionsTalk\\n\\n\\n\\n\\n\\n\\n\\n\\n\\n\\n\\n\\n\\n\\n\\n\\n\\n\\n\\n\\n\\n\\n\\n\\n\\n\\n\\n\\nContents\\nmove to sidebar\\nhide\\n\\n\\n\\n\\n(Top)\\n\\n\\n\\n\\n\\n1\\nEtymology\\n\\n\\n\\n\\n\\n\\n\\n\\n2\\nHistory\\n\\n\\n\\n\\n\\n\\n\\n\\n3\\nAdministration\\n\\n\\n\\n\\nToggle Administration subsection\\n\\n\\n\\n\\n\\n3.1\\nKerala Legislative Assembly seats\\n\\n\\n\\n\\n\\n\\n\\n\\n3.2\\nMembers of Lok Sabha\\n\\n\\n\\n\\n\\n\\n\\n\\n3.3\\nSubdistricts (Taluks)\\n\\n\\n\\n\\n\\n\\n\\n\\n\\n\\n4\\nEconomy\\n\\n\\n\\n\\n\\n\\n\\n\\n5\\nTransport\\n\\n\\n\\n\\nToggle Transport subsection\\n\\n\\n\\n\\n\\n5.1\\nAir\\n\\n\\n\\n\\n\\n\\n\\n\\n5.2\\nRailways\\n\\n\\n\\n\\n\\n\\n\\n\\n5.3\\nRoad\\n\\n\\n\\n\\n\\n\\n\\n\\n\\n\\n6\\nDemographics\\n\\n\\n\\n\\nToggle Demographics subsection\\n\\n\\n\\n\\n\\n6.1\\nLanguages\\n\\n\\n\\n\\n\\n\\n\\n\\n\\n\\n7\\nTourist attractions'),\n",
              " Document(metadata={'source': 'https://en.wikipedia.org/wiki/Palakkad_district', 'title': 'Palakkad district - Wikipedia', 'language': 'en'}, page_content='7\\nTourist attractions\\n\\n\\n\\n\\nToggle Tourist attractions subsection\\n\\n\\n\\n\\n\\n7.1\\nSilent Valley National Park\\n\\n\\n\\n\\n\\n\\n\\n\\n\\n\\n8\\nNoted personalities\\n\\n\\n\\n\\n\\n\\n\\n\\n9\\nEducation in Palakkad\\n\\n\\n\\n\\n\\n\\n\\n\\n10\\nMedia\\n\\n\\n\\n\\n\\n\\n\\n\\n11\\nSports in Palakkad\\n\\n\\n\\n\\n\\n\\n\\n\\n12\\nMajor Towns in Palakkad District\\n\\n\\n\\n\\n\\n\\n\\n\\n13\\nGram panchayats in Palakkad District\\n\\n\\n\\n\\n\\n\\n\\n\\n14\\nSee also\\n\\n\\n\\n\\n\\n\\n\\n\\n15\\nReferences\\n\\n\\n\\n\\n\\n\\n\\n\\n16\\nFurther reading\\n\\n\\n\\n\\n\\n\\n\\n\\n17\\nSatellite Images\\n\\n\\n\\n\\n\\n\\n\\n\\n18\\nExternal links\\n\\n\\n\\n\\n\\n\\n\\n\\n\\n\\n\\n\\n\\n\\n\\n\\n\\n\\nToggle the table of contents\\n\\n\\n\\n\\n\\n\\n\\nPalakkad district\\n\\n\\n\\n32 languages'),\n",
              " Document(metadata={'source': 'https://en.wikipedia.org/wiki/Palakkad_district', 'title': 'Palakkad district - Wikipedia', 'language': 'en'}, page_content='32 languages\\n\\n\\n\\n\\nالعربيةবাংলা閩南語 / Bân-lâm-gúभोजपुरीCebuanoDeutschEspañolEuskaraفارسیFrançaisગુજરાતીहिन्दीBahasa IndonesiaItalianoಕನ್ನಡമലയാളംमराठीمصرىNederlandsनेपाल भाषाNorsk bokmålOccitanРусскийसंस्कृतम्ᱥᱟᱱᱛᱟᱲᱤSimple EnglishSvenskaதமிழ்తెలుగుاردوTiếng Việt中文\\n\\nEdit links\\n\\n\\n\\n\\n\\n\\n\\n\\n\\n\\n\\nArticleTalk\\n\\n\\n\\n\\n\\nEnglish\\n\\n\\n\\n\\n\\n\\n\\n\\n\\n\\n\\n\\n\\n\\n\\n\\n\\nReadEditView history\\n\\n\\n\\n\\n\\n\\n\\nTools\\n\\n\\n\\n\\n\\nTools\\nmove to sidebar\\nhide\\n\\n\\n\\n\\t\\tActions\\n\\t\\n\\n\\nReadEditView history\\n\\n\\n\\n\\n\\n\\t\\tGeneral'),\n",
              " Document(metadata={'source': 'https://en.wikipedia.org/wiki/Palakkad_district', 'title': 'Palakkad district - Wikipedia', 'language': 'en'}, page_content='General\\n\\t\\n\\n\\nWhat links hereRelated changesUpload fileSpecial pagesPermanent linkPage informationCite this pageGet shortened URLDownload QR code\\n\\n\\n\\n\\n\\n\\t\\tPrint/export\\n\\t\\n\\n\\nDownload as PDFPrintable version\\n\\n\\n\\n\\n\\n\\t\\tIn other projects\\n\\t\\n\\n\\nWikimedia CommonsWikivoyageWikidata item\\n\\n\\n\\n\\n\\n\\n\\n\\n\\n\\n\\n\\n\\n\\n\\n\\n\\n\\n\\n\\n\\nAppearance\\nmove to sidebar\\nhide\\n\\n\\n\\n\\n\\n\\n\\n\\n\\nCoordinates: 10°46′30″N 76°39′04″E\\ufeff / \\ufeff10.775°N 76.651°E\\ufeff / 10.775; 76.651\\n\\nFrom Wikipedia, the free encyclopedia\\n\\n\\nDistrict in Kerala, India\\nThis article is about the district. For the city, see Palakkad.'),\n",
              " Document(metadata={'source': 'https://en.wikipedia.org/wiki/Palakkad_district', 'title': 'Palakkad district - Wikipedia', 'language': 'en'}, page_content='District in Kerala, IndiaPalakkadDistrict'),\n",
              " Document(metadata={'source': 'https://en.wikipedia.org/wiki/Palakkad_district', 'title': 'Palakkad district - Wikipedia', 'language': 'en'}, page_content='Clockwise from top:Palakkad Fort, Ottapalam town, Alathur town, Malampuzha Dam Water Canal, Pattambi town, Palakkad cityNickname:\\xa0The Granary of KeralaLocation in KeralaPalakkad districtCoordinates: 10°46′30″N 76°39′04″E\\ufeff / \\ufeff10.775°N 76.651°E\\ufeff / 10.775; 76.651Country\\xa0IndiaStateKeralaRegionSouth MalabarHeadquartersPalakkadGovernment\\xa0•\\xa0CollectorDr.S.Chitra IAS[1]\\xa0•\\xa0S.PR. Anand, IPS\\xa0•\\xa0DFONarendranath Veluri, IFSArea\\xa0•\\xa0Total4,482\\xa0km2 (1,731\\xa0sq\\xa0mi)\\xa0•\\xa0Rank2ndHighest\\xa0elevation (Anginda peak)2,383\\xa0m'),\n",
              " Document(metadata={'source': 'https://en.wikipedia.org/wiki/Palakkad_district', 'title': 'Palakkad district - Wikipedia', 'language': 'en'}, page_content='(Anginda peak)2,383\\xa0m (7,818\\xa0ft)Population\\xa0(2018)[2]\\xa0•\\xa0Total2,952,254\\xa0•\\xa0Rank5\\xa0•\\xa0Density659/km2 (1,710/sq\\xa0mi)Languages\\xa0•\\xa0OfficialMalayalam, English[3]\\xa0•\\xa0Regional93.7% Malayalam4.8% Tamil1.5% Others'),\n",
              " Document(metadata={'source': 'https://en.wikipedia.org/wiki/Palakkad_district', 'title': 'Palakkad district - Wikipedia', 'language': 'en'}, page_content='[4]Religions\\xa0•\\xa0Religion (2011)66.8% Hinduism28.9% Islam4.1% Christianity0.2% Others[5]Time zoneUTC+5:30 (IST)ISO 3166 codeIN-KL-PKDVehicle registrationKL-09 Palakkad, KL-49 Alathur, KL-50 Mannarkkad, KL-51 Ottappalam, KL-52 Pattambi, KL-70 Chittur-ThathamangalamHDI (2005) 0.761[6] ( High)Literacy89.31%[7]Websitewww.palakkad.nic.in'),\n",
              " Document(metadata={'source': 'https://en.wikipedia.org/wiki/Palakkad_district', 'title': 'Palakkad district - Wikipedia', 'language': 'en'}, page_content='Palakkad (Malayalam: [pɐːlɐkːɐːɖɨ̆] ⓘ) is one of the 14 districts in the Indian state of Kerala. It was carved out of the southeastern region of the former Malabar District on 1 January 1957. It is located at the central region of Kerala and is the second largest district in the state after Idukki. The city of Palakkad is the district headquarters. Palakkad is bordered on the northwest by the Malappuram district, on the southwest by the Thrissur district, on the northeast by Nilgiris district, and on the east by Coimbatore district of Tamil'),\n",
              " Document(metadata={'source': 'https://en.wikipedia.org/wiki/Palakkad_district', 'title': 'Palakkad district - Wikipedia', 'language': 'en'}, page_content='Coimbatore district of Tamil Nadu. The district is nicknamed \"The granary of Kerala\". Palakkad is the gateway to Kerala due to the presence of the Palakkad Gap, in the Western Ghats. The 2,383 m high Anginda peak, which is situated in the border of Palakkad district, Nilgiris district, and Malappuram district, in Silent Valley National Park, is the highest point of elevation in Palakkad district. Palakkad city is about 347 kilometres (216\\xa0mi) northeast of the state capital, Thiruvananthapuram.'),\n",
              " Document(metadata={'source': 'https://en.wikipedia.org/wiki/Palakkad_district', 'title': 'Palakkad district - Wikipedia', 'language': 'en'}, page_content=\"The total area of the district is 4,480\\xa0km2 (1,730\\xa0sq\\xa0mi) which is 11.5% of the state's area which makes it the second largest district of Kerala. Out of the total area of 4,480\\xa0km2 (1,730\\xa0sq\\xa0mi), about 1,360\\xa0km2 (530\\xa0sq\\xa0mi) of land is covered by forests. Most parts of the district fall in the midland region (elevation 75–250\\xa0m or 246–820\\xa0ft), except the Nelliampathy-Parambikulam area in the Chittur taluk in the south and Attappadi-Malampuzha area in the north, which are hilly and fall in the highland region (elevation > 250\\xa0m or 820\\xa0ft).\"),\n",
              " Document(metadata={'source': 'https://en.wikipedia.org/wiki/Palakkad_district', 'title': 'Palakkad district - Wikipedia', 'language': 'en'}, page_content='> 250\\xa0m or 820\\xa0ft). Attappadi valley of Palakkad district, along with the Chaliyar valley of the neighbouring Nilambur region (Eastern Eranad region) in Malappuram district, is known for natural Gold fields,[8] which is also seen in other parts of Nilgiri Biosphere Reserve.'),\n",
              " Document(metadata={'source': 'https://en.wikipedia.org/wiki/Palakkad_district', 'title': 'Palakkad district - Wikipedia', 'language': 'en'}, page_content='The climate is pleasant for most parts of the year, the exception is the summer months. There is sufficient rainfall and it receives more rainfall than the extreme southern districts of Kerala. The district has many small and medium rivers, which are tributaries of the Bharathapuzha River. A number of dams have been built across these rivers, the largest being the Malampuzha dam. The largest in volume capacity is the Parambikulam Dam[9] Bhavani River, which is a tributary of Kaveri River, also flows through the district. Kadalundi River has'),\n",
              " Document(metadata={'source': 'https://en.wikipedia.org/wiki/Palakkad_district', 'title': 'Palakkad district - Wikipedia', 'language': 'en'}, page_content='district. Kadalundi River has its origin in Silent Valley National Park. The Chalakudy River also flows through district.'),\n",
              " Document(metadata={'source': 'https://en.wikipedia.org/wiki/Palakkad_district', 'title': 'Palakkad district - Wikipedia', 'language': 'en'}, page_content='Palakkad district have total number of seven municipalities.The largest city in the district is the Palakkad municipality.[10] The municipalities in the district are Palakkad city, Ottapalam, Shornur, Chittur-Tattamangalam, Pattambi, Cherpulassery and Mannarkkad.[11] Out of the total Palakkad District population for 2011 Census of India, 24.09 percent lives in urban regions of district. In total 676,810 people lives in urban areas of which males are 328,012 and females are 348,798. Sex Ratio in urban region of Palakkad District is 1063 as per'),\n",
              " Document(metadata={'source': 'https://en.wikipedia.org/wiki/Palakkad_district', 'title': 'Palakkad district - Wikipedia', 'language': 'en'}, page_content='District is 1063 as per 2011 Census of India data. Similarly child sex ratio in Palakkad District was 959 in 2011 census. Child population (0–6) in urban region was 70,405 of which males and females were 35,933 and 34,472. This child population figure of Palakkad district is 10.95% of total urban population.'),\n",
              " Document(metadata={'source': 'https://en.wikipedia.org/wiki/Palakkad_district', 'title': 'Palakkad district - Wikipedia', 'language': 'en'}, page_content='Etymology[edit]\\nIn earlier times, Palakkad was also known as Palakkattussery.[12] Many concluded that Palakkad is derived from \\'Pala\\', an indigenous tree which once densely occupied the land; and hence Palakkad or \"the forest of Pala trees\".Some believe, connecting the ancient Jain Temple in the town, that the sacred language Pali gave the name.[13] In 1757, to check the invasion of the Zamorin of Calicut, the Palakkad Raja sought the help of Hyder Ali of Mysore. Later his son Tipu sultan became the ruler.'),\n",
              " Document(metadata={'source': 'https://en.wikipedia.org/wiki/Palakkad_district', 'title': 'Palakkad district - Wikipedia', 'language': 'en'}, page_content='Before the Indian Independence, present-day Kerala state was scattered in South Canara, Malabar District of British India, and two princely states namely Cochin and Travancore. The first All-Kerala conference of Indian National Congress was held in 1921 at Ottapalam on the banks of the river Bharathappuzha, which also later demanded a separate state for the Malayalam-speaking regions in future Independent India. Kerala Pradesh Congress Committee was formed in that conference. Before that, Malabar District, Cochin, and Travancore had separate'),\n",
              " Document(metadata={'source': 'https://en.wikipedia.org/wiki/Palakkad_district', 'title': 'Palakkad district - Wikipedia', 'language': 'en'}, page_content='and Travancore had separate Congress committees. Ottapalam is located right in the middle of Kerala state.'),\n",
              " Document(metadata={'source': 'https://en.wikipedia.org/wiki/Palakkad_district', 'title': 'Palakkad district - Wikipedia', 'language': 'en'}, page_content='History[edit]\\nSee also: Palakkad, Zamorin of Calicut, Nedungadi, and Kingdom of Valluvanad'),\n",
              " Document(metadata={'source': 'https://en.wikipedia.org/wiki/Palakkad_district', 'title': 'Palakkad district - Wikipedia', 'language': 'en'}, page_content='The region around Coimbatore was ruled by the Cheras during Sangam period between c. first and the fourth centuries CE and it served as the eastern entrance to the Palakkad Gap, the principal trade route between the Malabar Coast and Tamil Nadu.[14] Palakkad city, which lies on the northern bank of the River Bharathappuzha, was ruled by the Palakkad Rajas (Tarur Swaroopam).[15] Palakkad Raja had the right over the Taluks of Palakkad, Alathur, and Chittur.[15] The original headquarters of Palakkad Rajas were at Athavanad, Tirur Taluk, in'),\n",
              " Document(metadata={'source': 'https://en.wikipedia.org/wiki/Palakkad_district', 'title': 'Palakkad district - Wikipedia', 'language': 'en'}, page_content='at Athavanad, Tirur Taluk, in present-day Malappuram district.[15] It is said that their lands at Athavanad area were given to the Azhvanchery Thamprakkal and the Palakkad-Chittur areas were bought from them instead.[15]'),\n",
              " Document(metadata={'source': 'https://en.wikipedia.org/wiki/Palakkad_district', 'title': 'Palakkad district - Wikipedia', 'language': 'en'}, page_content='Pattambi-Ottapalam Taluk were ruled by the Zamorin of Calicut, and Mannarkkad Taluk was a part of the Kingdom of Valluvanad, which was also later annexed by the Zamorin.[15] Pattambi – Ottapalam areas were originally a part of Nedunganad (ruled by Nedungadis, which was later annexed by the Kingdom of Valluvanad, which was again followed by the conquest of the Zamorin of Calicut around 15th century C. E.[15] Nedunganad was ruled by a Samanthan Nair clan known as Nedungadis, similar to the Eradis of Eranad and Vellodis of Valluvanad. Other'),\n",
              " Document(metadata={'source': 'https://en.wikipedia.org/wiki/Palakkad_district', 'title': 'Palakkad district - Wikipedia', 'language': 'en'}, page_content='Vellodis of Valluvanad. Other kingdoms in Palakkad district during medieval period included Kollengode and Kavalappara.[15] Both of them became a part of the kingdom of Zamorin of Calicut around 15th century CE.[15] Parts of Palakkad had also become under the Zamorin for sometime.[15]'),\n",
              " Document(metadata={'source': 'https://en.wikipedia.org/wiki/Palakkad_district', 'title': 'Palakkad district - Wikipedia', 'language': 'en'}, page_content='In 1757, to resist the invasion of the Zamorin of Kozhikode, the Palakkad Raja sought the help of the Hyder Ali of Mysore.[16] In 1766, Hyder Ali defeated the Zamorin of Kozhikode – an East India Company ally at the time – and absorbed Kozhikode into his state.[16] The Hyder Ali rebuilt Palakkad Fort in 1766.[17] The smaller princely states in northern and north-central parts of Kerala (comprising Malabar District) including Kolathunadu, Kottayam, Kadathanadu, Kozhikode, Tanur, Valluvanad, and Palakkad were unified under the rulers of Mysore'),\n",
              " Document(metadata={'source': 'https://en.wikipedia.org/wiki/Palakkad_district', 'title': 'Palakkad district - Wikipedia', 'language': 'en'}, page_content='under the rulers of Mysore and were made a part of the larger Kingdom of Mysore.[18] His son and successor, Tipu Sultan, launched campaigns against the expanding British East India Company, resulting in two of the four Anglo-Mysore Wars.[19][20]'),\n",
              " Document(metadata={'source': 'https://en.wikipedia.org/wiki/Palakkad_district', 'title': 'Palakkad district - Wikipedia', 'language': 'en'}, page_content='Malabar District in 1951'),\n",
              " Document(metadata={'source': 'https://en.wikipedia.org/wiki/Palakkad_district', 'title': 'Palakkad district - Wikipedia', 'language': 'en'}, page_content='Tipu ultimately ceded the Malabar District and South Kanara to the company in the 1790s as a result of the Third Anglo-Mysore War and the subsequent Treaty of Seringapatam; both were annexed to the Bombay Presidency (which had also included other regions in the western coast of India) of British India in the years 1792 and 1799 respectively.[21][22][23] Later in 1800, both of the Malabar District and South Canara were separated from Bombay presidency to merge them with the neighbouring Madras Presidency.[24] Palakkad was under British Raj'),\n",
              " Document(metadata={'source': 'https://en.wikipedia.org/wiki/Palakkad_district', 'title': 'Palakkad district - Wikipedia', 'language': 'en'}, page_content='was under British Raj until 1947.'),\n",
              " Document(metadata={'source': 'https://en.wikipedia.org/wiki/Palakkad_district', 'title': 'Palakkad district - Wikipedia', 'language': 'en'}, page_content='The municipality of Palakkad was formed on 1 November 1866 according to the Madras Act 10 of 1865 (Amendment of the Improvements in Towns act 1850)[25][26][27][28] of the British Indian Empire, along with the municipalities of Kozhikode, Kannur, Thalassery, and Fort Kochi, making them the first modern municipalities in the modern state of Kerala.'),\n",
              " Document(metadata={'source': 'https://en.wikipedia.org/wiki/Palakkad_district', 'title': 'Palakkad district - Wikipedia', 'language': 'en'}, page_content='Present-day Palakkad district was a part of Malabar District before the formation of Palakkad district.[29][17] Thrithala Revenue block of present-day Pattambi Taluk was a part of the Ponnani taluk.[30] Rest of Pattambi Taluk, Ottapalam, and Mannarkkad Taluks were included in the Valluvanad Taluk of Malappuram Revenue Division in Malabar District.[17][31] The remaining three Taluks of current Palakkad district (Palakkad, Alathur, and Chittur) together formed the Palghat Taluk of Malabar District during British Raj.[17][31]'),\n",
              " Document(metadata={'source': 'https://en.wikipedia.org/wiki/Palakkad_district', 'title': 'Palakkad district - Wikipedia', 'language': 'en'}, page_content='At the time of 1951 Census of India, Palakkad was the second-largest city in the erstwhile Malabar District after Kozhikode.[32] At that time only two towns in Malabar was treated as cities: Kozhikode and Palakkad.[32] Following the formation of the state of Kerala in 1956, the erstwhile Taluk of Palakkad in Malabar District was divided into three: Palakkad, Alathur.[24] Palakkad district was formed by taking parts of the erstwhile Malabar District.[31] On 16 June 1969, Perinthalmanna taluk and Ponnani taluk were separated to form Malappuram'),\n",
              " Document(metadata={'source': 'https://en.wikipedia.org/wiki/Palakkad_district', 'title': 'Palakkad district - Wikipedia', 'language': 'en'}, page_content='separated to form Malappuram district.[30] On same day, Parudur village of Tirur Taluk was transferred to Palakkad district.[30][33] Later some years, the Silent Valley National Park of Karuvarakundu village in Eranad Taluk (now Karuvarakundu is a part of Nilambur Taluk) of Malappuram district was transferred Mannarkkad Taluk in Palakkad district.[33]'),\n",
              " Document(metadata={'source': 'https://en.wikipedia.org/wiki/Palakkad_district', 'title': 'Palakkad district - Wikipedia', 'language': 'en'}, page_content='Administration[edit]\\nMain article: Political Divisions of Palakkad District\\nKerala Legislative Assembly seats[edit]\\nLegislative Assembly constituencies with their limits\\nThere are 12 legislative assembly seats in Palakkad.\\n\\n\\nKerala Legislative Assembly Constituencies from Palakkad district (12)\\n\\n\\nSl no.\\n\\nConstituency\\n\\nMember\\n\\nParty\\n\\nAlliance\\n\\n\\n1\\nThrithala\\nM. B. Rajesh\\nCPI(M)\\n\\xa0\\xa0LDF\\n\\n\\n2\\nPattambi\\nMuhammed Muhsin\\nCPI\\n\\xa0\\xa0LDF\\n\\n\\n3\\nShornur\\nP. K. Sasi\\nCPI(M)\\n\\xa0\\xa0LDF\\n\\n\\n4\\nOttapalam\\nP. Unni\\nCPI(M)\\n\\xa0\\xa0LDF\\n\\n\\n5\\nKongad\\nK. Shanthakumari\\nCPI(M)\\n\\xa0\\xa0LDF'),\n",
              " Document(metadata={'source': 'https://en.wikipedia.org/wiki/Palakkad_district', 'title': 'Palakkad district - Wikipedia', 'language': 'en'}, page_content='6\\nMannarkkad\\nN. Samsudheen\\nIUML\\n\\xa0\\xa0UDF\\n\\n\\n7\\nMalampuzha\\nPrabhakaran\\nCPI(M)\\n\\xa0\\xa0LDF\\n\\n\\n8\\nPalakkad\\nShafi Parambil\\nINC\\n\\xa0\\xa0UDF\\n\\n\\n9\\nTarur\\nA. K. Balan\\nCPI(M)\\n\\xa0\\xa0LDF\\n\\n\\n10\\nChittur\\nK. Krishnankutty\\nJD(S)\\n\\xa0\\xa0LDF\\n\\n\\n11\\nNenmara\\nK. Babu\\nCPI(M)\\n\\xa0\\xa0LDF\\n\\n\\n12\\nAlathur\\nK. D. Prasenan\\nCPI(M)\\n\\xa0\\xa0LDF\\n\\nMembers of Lok Sabha[edit]\\nThere are two Lok Sabha seats in Palakkad district.\\n\\n\\n\\nSl. No\\n\\nConstituency\\n\\nMP\\n\\nParty\\n\\nAlliance\\n\\n\\n1\\nPalakkad\\nV.K Sreekandan\\nINC\\n\\xa0\\xa0UDF\\n\\n\\n2\\nAlathur\\nK. Radhakrishnan\\nCPI(M)\\n\\xa0\\xa0LDF\\n\\n\\n3\\nPonnani(Thrithala only)\\nE. T. Mohammed Basheer\\nIUML\\n\\xa0\\xa0UDF'),\n",
              " Document(metadata={'source': 'https://en.wikipedia.org/wiki/Palakkad_district', 'title': 'Palakkad district - Wikipedia', 'language': 'en'}, page_content='Subdistricts (Taluks)[edit]\\nUnder the amended Indian Constitution, decentralized planning has been implemented in the state. The headquarters of the District Panchayat is at Palakkad Municipal town. The District Panchayat office building is near the Civil Station.\\nTaluks of Palakkad\\n\\n\\n\\n\\n\\nSubdistrict\\n\\nArea(in km2)\\n\\nPopulation(2011)\\n\\nVillages\\n\\n\\nPattambi\\n369\\n467,722\\n18\\n\\n\\nOttapalam\\n477\\n462,970\\n24\\n\\n\\nMannarkkad\\n1,209\\n384,393\\n25\\n\\n\\nPalakkad\\n713\\n612,116\\n30\\n\\n\\nChittur\\n1,136\\n437,738\\n30\\n\\n\\nAlathur\\n571\\n444,995\\n30'),\n",
              " Document(metadata={'source': 'https://en.wikipedia.org/wiki/Palakkad_district', 'title': 'Palakkad district - Wikipedia', 'language': 'en'}, page_content='Alathur\\n571\\n444,995\\n30\\n\\n\\nSources: 2011 Census of India,[34] Official website of Palakkad district[35]'),\n",
              " Document(metadata={'source': 'https://en.wikipedia.org/wiki/Palakkad_district', 'title': 'Palakkad district - Wikipedia', 'language': 'en'}, page_content='Economy[edit]\\nStadium bypass, developing brand streetGrowing Skyline of Palakkad city\\nUpcoming Shopping Mall in Kanjikode'),\n",
              " Document(metadata={'source': 'https://en.wikipedia.org/wiki/Palakkad_district', 'title': 'Palakkad district - Wikipedia', 'language': 'en'}, page_content='The presence of Palakkad Gap and proximity to Coimbatore make Palakkad economically important. Palakkad city is one of the largest industrial hubs in Kerala. Kanjikode area of Palakkad city is the second industrial hub of Kerala after Kochi. Kanjikode is one of the largest industrial areas in Kerala and companies like Indian Telephone Industries Limited (ITI), Instrumentation Limited, Fluid Control Research Institute, Saint-Gobain India Private Limited (formerly SEPR Refractories India Private Limited), Patspin India Ltd, Pepsi, PPS steel'),\n",
              " Document(metadata={'source': 'https://en.wikipedia.org/wiki/Palakkad_district', 'title': 'Palakkad district - Wikipedia', 'language': 'en'}, page_content='India Ltd, Pepsi, PPS steel (Kerela) Pvt Ltd, United breweries, Empee Distilleries, Marico, Bharat Earth Movers Limited (BEML), Rubfila International Ltd, Arya Vaidya Pharmacy have production facilities.'),\n",
              " Document(metadata={'source': 'https://en.wikipedia.org/wiki/Palakkad_district', 'title': 'Palakkad district - Wikipedia', 'language': 'en'}, page_content='The commercialization of Palakkad City is Picking up and growing at steady pace in recent years, Nowadays Palakkad City and the suburbs are witnessing rapid amount of commercial and public development activities. The developments are mainly concentrated on the bypass roads, Both Stadium and Calicut bypass roads passing through city are getting major commercial projects. Major national and international branded Retail chains, food Chains, Restaurants, Hotels, Shopping complexes, Textiles, branded jewellers, Vehicle Showrooms, are functioning in'),\n",
              " Document(metadata={'source': 'https://en.wikipedia.org/wiki/Palakkad_district', 'title': 'Palakkad district - Wikipedia', 'language': 'en'}, page_content='Showrooms, are functioning in and around city. There are many housing colonies consist of Villas and apartments are also present in Palakkad City and suburbs.'),\n",
              " Document(metadata={'source': 'https://en.wikipedia.org/wiki/Palakkad_district', 'title': 'Palakkad district - Wikipedia', 'language': 'en'}, page_content='Transport[edit]\\nPalakkad Junction Railway StationKSRTC Bus terminal, Palakkad\\nShoranur Junction railway stationA view of the railway bridge over the river Bharathappuzha at Shoranur\\nAir[edit]\\nThe nearest international airport is Coimbatore International Airport, which is about 62 kilometres (39\\xa0mi) from Palakkad. However, Cochin International Airport and Calicut International Airport serve the city as well.'),\n",
              " Document(metadata={'source': 'https://en.wikipedia.org/wiki/Palakkad_district', 'title': 'Palakkad district - Wikipedia', 'language': 'en'}, page_content='There has been a proposal for a mini domestic airport at East Yakkara with respect to setting up domestic airports for enhanced air connectivity by the civil aviation ministry of India. 60 acres has been identified for the project at East Yakkara Palakkad.[36]'),\n",
              " Document(metadata={'source': 'https://en.wikipedia.org/wiki/Palakkad_district', 'title': 'Palakkad district - Wikipedia', 'language': 'en'}, page_content='Railways[edit]'),\n",
              " Document(metadata={'source': 'https://en.wikipedia.org/wiki/Palakkad_district', 'title': 'Palakkad district - Wikipedia', 'language': 'en'}, page_content='The Palakkad railway division is one of the six administrative divisions of the Southern Railway zone of Indian Railways, headquartered at Palakkad. It is the smallest railway division in Southern Railway. It was formed by dissolving the Podanur division. Managing 588 route kilometers of track in the states of Kerala, Tamil Nadu, Karnataka and Mahé (in the Union Territory of Puducherry), it is one of the oldest railway divisions in India. The major stations under this railway division are Palakkad Junction, Shoranur Junction, Tirur, Kozhikode,'),\n",
              " Document(metadata={'source': 'https://en.wikipedia.org/wiki/Palakkad_district', 'title': 'Palakkad district - Wikipedia', 'language': 'en'}, page_content='Junction, Tirur, Kozhikode, Thalassery, Kannur, Kasaragod, Mangalore Central, Mangalore Junction and Pollachi Junction. It is the only division in India with no terminal facilities in its headquarters.'),\n",
              " Document(metadata={'source': 'https://en.wikipedia.org/wiki/Palakkad_district', 'title': 'Palakkad district - Wikipedia', 'language': 'en'}, page_content='The terminal facility of Palakkad division is situated in Shoranur Junction & Mangalore Central of Karnataka state.'),\n",
              " Document(metadata={'source': 'https://en.wikipedia.org/wiki/Palakkad_district', 'title': 'Palakkad district - Wikipedia', 'language': 'en'}, page_content='The city is served by two railway stations – Palakkad Junction is a broad gauge railway junction (located at Olavakkode, about 4\\xa0km from Municipal bus stand) and Palakkad Town railway station located in the heart of the Palakkad city. The cities of Coimbatore, Tiruchirappalli, Erode, Salem, Thiruvananthapuram, Kollam, Mangalore, Kozhikode and Ernakulam are connected by the broad gauge line. Train services to Pollachi, Dindigul and Madurai are through the broad gauge line through Palakkad Town station.[37] The Shornur Junction also has rail'),\n",
              " Document(metadata={'source': 'https://en.wikipedia.org/wiki/Palakkad_district', 'title': 'Palakkad district - Wikipedia', 'language': 'en'}, page_content='Junction also has rail connections to Mangalore and the Konkan Railway, enabling travel towards Goa and Bombay. The trains coming from other parts of India are diverted to the north and south Kerala from Shoranur Junction in Palakkad District. From here, there is train service to Calicut, Ernakulam, Trivandrum, Shoranur and Nilambur.'),\n",
              " Document(metadata={'source': 'https://en.wikipedia.org/wiki/Palakkad_district', 'title': 'Palakkad district - Wikipedia', 'language': 'en'}, page_content='Shoranur Junction railway station is the largest railway station in Kerala which plays a major role in connecting the southwestern coast of India (Mangalore) with the southeastern coast (Chennai) through Palghat Gap. It is also the meeting point of three important Railway lines: Mangalore-Chennai line, Nilambur–Shoranur line, and Kanyakumari-Shoranur line, due to the presence of Palakkad Gap.'),\n",
              " Document(metadata={'source': 'https://en.wikipedia.org/wiki/Palakkad_district', 'title': 'Palakkad district - Wikipedia', 'language': 'en'}, page_content='Road[edit]\\nPalakkad has a medium-grade network of roads. The National Highway 544 from Salem to Kochi passes through the outskirts of the city.National Highway 966 starts from Palakkad and joins NH 66 near Kozhikode.[38]  Another important road is the Palakkad – Ponnani road which connects NH 544 and Mumbai-Kanyakumari coastal NH 66.'),\n",
              " Document(metadata={'source': 'https://en.wikipedia.org/wiki/Palakkad_district', 'title': 'Palakkad district - Wikipedia', 'language': 'en'}, page_content='Palakkad City has four Bus Stations includes KSRTCTerminal Palakkad and three Private Bus stands named Stadium Stand, Municipal Bus stand, and Town Bus Stand. Palakkad KSRTC depot is the only depot in Palakkad district. Sub depot is present at Chittur serving Chittur-Thathamangalam. Operating centres are present at Vadakkenchery and Mannarkkad serving the respective towns. KSRTC Station Master office is present at Pattambi.[39]'),\n",
              " Document(metadata={'source': 'https://en.wikipedia.org/wiki/Palakkad_district', 'title': 'Palakkad district - Wikipedia', 'language': 'en'}, page_content='Demographics[edit]\\nHistorical populationYearPop.±% p.a.1901763,917—\\xa0\\xa0\\xa0\\xa01911819,726+0.71%1921853,988+0.41%1931941,286+0.98%19411,025,058+0.86%19511,214,208+1.71%19611,369,508+1.21%19711,685,347+2.10%19812,044,399+1.95%19912,382,235+1.54%20012,617,482+0.95%20112,809,934+0.71%20182,952,254+0.71%source:[40]\\n\\n\\n\\nReligions in Palakkad district (2011)[5]\\n\\nReligion\\n\\nPercent\\n\\n\\nHinduism\\n\\u2009\\n66.76%\\n\\n\\nIslam\\n\\u2009\\n28.93%\\n\\n\\nChristianity\\n\\u2009\\n4.07%\\n\\n\\nOther or not stated\\n\\u2009\\n0.24%'),\n",
              " Document(metadata={'source': 'https://en.wikipedia.org/wiki/Palakkad_district', 'title': 'Palakkad district - Wikipedia', 'language': 'en'}, page_content='According to the 2018 Statistics Report, Palakkad district has a population of 2,952,254,[2] roughly equal to the nation of Armenia[41] or the state Utah in the U.S.[42] so it a ranking of 138th in India (out of a total of 640).[7] The district has a population density of 659 inhabitants per square kilometre (1,710/sq\\xa0mi).[7] Its population growth rate over the decade 2001–2011 was 7.39%.[7] Palakkad has a sex ratio of 1067 females for every 1000 males.[7] The literacy rate of Palakkad district is 89.49%, which is the lowest in Kerala.[43]'),\n",
              " Document(metadata={'source': 'https://en.wikipedia.org/wiki/Palakkad_district', 'title': 'Palakkad district - Wikipedia', 'language': 'en'}, page_content='is the lowest in Kerala.[43] Scheduled Castes and Scheduled Tribes make up 14.37% and 1.74% of the population respectively.[7] The district is home to the largest ratio of Scheduled Castes (SC) population in Kerala, which accounts for around 15% of total population of the district.[44]'),\n",
              " Document(metadata={'source': 'https://en.wikipedia.org/wiki/Palakkad_district', 'title': 'Palakkad district - Wikipedia', 'language': 'en'}, page_content='The total Palakkad District population living in rural areas is 2,133,124 of which males and females are 1,031,466 and 1,101,658 respectively. In rural areas of Palakkad District, sex ratio is 1068 females per 1000 males. If child sex ratio data of Palakkad district is considered, figure is 969 girls per 1000 boys. Child population in the age 0–6 is 231,892 in rural areas of which males were 117,763 and females were 114,129. The child population comprises 11.42% of total rural population of Palakkad district. Literacy rate in rural areas of'),\n",
              " Document(metadata={'source': 'https://en.wikipedia.org/wiki/Palakkad_district', 'title': 'Palakkad district - Wikipedia', 'language': 'en'}, page_content='rate in rural areas of Palakkad District is 88.31% as per census data 2011. Gender wise, male and female literacy stood at 92.36 and 84.56 percent respectively. In total, 1,678,895 people were literate of which males and females were 843,855 and 835,040 respectively.'),\n",
              " Document(metadata={'source': 'https://en.wikipedia.org/wiki/Palakkad_district', 'title': 'Palakkad district - Wikipedia', 'language': 'en'}, page_content='In 2011, Palakkad had population of 2,809,934 of which male and female were 1,359,478 and 1,450,456 respectively. In 2001 census, Palakkad had a population of 2,617,482 of which males were 1,266,985 and remaining 1,350,497 were females. Palakkad District population constituted 8.41 percent of total Kerala population in the census of 2011. In 2001 census, this figure for Palakkad District was at 8.22 percent of Kerala population.[7]'),\n",
              " Document(metadata={'source': 'https://en.wikipedia.org/wiki/Palakkad_district', 'title': 'Palakkad district - Wikipedia', 'language': 'en'}, page_content='In the 2011 Census of India there was change of 7.35 percent in the population compared to population as per 2001. In the previous census of India 2001, Palakkad District recorded increase of 9.88 percent to its population compared to 1991. The initial provisional data released by census India 2011, shows that density of Palakkad district for 2011 is 627 people per km2. In 2001, Palakkad District density was at 584 people per km2. Palakkad District administers 4,482 square kilometers of areas. Average literacy rate of Palakkad in 2011 were'),\n",
              " Document(metadata={'source': 'https://en.wikipedia.org/wiki/Palakkad_district', 'title': 'Palakkad district - Wikipedia', 'language': 'en'}, page_content='rate of Palakkad in 2011 were 89.31 compared to 84.35 of 2001. If things are looked out at gender wise, male and female literacy were 93.10 and 85.79 respectively. For 2001 census, same figures stood at 89.52 and 79.56 in Palakkad District. Total literate in Palakkad District were 2,239,492 of which male and female were 1,122,600 and 1,116,892 respectively. In 2001, Palakkad District had 1,938,818 in its district, With regards to Sex Ratio in Palakkad, it stood at 1067 per 1000 male compared to 2001 census figure of 1066. The average national'),\n",
              " Document(metadata={'source': 'https://en.wikipedia.org/wiki/Palakkad_district', 'title': 'Palakkad district - Wikipedia', 'language': 'en'}, page_content='of 1066. The average national sex ratio in India is 940 as per latest reports of Census 2011 Directorate. In 2011 Census of India, child sex ratio is 967 girls per 1000 boys compared to figure of 963 girls per 1000 boys of 2001 census data.[7]'),\n",
              " Document(metadata={'source': 'https://en.wikipedia.org/wiki/Palakkad_district', 'title': 'Palakkad district - Wikipedia', 'language': 'en'}, page_content='There were total 302,297 children under age of 0–6 against 318,884 of 2001 census. Of total 302,297 male and female were 153,696 and 148,601 respectively. Child Sex Ratio as per 2011 Census of India was 967 compared to 963 of census 2001. In 2011, Children under 0–6 formed 10.76 percent of Palakkad District compared to 12.18 percent of 2001. There was net change of −1.42 percent in this compared to previous census of India.[7]'),\n",
              " Document(metadata={'source': 'https://en.wikipedia.org/wiki/Palakkad_district', 'title': 'Palakkad district - Wikipedia', 'language': 'en'}, page_content='Languages[edit]\\n\\n\\n\\n\\n\\n\\n\\n\\n\\nLanguages of Palakkad district (2011)[4]\\n\\n\\xa0\\xa0Malayalam (93.71%)\\xa0\\xa0Tamil (4.82%)\\xa0\\xa0Others (1.47%)\\n\\n\\nAt the time of the 2011 census, 93.71% of the population spoke Malayalam and 4.82% Tamil as their first language.[4]\\nThe administrative language and widely spoken language is Malayalam. Minority Dravidian languages like Irula (3560 speakers) and Kurumba (1028 speakers) are also spoken here. According to the 2011 census report, the percents of mother tongue of the total population is as follows:'),\n",
              " Document(metadata={'source': 'https://en.wikipedia.org/wiki/Palakkad_district', 'title': 'Palakkad district - Wikipedia', 'language': 'en'}, page_content='Tourist attractions[edit]\\nVarikkasseri Mana-one of the oldest traditional Namboothiri family houses (illam) in KeralaMalampuzha Dam EntrancePothundi Dam constructed in 19th century (British period), is one of the oldest dams in India\\nSilent Valley National ParkNelliampathi mountainsParambikulam Wildlife Sanctuary'),\n",
              " Document(metadata={'source': 'https://en.wikipedia.org/wiki/Palakkad_district', 'title': 'Palakkad district - Wikipedia', 'language': 'en'}, page_content=\"Attappadi Reserve Forest\\nDhoni Waterfalls\\nElivai Mala\\nFantasy Park\\nKanjirapuzha Dam\\nKannimara Teak[45]\\nKarimpuzha Kovilakam\\nKollengode\\nMalampuzha Dam\\nMalampuzha Garden\\nMampara peak (Raja's cliff)\\nMangalam Dam\\nMeenvallam Waterfalls\\nMeenkara Dam\\nNelliampathi hillstation\\nPalakkad Fort\\nParambikulam Dam\\nParambikulam Tiger Reserve\\nPothundi Dam\\nSilent Valley National Park\\nSiruvani Dam\\nSiruvani Waterfalls\\nVarikkasseri Mana\\nWalayar Dam\\nSekharipuram\\nSilent Valley National Park[edit]\\nMain article: Silent Valley National Park\\nSee also: Attappadi\"),\n",
              " Document(metadata={'source': 'https://en.wikipedia.org/wiki/Palakkad_district', 'title': 'Palakkad district - Wikipedia', 'language': 'en'}, page_content='It is located in the rich biodiversity of Nilgiri Biosphere Reserve. Karimpuzha Wildlife Sanctuary, New Amarambalam Reserved Forest, and Nedumkayam Rainforest in Nilambur Taluk of Malappuram district, Attappadi Reserved Forest in Mannarkkad Taluk of Palakkad district, and Mukurthi National Park of Nilgiris district, are located around Silent Valley National Park. Mukurthi peak, the fifth-highest peak in South India, and Anginda peak are also located in its vicinity. Bhavani River, a tributary of Kaveri River, and Kunthipuzha River, a tributary'),\n",
              " Document(metadata={'source': 'https://en.wikipedia.org/wiki/Palakkad_district', 'title': 'Palakkad district - Wikipedia', 'language': 'en'}, page_content='River, a tributary of Bharathappuzha river, originate in the vicinity of Silent Valley. The Kadalundi River has also its origin in Silent Valley.'),\n",
              " Document(metadata={'source': 'https://en.wikipedia.org/wiki/Palakkad_district', 'title': 'Palakkad district - Wikipedia', 'language': 'en'}, page_content='View of the Western Ghats Mountain Range from Mangalam Dam Reservoir\\nNoted personalities[edit]\\nMain article: List of people from Palakkad district\\nMaythil Radhakrishnan\\nV. T. Bhattathiripad\\nC. P. Mohammed\\nMajor Ravi\\nAnumol\\nManikandan Pattambi\\nKaushik Menon (Playback Singer)\\nKalamandalam Gopi\\nM.G. Sasi\\nShivaji (Malayalam actor)\\nAnita Nair\\nE Sreedharan (Metroman of India)\\nKunchan Nambiar\\nK. P. Kesava Menon (Idealist, Founder of Mathrubhoomi)\\nMethil Devika\\nM. T. Vasudevan Nair\\nO. V. Vijayan\\nM. B. Rajesh\\nK. Sankaranarayanan\\nSudev Nair'),\n",
              " Document(metadata={'source': 'https://en.wikipedia.org/wiki/Palakkad_district', 'title': 'Palakkad district - Wikipedia', 'language': 'en'}, page_content='Sudev Nair\\nShashi Tharoor\\nT. N. Seshan (Former Chief Election Commissioner)\\nP. R. Pisharoty (Kollengode, Father of remote sensing in India)\\nM. G. Ramachandran (Actor and former Chief Minister of Tamil Nadu)\\nNiranjan EK(Decorated Military officer)\\nVidya Balan (Bollywood actress)\\nShankar Mahadevan (Singer)\\nStephen Devassy (Pianist)\\nPriyamani (Actress)\\nRaghuvaran (Actor)\\nP R Nathan (Novelist, writer)\\nSwarnalatha (Singer)\\nUnni Mukundan (actor)\\nGovind Padmasoorya (actor)'),\n",
              " Document(metadata={'source': 'https://en.wikipedia.org/wiki/Palakkad_district', 'title': 'Palakkad district - Wikipedia', 'language': 'en'}, page_content='M.P. Sankunni Nair (Novelist)\\nPalghat Mani Iyer (Mridangist)\\nKocheril R. Narayanan (former president of india)\\nV P Menon\\nOlappamanna\\nO V Vijayan\\nAkkitham Achuthan Namboothiri\\nMalayattoor Ramakrishnan\\nO M C Narayanan Nambudiripad\\nK. S. Sethumadhavan\\nP. Unnikrishnan\\nOttapalam Pappan, Malayalam Drama and Film Actor\\nGautham Vasudev Menon, Tamil Film director\\nLal Jose, Malayalam film director\\nAnil Radhakrishnan Menon, Malayalam film director\\nBhaskar Menon, first Indian to head a multinational corporation, chairman of Lever Brothers (now Unilever)'),\n",
              " Document(metadata={'source': 'https://en.wikipedia.org/wiki/Palakkad_district', 'title': 'Palakkad district - Wikipedia', 'language': 'en'}, page_content='K. P. S. Menon, first Foreign Secretary of India. He also served pre-independence India as an Agent-General to China\\nM. G. K. Menon, former Union Minister and Scientific Adviser in the Rajiv Gandhi administration\\nKP Candeth, was a prominent Lieutenant General in the Indian army\\nShivshankar Menon, 4th National Security Advisor and 26th foreign secretary\\nM. K. Narayanan, the former chief of the Intelligence Bureau and former National Security Adviser'),\n",
              " Document(metadata={'source': 'https://en.wikipedia.org/wiki/Palakkad_district', 'title': 'Palakkad district - Wikipedia', 'language': 'en'}, page_content='K. Sankaran Nair, former director of Research and Analysis Wing and former High Commissioner of India to Singapore\\nC. Venkataraman Sundaram, former director of Indira Gandhi Centre for Atomic Research and Padma Bhushan recipient[46]\\nDhruvan, Malayalam Film Actor\\nSrinish Aravind, Television Actor\\nEducation in Palakkad[edit]\\nMain article: Education in Palakkad district\\nGovernment Victoria College, PalakkadIndian Institute of Technology, Palakkad\\nNSS College of Engineering, PalakkadB. E. M. Higher Secondary School, Palakkad'),\n",
              " Document(metadata={'source': 'https://en.wikipedia.org/wiki/Palakkad_district', 'title': 'Palakkad district - Wikipedia', 'language': 'en'}, page_content='Palakkad District is one of the main centre of education in Kerala state India. Palakkad District has Prominent Educational Institutions provide platform for various level of education . The district is home to the only Indian Institute of Technology in Kerala state. Palakkad District has three educational districts namely Palakkad, Ottappalam and Mannarkkad.[47] There are several educational institutions working across the district. Government Victoria College, Palakkad, Government Engineering College, Sreekrishnapuram, NSS College of'),\n",
              " Document(metadata={'source': 'https://en.wikipedia.org/wiki/Palakkad_district', 'title': 'Palakkad district - Wikipedia', 'language': 'en'}, page_content='NSS College of Engineering, Government Medical College, Palakkad, Chembai Memorial Government Music College, and many more higher level of educational institutions are located in'),\n",
              " Document(metadata={'source': 'https://en.wikipedia.org/wiki/Palakkad_district', 'title': 'Palakkad district - Wikipedia', 'language': 'en'}, page_content='Palakkad District.'),\n",
              " Document(metadata={'source': 'https://en.wikipedia.org/wiki/Palakkad_district', 'title': 'Palakkad district - Wikipedia', 'language': 'en'}, page_content=\"Government Victoria College, Palakkad, established in 1866, is one of the oldest colleges in the state.[48] The Government Medical College, Palakkad[49] is started in 2014 is the first Government medical college in the district. The NSS College of Engineering[50] at Akathethara, is the Fourth Engineering Institution established in Kerala, India. The Chembai Memorial Government Music College[51] is one of the main centres of excellence in teaching carnatic music in the state. The Mercy College, Palakkad[52] a women's college established in 1964\"),\n",
              " Document(metadata={'source': 'https://en.wikipedia.org/wiki/Palakkad_district', 'title': 'Palakkad district - Wikipedia', 'language': 'en'}, page_content='college established in 1964 is one of the familiar institution in Palakkad city.'),\n",
              " Document(metadata={'source': 'https://en.wikipedia.org/wiki/Palakkad_district', 'title': 'Palakkad district - Wikipedia', 'language': 'en'}, page_content='IIT Palakkad\\nVictoria College\\nGovernment Medical College, Palakkad\\nNSS College of Engineering\\nGovernment Engineering College, Sreekrishnapuram\\nMES Kalladi College, Mannarkkad\\nDistrict Public library, Palakkad\\nChembai Memorial Government Music College, Palakkad (est. 2000)\\nNSS College, Ottapalam, Palakkad (est. 1961)\\nNSS College, Nenmara, Palakkad (est. 1967)\\nGovernment College, Chittur\\nSree Neelakanta Government Sanskrit College Pattambi\\nAl-Ameen Engineering College, Shornur Palakkad\\nKaruna Medical College, Vilayodi Palakkad'),\n",
              " Document(metadata={'source': 'https://en.wikipedia.org/wiki/Palakkad_district', 'title': 'Palakkad district - Wikipedia', 'language': 'en'}, page_content='Mercy College, Palakkad\\nCollege of Applied Science, Vadakkencherry, Palakkad (est. 1993)\\nSreekrishnapuram VT Bhattathiripad College\\nIndustrial training institute, Malampuzha\\nGovernment polytechnic, Kodumbu, Palakkad\\nSreenarayana college, Alathur\\nSree Neelakanta Government Sanskrit College Pattambi\\nYuvakshetra Institute of Management Studies\\nRegional Agricultural Research Station, Pattambi, Palakkad\\nPK DAS Institute of Medical Sciences, Ottapalam\\nKerala Medical College, Mangode, Palakkad\\nNajath Arts and Science College, Mannarkkad, Palakkad'),\n",
              " Document(metadata={'source': 'https://en.wikipedia.org/wiki/Palakkad_district', 'title': 'Palakkad district - Wikipedia', 'language': 'en'}, page_content='College of Applied Science, Malampuzha, Kalleppully, Palakkad (est. 2008)\\nCollege of Applied Science, Kuzhalmannam, Kottayi, Palakkad (est. 2008)\\nCollege of Applied Science, Attappadi, Palakkad (est. 2010)\\nCollege of Applied Science, Ayalur, Palakkad (est. 2012)\\nA.W.H. College of Science and Technology, Palakkad\\nInstitute for Communicative and Cognitive Neuro Sciences, Palakkad\\nKaruna Arts and Science College, Palakkad\\nM.P.M.M.S.N. Trust College, Shornur\\nMinority Arts and Science College, Padinjarangadi'),\n",
              " Document(metadata={'source': 'https://en.wikipedia.org/wiki/Palakkad_district', 'title': 'Palakkad district - Wikipedia', 'language': 'en'}, page_content='Royal Institute of Science and Technology, Palakkad\\nSree Neelakanda Govt. Sanskrit College, Pattambi\\nSreekrishnapuram V.T. Bhattathiripad College,\\nMannampatta'),\n",
              " Document(metadata={'source': 'https://en.wikipedia.org/wiki/Palakkad_district', 'title': 'Palakkad district - Wikipedia', 'language': 'en'}, page_content='Thunchath Ezhuthachan College of Management, Information Technology and Biotechnology, Palakkad\\nV.V. College of Science and Technology, Palakkad\\nYuvakshethra Institute of Management Studies, Palakkad\\nAhalia Ayurveda Medical College, Palakkad\\nPoomulli Neelakandan Nampoodiripad Memorial Ayurveda Medical College, Shoranur\\nSanthigiri Ayurveda Medical College, Olassery Palakkad\\nVishnu Ayurveda College, Shoranur\\nAhalia School of Engineering & Technology, Palakkad\\nAmmini College of Engineering'),\n",
              " Document(metadata={'source': 'https://en.wikipedia.org/wiki/Palakkad_district', 'title': 'Palakkad district - Wikipedia', 'language': 'en'}, page_content='Ammini College of Engineering\\nChathanmkulam Institute of Research and Advanced Studies, Menonpara\\nJawaharlal College of Engineering and Technology, Mangalam\\nPrime College of Engineering\\nSreepathy Institute of Management and Technology\\nNDFC Technical Institute & College for the Deaf, Shangaramangalam, Pattambi, Palakkad\\nGovernment Arts & Science College, Pathirippala, Palakkad\\nGovt. Arts and Science College, Kozhinjampara\\nGovt. Arts and Science College, Nattukal, Palakkad'),\n",
              " Document(metadata={'source': 'https://en.wikipedia.org/wiki/Palakkad_district', 'title': 'Palakkad district - Wikipedia', 'language': 'en'}, page_content='Rajiv Gandhi Memorial Govt Arts & Science College, Attappadi, Palakkad (est. 2012)\\nMedia[edit]'),\n",
              " Document(metadata={'source': 'https://en.wikipedia.org/wiki/Palakkad_district', 'title': 'Palakkad district - Wikipedia', 'language': 'en'}, page_content='Major Malayalam Newspapers include Malayala Manorama,Mathrubhumi, Deshabhimani, Suprabhaatham Daily have printing centers in Palakkad city and there are also few evening newspapers published from the city. Local news channels like (ACV) are also functioning in city . Palakkad Press Club is located on Robinson road, Sultanpet. A private FM Station operating in Palakkad at Ahalia Campus. There is a long term demand for setting up a government FM Station in Palakkad. At the present total number of 8 cinema halls are operational in Palakkad City'),\n",
              " Document(metadata={'source': 'https://en.wikipedia.org/wiki/Palakkad_district', 'title': 'Palakkad district - Wikipedia', 'language': 'en'}, page_content='operational in Palakkad City which screens Malayalam, English, Tamil, Hindi movies, there are few other multiplex screens are under construction and expect to open near future in and around city.'),\n",
              " Document(metadata={'source': 'https://en.wikipedia.org/wiki/Palakkad_district', 'title': 'Palakkad district - Wikipedia', 'language': 'en'}, page_content='Sports in Palakkad[edit]'),\n",
              " Document(metadata={'source': 'https://en.wikipedia.org/wiki/Palakkad_district', 'title': 'Palakkad district - Wikipedia', 'language': 'en'}, page_content='Palakkad has produced some world class athletes. Indira Gandhi Municipal Stadium in the center of city was once used for Major sports meets and football matches in the state, but the stadium is not currently in condition for conducting games due to the lack of maintenance. There is a proposal for the renovation of the stadium with international facilities by the Municipality.[53] The city has Fort Maidan[54] also known as Kota Maidanam, a multi-use stadium in the center of the Palakkad. It is currently used mostly for cricket matches. Fort'),\n",
              " Document(metadata={'source': 'https://en.wikipedia.org/wiki/Palakkad_district', 'title': 'Palakkad district - Wikipedia', 'language': 'en'}, page_content='for cricket matches. Fort Maidan holds a maximum capacity of 10,000 people. Until 2002, the ground was considered for local cricket only.[55] In 2003, the Ranji Trophy was introduced in Fort Maidan. The city has an Indoor Stadium[56] located near Government Victoria College, Palakkad with a total area of 100,000 square feet (9,300\\xa0m2) with commercial establishments still unfinished and incomplete. There is a Synthetic Track with eight lines operational in the ground of the newly constructed Government Medical College, Palakkad.[57]'),\n",
              " Document(metadata={'source': 'https://en.wikipedia.org/wiki/Palakkad_district', 'title': 'Palakkad district - Wikipedia', 'language': 'en'}, page_content='Major Towns in Palakkad District[edit]\\nOttapalam townPattambi Town\\nVadakkencherry TownAlathur Town\\n\\nPalakkad\\nOttappalam\\nPattambi\\nMannarkkad\\nCherpulassery\\nKollengode\\nChittur-Thathamangalam\\nShornur\\nAlathur\\nVadakkencherry\\nKoduvayur\\nNemmara\\nKozhinjampara\\n[58]\\n\\nGram panchayats in Palakkad District[edit]'),\n",
              " Document(metadata={'source': 'https://en.wikipedia.org/wiki/Palakkad_district', 'title': 'Palakkad district - Wikipedia', 'language': 'en'}, page_content='Agali (gram panchayat)\\nAlanallur\\nAlathur\\nAmbalappara\\nAnakkara (Palakkad)\\nAnanganadi\\nAyiloor (gram panchayat)\\nChalavara\\nChalissery\\nElappully\\nElavancherry\\nErimayur\\nEruthampathy (gram panchayat)\\nKadampazhipuram\\nKanjirampuzha (gram panchayat)\\nKannadi\\nKappur (Palakkad district)\\nKarimba, Palakkad\\nKarimpuzha, Palakkad\\nKavasseri\\nKeralasseri\\nKizhakkancherry\\nKodumba\\nKoduvayur (gram panchayat)\\nKollengode, Palakkad\\nKongad (gram panchayat)\\nKoppam\\nKottappadam (gram panchayat)\\nKottayi (gram panchayat)\\nKozhinjampara (gram panchayat)\\nKulukkallur'),\n",
              " Document(metadata={'source': 'https://en.wikipedia.org/wiki/Palakkad_district', 'title': 'Palakkad district - Wikipedia', 'language': 'en'}, page_content='Kulukkallur\\nKumaramputhur (gram panchayat)\\nKuthannoor (gram panchayat)\\nKuzhalmannam (gram panchayat)\\nMankara\\nMannur\\nMarutharode\\nMathur (gram panchayat)\\nMelarcode\\nMundur, Palakkad\\nMuthalamada, Palakkad\\nMuthuthala\\nNagalassery\\nNalleppilly (gram panchayat)\\nNellaya Gramapanchayath\\nNelliampathi\\nNemmara (gram panchayat)\\nOngallur (gram panchayat)\\nPallassena\\nParali grama panchayat\\nParudur\\nPattencherry (gram panchayat)\\nPeringottukurissi (gram panchayat)\\nPerumatty (gram panchayat)\\nPeruvemba\\nPirayiri\\nPolpully\\nPuducode\\nPudur, Palakkad'),\n",
              " Document(metadata={'source': 'https://en.wikipedia.org/wiki/Palakkad_district', 'title': 'Palakkad district - Wikipedia', 'language': 'en'}, page_content='Puducode\\nPudur, Palakkad\\nPudusseri (gram panchayat)\\nPuthunagaram\\nSholayar (gram panchayat)\\nTachampara (gram panchayat)\\nTarur (gram panchayat)\\nThenkara\\nThenkurissi (gram panchayat)\\nThirumittacode (gram panchayat)\\nThiruvegappura\\nVadakarapathy (gram panchayat)\\nVadakkencherry (gram panchayat)\\nVadavannur\\nVallapuzha\\nVandazhy (gram panchayat)\\nVaniamkulam (gram panchayat)\\nVilayur\\n[59]'),\n",
              " Document(metadata={'source': 'https://en.wikipedia.org/wiki/Palakkad_district', 'title': 'Palakkad district - Wikipedia', 'language': 'en'}, page_content='See also[edit]\\nPalakkad\\nPalakkad Industrial Smart City\\nEducation in Palakkad district\\nNedunganad\\nDistricts of Kerala\\nPolitical Divisions of Palakkad District\\n\\nReferences[edit]\\n\\n\\n^ \"About District\". Palakkad District. Retrieved 6 December 2021.\\n\\n^ a b Annual Vital Statistics Report – 2018 (PDF). Thiruvananthapuram: Department of Economics and Statistics, Government of Kerala. 2020. p.\\xa055.\\n\\n^ \"The Kerala Official Language (Legislation) Act, 1969\" (PDF). Archived from the original on 11 September 2014.'),\n",
              " Document(metadata={'source': 'https://en.wikipedia.org/wiki/Palakkad_district', 'title': 'Palakkad district - Wikipedia', 'language': 'en'}, page_content='^ a b c \"Table C-16 Population by Mother Tongue: Kerala\". www.censusindia.gov.in. Registrar General and Census Commissioner of India.\\n\\n^ a b \"Table C-01: Population by religious community: Kerala\". Census of India. Registrar General and Census Commissioner of India. 2011.\\n\\n^ \"Kerala | UNDP in India\". UNDP.\\n\\n^ a b c d e f g h i \"District Census Hand Book: Palakkad\" (PDF). Census of India. Registrar General and Census Commissioner of India.\\n\\n^ \"Minerals Resources\". dmg.kerala.gov.in.'),\n",
              " Document(metadata={'source': 'https://en.wikipedia.org/wiki/Palakkad_district', 'title': 'Palakkad district - Wikipedia', 'language': 'en'}, page_content='^ \"Fact sheet on Indian dams at Diehardindian.com\". Archived from the original on 13 December 2006.\\n\\n^ \"*** Official WebSite Of Palakkad District ***\". Palakkad.nic.in. Retrieved 18 October 2011.\\n\\n^ \"Muncipalities [sic] | Palakkad | India\".\\n\\n^ \"Ittipangi Achan passes away\". The New Indian Express. 31 July 2011. Archived from the original on 31 December 2013. Retrieved 6 December 2021.\\n\\n^ \"The Palakkad district, an overview – History and Geography of Palakkad district\" (PDF). INFLIBNET. Retrieved 4 April 2019.'),\n",
              " Document(metadata={'source': 'https://en.wikipedia.org/wiki/Palakkad_district', 'title': 'Palakkad district - Wikipedia', 'language': 'en'}, page_content='^ Subramanian, T. S (28 January 2007). \"Roman connection in Tamil Nadu\". The Hindu. Archived from the original on 19 September 2013. Retrieved 28 October 2011.\\n\\n^ a b c d e f g h i Shreedhara Menon, A (2007). \\'Kerala Charitram. Kottayam: DC Books. pp.\\xa0199–201. ISBN\\xa09788126415885.\\n\\n^ a b K. V. Krishna Iyer (1938), Zamorins of Calicut: From the earliest times to AD 1806, Norman Printing Bureau, Kozhikode\\n\\n^ a b c d 1951 census handbook - Malabar district (PDF). Chennai: Government of Madras. 1953. p.\\xa01.'),\n",
              " Document(metadata={'source': 'https://en.wikipedia.org/wiki/Palakkad_district', 'title': 'Palakkad district - Wikipedia', 'language': 'en'}, page_content='^ Raghunath Rai. History. FK Publications. pp.\\xa014–. ISBN\\xa0978-81-87139-69-0. Retrieved 18 November 2012.\\n\\n^ British Museum; Anna Libera Dallapiccola (22 June 2010). South Indian Paintings: A Catalogue of the British Museum Collection. Mapin Publishing Pvt Ltd. pp.\\xa012–. ISBN\\xa0978-0-7141-2424-7. Retrieved 18 November 2012.\\n\\n^ Edgar Thorpe, Showick Thorpe; Thorpe Edgar. The Pearson CSAT Manual 2011. Pearson Education India. p.\\xa099. ISBN\\xa0978-81-317-5830-4. Retrieved 18 November 2012.'),\n",
              " Document(metadata={'source': 'https://en.wikipedia.org/wiki/Palakkad_district', 'title': 'Palakkad district - Wikipedia', 'language': 'en'}, page_content='^ The Edinburgh Gazetteer. Longman, Rees, Orme, Brown, and Green. 1827. pp.\\xa063–. Retrieved 18 November 2012.\\n\\n^ Dharma Kumar (1965). Land and Caste in South India: Agricultural Labor in the Madras Presidency During the Nineteenth Century. CUP Archive. pp.\\xa087–. GGKEY:T72DPF9AZDK. Retrieved 18 November 2012.\\n\\n^ K.P. Ittaman (1 June 2003). History of Mughal Architecture Volume Ii. Abhinav Publications. pp.\\xa030–. ISBN\\xa0978-81-7017-034-1. Retrieved 18 November 2012.\\n\\n^ a b A Survey of Kerala History, A. Shreedhara Menon'),\n",
              " Document(metadata={'source': 'https://en.wikipedia.org/wiki/Palakkad_district', 'title': 'Palakkad district - Wikipedia', 'language': 'en'}, page_content='^ \"CHRONOLOGICAL LIST OF CENTRAL ACTS (Updated up to 17-10-2014)\". Lawmin.nic.in. Retrieved 7 August 2016.\\n\\n^ Lewis McIver, G. Stokes (1883). Imperial Census of 1881 Operations and Results in the Presidency of Madras ((Vol II)\\xa0ed.). Madras: E.Keys at the Government Press. p.\\xa0444. Retrieved 5 December 2020.\\n\\n^ Presidency, Madras (India (1915). Madras District Gazetteers, Statistical Appendix For Malabar District (Vol.2\\xa0ed.). Madras: The Superintendent, Government Press. p.\\xa020. Retrieved 2 December 2020.'),\n",
              " Document(metadata={'source': 'https://en.wikipedia.org/wiki/Palakkad_district', 'title': 'Palakkad district - Wikipedia', 'language': 'en'}, page_content='^ HENRY FROWDE, M.A., Imperial Gazetteer of India (1908–1909). Imperial Gazetteer of India (New\\xa0ed.). Oxford: Clarendon Press. Retrieved 2 December 2020.\\n\\n^ Logan, William (2010). Malabar Manual (Volume-I). New Delhi: Asian Educational Services. pp.\\xa0631–666. ISBN\\xa09788120604476.\\n\\n^ a b c K. Narayanan (1972). District Census Handbook – Malappuram (Part-C) – 1971 (PDF). Thiruvananthapuram: Directorate of Census Operations, Kerala. p.\\xa03.'),\n",
              " Document(metadata={'source': 'https://en.wikipedia.org/wiki/Palakkad_district', 'title': 'Palakkad district - Wikipedia', 'language': 'en'}, page_content='^ a b c Devassy, M. K. (1965). District Census Handbook (3) – Palakkad (1961) (PDF). Shoranur: Government of Kerala.\\n\\n^ a b 1951 census handbook – Malabar district (PDF). Chennai: Government of Madras. 1953.\\n\\n^ a b \"History | Palakkad | India\".\\n\\n^ \"Taluk-wise demography of Palakkad\" (PDF). censusindia.gov.in. Directorate of Census Operations, Kerala. pp.\\xa0161–193. Retrieved 28 August 2020.\\n\\n^ \"Villages in Palakkad\". palakkad.nic.in. Retrieved 28 August 2020.'),\n",
              " Document(metadata={'source': 'https://en.wikipedia.org/wiki/Palakkad_district', 'title': 'Palakkad district - Wikipedia', 'language': 'en'}, page_content='^ \"60 Acres Identified For Airport Project\". The Hindu. Chennai, India. 21 May 2011. Archived from the original on 26 May 2011.\\n\\n^ \"Train services resume on Pollachi – Palakkad section\". Coimbatore. The Hindu. 17 November 2015. Retrieved 25 November 2015.\\n\\n^ \"National Highways and their lengths\" Archived 6 September 2012 at the Wayback Machine. National Highways Authority of India. Retrieved 4 September 2015.\\n\\n^ \"KSRTC Depots\". 14 March 2011. Archived from the original on 14 March 2011. Retrieved 6 September 2022.'),\n",
              " Document(metadata={'source': 'https://en.wikipedia.org/wiki/Palakkad_district', 'title': 'Palakkad district - Wikipedia', 'language': 'en'}, page_content='^ Decadal Variation In Population Since 1901\\n\\n^ US Directorate of Intelligence. \"Country Comparison:Population\". Archived from the original on 13 June 2007. Retrieved 1 October 2011. Jamaica 2,868,380 July 2011 est\\n\\n^ \"2010 Resident Population Data\". U. S. Census Bureau. Retrieved 30 September 2011. Utah 2,763,885\\n\\n^ \"Literacy Rate 2011 – Government of Kerala, India\". Archived from the original on 23 February 2016.\\n\\n^ Government of Kerala (2021). Economic Review 2020 – Volume I (PDF). Thiruvananthapuram: Kerala State Planning Board.'),\n",
              " Document(metadata={'source': 'https://en.wikipedia.org/wiki/Palakkad_district', 'title': 'Palakkad district - Wikipedia', 'language': 'en'}, page_content='^ \"MUNNAR TOURISM\".\\n\\n^ \"Biography\" (PDF). Indira Gandhi Centre for Atomic Research. 3 June 2018. Retrieved 3 June 2018.\\n\\n^ \"Education | Palakkad | India\".\\n\\n^ \"District Profile\". spb.kerala.gov.in. Retrieved 9 January 2019.\\n\\n^ \"-CUSTOMER VALUE-\". -CUSTOMER VALUE-.\\n\\n^ \"NSS College of Engineering – Palakkad, Kerala\". www.nssce.ac.in.\\n\\n^ \"借金SOS | Just another WordPress site\". cmgmusiccollege.org.\\n\\n^ \"Affiliated Colleges and courses\" (PDF). Archived from the original (PDF) on 16 September 2017.'),\n",
              " Document(metadata={'source': 'https://en.wikipedia.org/wiki/Palakkad_district', 'title': 'Palakkad district - Wikipedia', 'language': 'en'}, page_content='^ \"Palakkad municipal stadium turns into dump yard covered with weeds\". Mathrubhumi.\\n\\n^ \"Fort Maidan | India | Cricket Grounds | ESPNcricinfo.com\".\\n\\n^ \"The Home of CricketArchive\". cricketarchive.com.\\n\\n^ \"Palakkad Indoor Stadium\". www.palakkadtourism.org.\\n\\n^ \"Synthetic track for Palakkad\". The Hindu. 7 September 2015 – via www.thehindu.com.\\n\\n^ \"Kerala (India): Districts, Cities and Towns – Population Statistics, Charts and Map\". www.citypopulation.de.\\n\\n^ \"Panchayaths | Palakkad | India\".'),\n",
              " Document(metadata={'source': 'https://en.wikipedia.org/wiki/Palakkad_district', 'title': 'Palakkad district - Wikipedia', 'language': 'en'}, page_content='Further reading[edit]\\nGovernment of Madras (1953), 1951 Census Handbook- Malabar District (PDF), Madras Government Press\\nM. K. Devassy (1965), 1961 Census Handbook- Palghat District (PDF), Directorate of Census Operations, Kerala and The Union Territory of Laccadive, Minicoy, and Amindivi Islands\\nGovernment of India (2014–2015), District Census Handbook – Palakkad (Part-A) 2011 (PDF), Directorate of Census Operations, Kerala'),\n",
              " Document(metadata={'source': 'https://en.wikipedia.org/wiki/Palakkad_district', 'title': 'Palakkad district - Wikipedia', 'language': 'en'}, page_content='Government of India (2014–2015), District Census Handbook – Palakkad (Part-B) 2011 (PDF), Directorate of Census Operations, Kerala\\nSatellite Images[edit]\\nSatellite image of Palakkad\\nRoad map of Palakkad\\nExternal links[edit]'),\n",
              " Document(metadata={'source': 'https://en.wikipedia.org/wiki/Palakkad_district', 'title': 'Palakkad district - Wikipedia', 'language': 'en'}, page_content='Wikimedia Commons has media related to Palakkad district.\\n\\n\\n\\n\\nWikivoyage has a travel guide for Palakkad District.\\n\\nOfficial website for Palakkad\\nvtePlaces adjacent to Palakkad district\\nMalappuram district\\nNilgiris district, Coimbatore Tamil Nadu\\n\\n\\n\\n\\n\\n\\n\\n\\nPalakkad district\\n\\nCoimbatore, Tamil Nadu\\n\\n\\n\\n\\n\\nThrissur district\\n\\nCoimbatore, Tamil Nadu'),\n",
              " Document(metadata={'source': 'https://en.wikipedia.org/wiki/Palakkad_district', 'title': 'Palakkad district - Wikipedia', 'language': 'en'}, page_content='vtePalakkad districtCities and towns\\nThrithala\\nPattambi\\nShoranur\\nOttapalam\\nCherpulassery\\nMannarkkad\\nPalakkad\\nPuthunagaram\\nChittur-Thathamangalam\\nKoduvayur\\nNemmara\\nAlathur\\nVadakkencherry\\nSub-districts,panchayatsandvillagesAlathur\\nAlathur\\nErimayur (Erimayur-I, Erimayur-II)\\nKannambra (Kannambra-I, Kannambra-II, R. Mangalam)\\nKavasery (Kavasseri-I, Kavasseri-II)\\nKizhakkancherry (Kizhakkencheri-I, Kizhakkencheri-II)\\nKottayi (Kottayi-I, Kottayi-II)\\nKuthannoor (Kuthannur-I, Kuthannur-II)\\nKuzhalmannam (Kuzhalmannam-I, Kuzhalmannam-II)'),\n",
              " Document(metadata={'source': 'https://en.wikipedia.org/wiki/Palakkad_district', 'title': 'Palakkad district - Wikipedia', 'language': 'en'}, page_content='Mathur (Mathur-I, Mathur-II)\\nPerinkulam\\nPeringottukurissi (Peringottukurissi-I, Peringottukurissi-II)\\nPuducode (Manappadam)\\nTarur (Tarur-I, Tarur-II)\\nThenkurissi (Thenkurissi-I, Thenkurissi-II)\\nVadakkancheri (Vadakkancheri-I, Vadakkancheri-II)\\nVandazhy (Mangalam Dam, Vandazhi-I, Vandazhi-II)\\nChittur\\nAyiloor (Ayiloor, Kairady, Thiruvazhiyad)\\nEruthampathy (Eruthempathy, Kozhipathy)\\nKoduvayur (Koduvayur-II)\\nKollengode (Kollengode-I, Kollengode-II)\\nKozhinjampara (Valiyavallampathy)\\nMuthalamada (Muthalamada-I, Muthalamada-II)'),\n",
              " Document(metadata={'source': 'https://en.wikipedia.org/wiki/Palakkad_district', 'title': 'Palakkad district - Wikipedia', 'language': 'en'}, page_content='Nalleppilly (gram panchayat) (Nalleppilly, Chittur (Part), Thekkedesom)\\nNelliampathy\\nNemmara (Nemmara, Vallanghy)\\nPattencherry (Pattanchery, Thathamangalam (Part))\\nPerumatty (Moolathara, Vandithavalam)\\nVadakarapathy (Ozhalapathy)\\nMannarkad\\nAgali (Agali, Kallamala, Padavayal, Palakkayam)\\nAlanallur (Alanallur-I, Alanallur-II, Alanallur-III)\\nKanjirampuzha (Pottassery-I, Pottassery-II)\\nKarimba (Karimba-I, Karimba-II)\\nKottappadam (Kottoppadam-I, Kottoppadam-II, Kottoppadam-III)\\nKumaramputhur (Payyanadam)\\nMannarkkad (Mannarkad-I)'),\n",
              " Document(metadata={'source': 'https://en.wikipedia.org/wiki/Palakkad_district', 'title': 'Palakkad district - Wikipedia', 'language': 'en'}, page_content='Mannarkkad (Mannarkad-I)\\nSholayar (Kottathara, Sholayur)\\nTachampara (Karakurissi, Karimba-I, Pottassery-II, Thachampara)\\nThachanattukara (Thachanattukara-I, Thachanattukara-II)\\nThenkara (Mannarkad-II)\\nOttappalam\\nAmbalapara (Ambalapara-II, Ambalapara-II)\\nChalissery\\nCherpulassery\\nKadampazhipuram (Kadampazhipuram-I, Kadampazhipuram-II)\\nKarimpuzha (Karimpuzha-I, Karimpuzha-II)\\nLakkidiperur (Lakkidi-Perur-I, Lakkidi-Perur-II)\\nMuthuthala\\nOngallur (Ongallur-I, Ongallur-II)\\nPattambi\\nPookkottukavu (Sreekrishnapuram-II, Thrikkadeeri-I, Vellinezhi)'),\n",
              " Document(metadata={'source': 'https://en.wikipedia.org/wiki/Palakkad_district', 'title': 'Palakkad district - Wikipedia', 'language': 'en'}, page_content='Sreekrishnapuram (Sreekrishnapuram-I, Sreekrishnapuram-II)\\nThirumittacode (Thirumittacode-II, Thirumittacode-I)\\nThiruvegapura\\nThrikkadeeri (Thrikkadeeri-I, Thrikkadeeri-II)\\nThrithala (Pattithara, Thrithala\\nVaniamkulam (Vaniyamkulam-II, Vaniyamkulam-I)\\nPalakkad\\nAkathethara (Hemambikanagar)\\nElappully (Elappully-I, Elappully-II)\\nKannadi (Kannadi-I, Kannadi-II)\\nKongad (Kongad-I, Kongad-II)\\nMalampuzha (Malampuzha-I, Malampuzha-II)\\nMarutharode (Maruthuroad)\\nMundur (Mundur-I, Mundur-II)\\nParli (Parli-I, Parli-II)\\nPirayiri'),\n",
              " Document(metadata={'source': 'https://en.wikipedia.org/wiki/Palakkad_district', 'title': 'Palakkad district - Wikipedia', 'language': 'en'}, page_content='Pirayiri\\nPuduppariyaram (Puthuppariyaram-I)\\nPudusseri (Pudussery Central, Pudussery East, Pudussery West)'),\n",
              " Document(metadata={'source': 'https://en.wikipedia.org/wiki/Palakkad_district', 'title': 'Palakkad district - Wikipedia', 'language': 'en'}, page_content='vteDistricts of KeralaDistricts\\nAlappuzha\\nErnakulam\\nIdukki\\nKannur\\nKasargod\\nKollam\\nKottayam\\nKozhikode\\nMalappuram\\nPalakkad\\nPathanamthitta\\nThiruvananthapuram\\nThrissur\\nWayanad'),\n",
              " Document(metadata={'source': 'https://en.wikipedia.org/wiki/Palakkad_district', 'title': 'Palakkad district - Wikipedia', 'language': 'en'}, page_content='vte State of KeralaCapital: ThiruvananthapuramDistricts\\nThiruvananthapuram KL-01\\nKollam KL-02\\nPathanamthitta KL-03\\nAlappuzha KL-04\\nKottayam KL-05\\nIdukki KL-06\\nErnakulam KL-07\\nThrissur KL-08\\nPalakkad KL-09\\nMalappuram KL-10\\nKozhikode KL-11\\nWayanad KL-12\\nKannur KL-13\\nKasaragod KL-14\\nTopics\\nArts\\nCulture\\nDemographics\\nEconomy\\nEducation\\nFilm\\nGeography\\n Roads\\n Ports\\nHistory\\nWildlife\\nGovernment\\nTourism\\nSports\\nSymbols\\nBird\\nGreat hornbill\\nAnimal\\nIndian elephant\\nTree\\nCoconut\\nFlower\\nGolden rain\\nFish\\nKarimeen\\nFruit\\nJackfruit\\nInsect\\nPapilio buddha\\nTaluks'),\n",
              " Document(metadata={'source': 'https://en.wikipedia.org/wiki/Palakkad_district', 'title': 'Palakkad district - Wikipedia', 'language': 'en'}, page_content='Insect\\nPapilio buddha\\nTaluks\\nAdoor\\nAlathur\\nAluva\\nAmbalappuzha\\nChalakudy\\nChanganassery\\nChavakkad\\nChengannur\\nCherthala\\nChirayinkeezhu\\nChittur\\nDevikulam\\nEranad\\nHosdurg\\nIdukki\\nIritty\\nKanayannur\\nKanjirappally\\nKannur\\nKarthikappally\\nKarunagappalli\\nKasaragod\\nKattakada\\nKochi\\nKodungallur\\nKollam\\nKondotty\\nKonni\\nKothamangalam\\nKottarakkara\\nKottayam\\nKoyilandy\\nKozhencherry\\nKozhikode\\nKunnamkulam\\nKunnathunad\\nKunnathur\\nKuttanad\\nMallapally\\nMananthavady\\nManjeshwaram\\nMannarkkad\\nMavelikkara\\nMeenachil\\nMukundapuram\\nMuvattupuzha\\nNedumangad\\nNeyyattinkara\\nNilambur'),\n",
              " Document(metadata={'source': 'https://en.wikipedia.org/wiki/Palakkad_district', 'title': 'Palakkad district - Wikipedia', 'language': 'en'}, page_content='Neyyattinkara\\nNilambur\\nNorth Paravur\\nOttapalam\\nPalakkad\\nPathanapuram\\nPattambi\\nPayyanur\\nPeermade\\nPerinthalmanna\\nPonnani\\nPunalur\\nRanni\\nSultan Bathery\\nTaliparamba\\nThalapilly\\nThalassery\\nThamarassery\\nThiruvalla\\nThiruvananthapuram\\nThodupuzha\\nThrissur\\nTirur\\nTirurangadi\\nUdumbanchola\\nVaikom\\nVarkala\\nVatakara\\nVellarikundu\\nVythiri\\nMunicipal corporations\\nThiruvananthapuram\\nKozhikode\\nKochi\\nKollam\\nThrissur\\nKannur\\nMunicipalities\\nAdoor\\nAnthoor\\nAlappuzha\\nAluva\\nAngamaly\\nAttingal\\nChalakudy\\nChanganassery\\nChavakkad\\nChengannur\\nCherthala\\nChittur-Thathamangalam\\nEloor'),\n",
              " Document(metadata={'source': 'https://en.wikipedia.org/wiki/Palakkad_district', 'title': 'Palakkad district - Wikipedia', 'language': 'en'}, page_content='Chittur-Thathamangalam\\nEloor\\nGuruvayur\\nIrinjalakuda\\nIritty\\nKalamassery\\nKalpetta\\nKanhangad\\nKarunagappalli\\nKasaragod\\nKattappana\\nKayamkulam\\nKodungallur\\nKondotty\\nKuthuparamba\\nKothamangalam, Kerala\\nKottakkal\\nKottarakkara\\nKottayam\\nKoyilandy\\nKunnamkulam\\nMalappuram\\nManjeri\\nMaradu\\nMattanur\\nMavelikkara\\nMuvattupuzha\\nNedumangad\\nNeyyattinkara\\nNilambur\\nNileshwaram\\nNorth Paravur\\nOttapalam\\nPala\\nPalakkad\\nPanoor\\nParappanangadi\\nParavur\\nPathanamthitta\\nPayyanur\\nPerinthalmanna\\nPerumbavoor\\nPonnani\\nPunalur\\nShoranur\\nSreekandapuram\\nTanur\\nThalassery\\nTaliparamba'),\n",
              " Document(metadata={'source': 'https://en.wikipedia.org/wiki/Palakkad_district', 'title': 'Palakkad district - Wikipedia', 'language': 'en'}, page_content='Tanur\\nThalassery\\nTaliparamba\\nThiruvalla\\nThodupuzha\\nThrikkakkara\\nThrippunithura\\nTirur\\nTirurangadi\\nValanchery\\nVatakara\\nVaikom\\nVarkala\\nOther townsNorth\\nEdappal\\nThavanur\\nPuthanathani\\nKottakkal\\nAngadipuram\\nMankada\\nKuttippuram\\nKaripur\\nAreekode\\nWandoor\\nVengara\\nVallikkunnu\\nOlavanna\\nKunnamangalam\\nThamarassery\\nThiruvambady\\nKodencheri\\nBalussery\\nPerambra\\nNadapuram\\nKuttiady\\nLakkidi\\nVythiri\\nChundale\\nMeppadi\\nKottappadi Part\\nMuttil\\nPadinharethara\\nMeenangadi\\nPanamaram\\nPulpally\\nPeravoor\\nDharmadom\\nAnjarakkandy\\nMuzhappilangad\\nAzhikode\\nCherukunnu\\nPappinisseri'),\n",
              " Document(metadata={'source': 'https://en.wikipedia.org/wiki/Palakkad_district', 'title': 'Palakkad district - Wikipedia', 'language': 'en'}, page_content='Cherukunnu\\nPappinisseri\\nKalliasseri\\nIrikkur\\nAlakode\\nThrikaripur\\nCheruvathur\\nBekal\\nUdma\\nVellarikundu\\nParappa\\nKaradka\\nKumbla\\nMangalpady\\nUppala\\nManjeshwar\\nCentral\\nPeermade\\nVandiperiyar\\nKumily\\nRajakkad\\nMunnar\\nDevikulam\\nAdimali\\nKolenchery\\nPuthencruz\\nKunnathunad\\nKalady\\nMalayattoor\\nChottanikkara\\nUdayamperoor\\nVarappuzha\\nSreemoolanagaram\\nNedumbassery\\nMala\\nKodakara\\nPuthukkad\\nManaloor\\nPavaratty\\nChelakkara\\nVadakkencherry\\nAlathur\\nNemmara\\nPuthunagaram\\nMalampuzha\\nSreekrishnapuram\\nLakkidi-Perur\\nThrithala\\nSouth\\nParassala\\nBalaramapuram\\nKattakada\\nChirayinkeezhu'),\n",
              " Document(metadata={'source': 'https://en.wikipedia.org/wiki/Palakkad_district', 'title': 'Palakkad district - Wikipedia', 'language': 'en'}, page_content='Kattakada\\nChirayinkeezhu\\nKilimanoor\\nParippally\\nChathannoor\\nKottiyam\\nKundara\\nNeendakara\\nChavara\\nOachira\\nSasthamkotta\\nKunnathur\\nAnchal\\nKadakkal\\nPathanapuram\\nThenmala\\nKulathupuzha\\nKozhencherry\\nKonni\\nRanni\\nMallapally\\nKumbanad\\nAranmula\\nKulanada\\nOmallur\\nVadasserikara\\nParumala\\nMannar\\nCharummoodu\\nAmbalappuzha\\nMararikulam\\nAroor\\nKanjirappally\\nErumely\\nMundakayam\\nVazhoor\\nKarukachal\\nPampady\\nPuthuppally\\nKuravilangad\\nUzhavoor\\nThalayolaparambu\\nKaduthuruthy\\nHistorical regions\\nKolathunadu (Kingdom of Cannanore)\\nZamorin\\nMalabar\\nNorth Malabar\\nSouth Malabar\\nCochin'),\n",
              " Document(metadata={'source': 'https://en.wikipedia.org/wiki/Palakkad_district', 'title': 'Palakkad district - Wikipedia', 'language': 'en'}, page_content='South Malabar\\nCochin\\nVenad (kingdom)\\nTravancore\\nTravancore–Cochin\\n India portal\\nvteHindu temples in KeralaAlappuzha\\nKurattikadu Mutharamman Devi Temple\\nMannar Thrikkuratti Mahadeva Temple\\nAmbalappuzha Sri Krishna\\nManakkattu Devi Temple, Pallippad, Harippad\\nChakkulathukavu\\nChammanad Devi\\nCherthala Devi\\nChettikulangara Devi\\nEvoor Major Sri krishnaswamy temple\\nHaripad Sree Subrahmanya Swamy temple\\nKandiyoor Sree Mahadeva Temple\\nKuttikattu Sree Bhadra Kali Devi\\nMannarasala\\nMullakkal\\nNalpathaneeswaram Sree Mahadeva\\nPadanilam Parabrahma Temple'),\n",
              " Document(metadata={'source': 'https://en.wikipedia.org/wiki/Palakkad_district', 'title': 'Palakkad district - Wikipedia', 'language': 'en'}, page_content='Padanilam Parabrahma Temple\\nPattambalam\\nValiyakulangara Devi\\nErnakulam\\nCherai Gowreeshwara\\nDakshina Mookambika Temple North Paravur\\nChottanikkara\\nEravikulangara\\nIringole Kavu\\nKalamassery Mahaganapathy\\nKurumbakkavu Bhagavathy\\nPanekavu Bhagavati Shastha\\nSree Bhavaneeswara\\nSree Poornathrayesa\\nSree Venugopala\\nThamaramkulangara Sree Dharma Sastha\\nThrikkakara Temple\\nThiru Nayathode Siva Narayana Temple\\nChelamattom Shree Krishna Swami Temple\\nIdukki\\nSri Siddhi Vinayakar\\nKannur\\nAndalur kavu\\nSree Vadeswaram\\nAzhikode Palottukavu\\nChenankavu'),\n",
              " Document(metadata={'source': 'https://en.wikipedia.org/wiki/Palakkad_district', 'title': 'Palakkad district - Wikipedia', 'language': 'en'}, page_content='Chenankavu\\nChala Bhagavathi\\nSree Annapoorneswari\\nSree Chovva Shiva Temple\\nEdappara Chamundi\\nHanumarambalam\\nSree Jagannathan\\nKandanthalli\\nKeecheri Palottukavu\\nKeezhur Mahadeva\\nKottiyoor Vadakkeshwaram\\nKunnathoor Padi\\nMadayi Kavu\\nKalarivathukkal Bhagavathy Temple\\nVadukunda\\nMamanathambalam\\nManakulangara\\nMariamman Koil, Pilakool\\nMavilakkavu\\nMuneeswaran Kovil\\nOorpazhachi Kavu\\nPadavil Sree Muthappan\\nPanoonneri Shiva\\nParassinikkadavu Muthappan\\nPayyannur Sree Subramanyaswamy Temple\\nPeralasseri Sree Subramaniaswamy Temple\\nPillayar Koil\\nNeeliyaarkottam'),\n",
              " Document(metadata={'source': 'https://en.wikipedia.org/wiki/Palakkad_district', 'title': 'Palakkad district - Wikipedia', 'language': 'en'}, page_content='Pillayar Koil\\nNeeliyaarkottam\\nRajarajeshwara Temple\\nSree Andalurkavu\\nTiruvangad\\nTalap Ambalam\\nTrichambaram\\nThrikkapalam Shiva\\nVasudevapuram Tavanur\\nPlaces of worship in Kannur district\\nKasaragod\\nAnanthapura Lake\\nKanila Shree Bhagavathi\\nMadhur\\nTrikaripur Chakrapani\\nSri Gopalakrishna Temple Kumble\\n Kollam\\nAmmachiveedu Muhurthi\\nAnandavalleeshwaram Sri Mahadevar Temple\\nAshram Sree krishna Swamy\\nKadakkal Devi\\nKodimoottil Sri Bhadrakaali\\nKottankulangara Devi Temple\\nKottarakkara Sree Mahaganapathi Kshethram'),\n",
              " Document(metadata={'source': 'https://en.wikipedia.org/wiki/Palakkad_district', 'title': 'Palakkad district - Wikipedia', 'language': 'en'}, page_content='Kottarakkulam Sree Mahaganapathy Kovil, Kollam\\nOachira Parabrahma Temple\\nPanakkattodil Devi Temple\\nPoruvazhy Peruviruthy Malanada Temple\\nPulimukham Devi Temple\\nParavur Puttingal Devi Temple\\nSasthamcotta Sree Dharma Sastha Temple\\nSree Indilayappan\\nSree Maha Ganapathy\\nVayalil Thrikkovil Mahavishnu\\nKottayam\\nVaikom\\nThiruVazhappally Sree Mahadevar\\nEttumanoor Mahadevar\\nThirunakkara Sree Mahadevar Temple\\nKidangoor Subramanya Temple\\nChirakkadavu Sree Mahadevar\\nKaduthruthy Mahadeva Temple\\nNeendoor Subrahmanya Swami Temple\\nPerunna Subrahmanya Swami'),\n",
              " Document(metadata={'source': 'https://en.wikipedia.org/wiki/Palakkad_district', 'title': 'Palakkad district - Wikipedia', 'language': 'en'}, page_content='Perunna Subrahmanya Swami\\nKavinpuram Devi\\nMorkulangara Devi\\nKadamuri Narasimhaswamy Temple, Kadamuri\\nMoozhayil Sankaranarayana Temple Anicad\\nKodungoor Devi Temple\\nElamgulam Sree Dharma Shastha Temple\\nAnicad Sree Bhagavathi Temple\\nPullattukunnel Temple, Elamgulam\\nNethalloor Devi\\nPanachikkadu\\nPaippad Puthenkavu Bhagavathi\\nPundareekapuram\\nPuthiyakavu Devi Temple\\nKozhikode\\nAbhimanyu Temple\\nAzhakodi Devi\\nLokanarkavu\\nPisharikavu\\nValayanad Devi\\nMalappuram\\nAlathiyur Hanuman\\nKadampuzha Devi\\nKadampuzha Bhagavathy\\nSree Rama\\nThirumanthamkunnu\\nThirunavaya'),\n",
              " Document(metadata={'source': 'https://en.wikipedia.org/wiki/Palakkad_district', 'title': 'Palakkad district - Wikipedia', 'language': 'en'}, page_content='Thirumanthamkunnu\\nThirunavaya\\nThrikkavu\\nVairankode Bhagavathy Temple\\nPalakkad\\nBrahmeeswaran\\nChinakkathoor\\nKarimpuzha Sree Ramaswamy\\nKillikkurussimangalam\\nKodikkunnu Bhagavathy\\nManapullikavu\\nMalamakkavu Ayyappa Temple\\nMeenkulathi\\nSri Nellikulangara Bhagavathi\\nThirupuraikkal\\nValliya Aarattu – Karnaki Amman\\nVayilyamkunnu Bhagavathi\\nViswanatha Swam\\nPanniyur Sri Varahamurthy Temple\\nPathanamthitta\\nAranmula Parthasarathy\\nanikkattilammakshethram\\nGurunathanmukadi\\nKaviyoor Mahadevar\\nMahadeva\\nMezhuveli\\nMuringamangalam Sreemahadevar\\nPanayannarkavu'),\n",
              " Document(metadata={'source': 'https://en.wikipedia.org/wiki/Palakkad_district', 'title': 'Palakkad district - Wikipedia', 'language': 'en'}, page_content='Panayannarkavu\\nPattupurakkavu Bhagavathi\\nRektha Kanda Swamy\\nSabarimala\\nSree Bhuvaneswary\\nSree Vallabha\\nSreenarayanapuram\\nSri Chirakkakavu Bhagavthi\\nThazhoor Bhagavathy Kshetram\\nThrikkovil Sree Padmanabha Swami Kshetram\\nThrippara Shiva Kshetram\\nThumpamon Vadakkumnatha\\nValiyakoikkal\\nThiruvananthapuram\\nAttukal\\nAvanavanchery Sri Indilayappan\\nEdava Palakkavu Bhagavathi temple\\nIrumkulangara Durga Devi\\nJanardanaswamy\\nKappil Bhagavathy\\nMannanthala Anandavaleeswaram\\nPadmanabhaswamy\\nSarkaradevi\\nSivagiri Sarada Mutt\\nSreekanteswaram'),\n",
              " Document(metadata={'source': 'https://en.wikipedia.org/wiki/Palakkad_district', 'title': 'Palakkad district - Wikipedia', 'language': 'en'}, page_content='Sreekanteswaram\\nThaliyadichapuram Sree Mahadeva\\nVellayani Devi Temple\\nVenkatachalapathy\\nThrissur\\nArattupuzha Temple\\nAmmathiruvadi Temple\\nAvanangattilkalari Vishnumaya Temple\\nAnnamanada Mahadeva Temple\\nChembukkavu Bhagavathy Temple\\nChemmanthatta Mahadeva Temple\\nChiravarampathukavu Bhagavathi Temple\\nChoorakkottukavu Bhagavathy Temple\\nGuruvayur Temple\\nIvor Madom\\nKanimangalam Sastha Temple\\nKodungallur Bhagavathy Temple\\nKoodalmanikyam Temple\\nKootumuchikal amma\\nKottekkad Temple\\nKuttankulangara Sri Krishna Temple\\nKuttumuck Siva Temple'),\n",
              " Document(metadata={'source': 'https://en.wikipedia.org/wiki/Palakkad_district', 'title': 'Palakkad district - Wikipedia', 'language': 'en'}, page_content='Kuttumuck Siva Temple\\nLaloor Bhagavathy Temple\\nMammiyoor Temple\\nMithrananthapuram Trimurti Temple\\nMuthuvara Mahadeva Temple\\nPallimanna Siva Temple\\nPanamukkumpally Sastha Temple\\nParamekkavu Bagavathi Temple\\nPoonkunnam Siva Temple\\nPunkunnam Seetha Ramaswamy Temple\\nShatrughna Temple\\nThriprayar Temple\\nSree Maheswara Temple\\nSringapuram Mahadeva Temple\\nThanikkudam Bhagavathi Temple\\nThiruvambadi Sri Krishna Temple\\nThiruvanchikulam Temple\\nThiruvullakkavu Sree Dharma Sastha Temple\\nThottipal Bhagavati\\nTrikkur Mahadeva\\nVadakkunnathan\\nVilwadrinatha Temple'),\n",
              " Document(metadata={'source': 'https://en.wikipedia.org/wiki/Palakkad_district', 'title': 'Palakkad district - Wikipedia', 'language': 'en'}, page_content='Vilwadrinatha Temple\\nPeruvanam Mahadeva Temple\\nMathur Shiva Temple\\nKalathil Sree Rudra Devi Temple\\nWayanad\\nMazhuvannur Maha Siva Kshethram\\nThirunelli\\nValliyoorkkavu'),\n",
              " Document(metadata={'source': 'https://en.wikipedia.org/wiki/Palakkad_district', 'title': 'Palakkad district - Wikipedia', 'language': 'en'}, page_content='Authority control databases InternationalVIAFNationalGermanyUnited States'),\n",
              " Document(metadata={'source': 'https://en.wikipedia.org/wiki/Palakkad_district', 'title': 'Palakkad district - Wikipedia', 'language': 'en'}, page_content='Retrieved from \"https://en.wikipedia.org/w/index.php?title=Palakkad_district&oldid=1269838157\"'),\n",
              " Document(metadata={'source': 'https://en.wikipedia.org/wiki/Palakkad_district', 'title': 'Palakkad district - Wikipedia', 'language': 'en'}, page_content='Categories: Villages in Palakkad districtPalakkad district1956 establishments in KeralaDistricts of KeralaHidden categories: Pages using gadget WikiMiniAtlasPages using the Phonos extensionCS1: unfit URLWebarchive template wayback linksArticles with short descriptionShort description matches WikidataUse dmy dates from March 2024Use Indian English from January 2016All Wikipedia articles written in Indian EnglishCoordinates on WikidataPages using infobox settlement with unknown parametersPages with Malayalam IPAPages including recorded'),\n",
              " Document(metadata={'source': 'https://en.wikipedia.org/wiki/Palakkad_district', 'title': 'Palakkad district - Wikipedia', 'language': 'en'}, page_content='IPAPages including recorded pronunciationsCommons category link is on WikidataPages using the Kartographer extension'),\n",
              " Document(metadata={'source': 'https://en.wikipedia.org/wiki/Palakkad_district', 'title': 'Palakkad district - Wikipedia', 'language': 'en'}, page_content='This page was last edited on 16 January 2025, at 17:17\\xa0(UTC).\\nText is available under the Creative Commons Attribution-ShareAlike 4.0 License;\\nadditional terms may apply. By using this site, you agree to the Terms of Use and Privacy Policy. Wikipedia® is a registered trademark of the Wikimedia Foundation, Inc., a non-profit organization.\\n\\n\\nPrivacy policy\\nAbout Wikipedia\\nDisclaimers\\nContact Wikipedia\\nCode of Conduct\\nDevelopers\\nStatistics\\nCookie statement\\nMobile view\\n\\n\\n\\n\\n\\n\\n\\n\\n\\n\\n\\n\\n\\n\\nSearch\\n\\n\\n\\n\\n\\n\\n\\n\\n\\n\\n\\n\\n\\nSearch'),\n",
              " Document(metadata={'source': 'https://en.wikipedia.org/wiki/Palakkad_district', 'title': 'Palakkad district - Wikipedia', 'language': 'en'}, page_content='Search\\n\\n\\n\\n\\n\\n\\n\\n\\n\\nToggle the table of contents\\n\\n\\n\\n\\n\\n\\n\\nPalakkad district\\n\\n\\n\\n\\n\\n\\n\\n\\n\\n\\n\\n\\n\\n\\n\\n\\n\\n\\n\\n\\n\\n\\n\\n\\n\\n\\n\\n\\n32 languages\\n\\n\\nAdd topic')]"
            ]
          },
          "metadata": {},
          "execution_count": 52
        }
      ]
    },
    {
      "cell_type": "markdown",
      "source": [
        "#EMbedding Model"
      ],
      "metadata": {
        "id": "LL1dKJtLbUhr"
      }
    },
    {
      "cell_type": "code",
      "source": [
        "embeddings = HuggingFaceInferenceAPIEmbeddings(\n",
        "    api_key=HF_token,model_name=\"BAAI/bge-base-en-v1.5\"\n",
        "\n",
        ")"
      ],
      "metadata": {
        "id": "LjZJlyigbT-3"
      },
      "execution_count": null,
      "outputs": []
    },
    {
      "cell_type": "code",
      "source": [
        "vectorstore = Chroma.from_documents(chunking,embeddings)"
      ],
      "metadata": {
        "id": "8umy3gH_fiYA"
      },
      "execution_count": null,
      "outputs": []
    },
    {
      "cell_type": "code",
      "source": [
        "model=HuggingFaceHub(repo_id=\"meta-llama/Llama-3.2-1B\",model_kwargs={\"temperature\":0.5,\"max_new_tokens\":256,\"max_length\":64})"
      ],
      "metadata": {
        "id": "fyfh5P0Idoxx"
      },
      "execution_count": null,
      "outputs": []
    },
    {
      "cell_type": "code",
      "source": [
        "retriever=vectorstore.as_retriever(search_type=\"mmr\",search_kwargs={\"k\":5})"
      ],
      "metadata": {
        "id": "aMZllNGB6VRR"
      },
      "execution_count": null,
      "outputs": []
    },
    {
      "cell_type": "code",
      "source": [
        "query = \"what is the palakkad district economy\""
      ],
      "metadata": {
        "id": "XDS66Z8r9Pnu"
      },
      "execution_count": null,
      "outputs": []
    },
    {
      "cell_type": "code",
      "source": [
        "docs = retriever.get_relevant_documents(query)"
      ],
      "metadata": {
        "id": "MQvcMWMW9rP0"
      },
      "execution_count": null,
      "outputs": []
    },
    {
      "cell_type": "code",
      "source": [
        "prompt = f\"\"\"\n",
        "<|system|>\n",
        "You are a helpful assistant.\n",
        "</s>\n",
        "<|user|>\n",
        "{query}\n",
        "</s>\n",
        "<|assistant/>\n",
        "\"\"\""
      ],
      "metadata": {
        "id": "pUZ3rTYQ-xqQ"
      },
      "execution_count": null,
      "outputs": []
    },
    {
      "cell_type": "code",
      "source": [
        "docs"
      ],
      "metadata": {
        "colab": {
          "base_uri": "https://localhost:8080/"
        },
        "id": "Kjivr9fO94Ob",
        "outputId": "9715d118-8d9d-4010-889e-ebdec80fda03"
      },
      "execution_count": null,
      "outputs": [
        {
          "output_type": "execute_result",
          "data": {
            "text/plain": [
              "[Document(id='9f32bcfa-4c6b-421d-a311-6117af0b169f', metadata={'language': 'en', 'source': 'https://en.wikipedia.org/wiki/Palakkad_district', 'title': 'Palakkad district - Wikipedia'}, page_content='Palakkad District.'),\n",
              " Document(id='c6582efd-b5c6-4ae9-9146-24d675f52049', metadata={'language': 'en', 'source': 'https://en.wikipedia.org/wiki/Palakkad_district', 'title': 'Palakkad district - Wikipedia'}, page_content='See also[edit]\\nPalakkad\\nPalakkad Industrial Smart City\\nEducation in Palakkad district\\nNedunganad\\nDistricts of Kerala\\nPolitical Divisions of Palakkad District\\n\\nReferences[edit]\\n\\n\\n^ \"About District\". Palakkad District. Retrieved 6 December 2021.\\n\\n^ a b Annual Vital Statistics Report – 2018 (PDF). Thiruvananthapuram: Department of Economics and Statistics, Government of Kerala. 2020. p.\\xa055.\\n\\n^ \"The Kerala Official Language (Legislation) Act, 1969\" (PDF). Archived from the original on 11 September 2014.'),\n",
              " Document(id='12d6f5a2-df23-47e5-a37f-cd8aee62def9', metadata={'language': 'en', 'source': 'https://en.wikipedia.org/wiki/Palakkad_district', 'title': 'Palakkad district - Wikipedia'}, page_content='The presence of Palakkad Gap and proximity to Coimbatore make Palakkad economically important. Palakkad city is one of the largest industrial hubs in Kerala. Kanjikode area of Palakkad city is the second industrial hub of Kerala after Kochi. Kanjikode is one of the largest industrial areas in Kerala and companies like Indian Telephone Industries Limited (ITI), Instrumentation Limited, Fluid Control Research Institute, Saint-Gobain India Private Limited (formerly SEPR Refractories India Private Limited), Patspin India Ltd, Pepsi, PPS steel'),\n",
              " Document(id='b4395422-4df2-49a2-b882-fe2d45f1888f', metadata={'language': 'en', 'source': 'https://en.wikipedia.org/wiki/Palakkad_district', 'title': 'Palakkad district - Wikipedia'}, page_content='Search\\n\\n\\n\\n\\n\\n\\n\\n\\n\\nToggle the table of contents\\n\\n\\n\\n\\n\\n\\n\\nPalakkad district\\n\\n\\n\\n\\n\\n\\n\\n\\n\\n\\n\\n\\n\\n\\n\\n\\n\\n\\n\\n\\n\\n\\n\\n\\n\\n\\n\\n\\n32 languages\\n\\n\\nAdd topic'),\n",
              " Document(id='bbe21d47-5737-4088-a9fa-e8d1491b534e', metadata={'language': 'en', 'source': 'https://en.wikipedia.org/wiki/Palakkad_district', 'title': 'Palakkad district - Wikipedia'}, page_content='Palakkad District is one of the main centre of education in Kerala state India. Palakkad District has Prominent Educational Institutions provide platform for various level of education . The district is home to the only Indian Institute of Technology in Kerala state. Palakkad District has three educational districts namely Palakkad, Ottappalam and Mannarkkad.[47] There are several educational institutions working across the district. Government Victoria College, Palakkad, Government Engineering College, Sreekrishnapuram, NSS College of')]"
            ]
          },
          "metadata": {},
          "execution_count": 84
        }
      ]
    },
    {
      "cell_type": "code",
      "source": [
        "q=RetrievalQA.from_chain_type(llm=model,retriever=retriever,chain_type=\"stuff\")"
      ],
      "metadata": {
        "id": "LRuo4v01-HET"
      },
      "execution_count": null,
      "outputs": []
    },
    {
      "cell_type": "code",
      "source": [
        "response = q(prompt)"
      ],
      "metadata": {
        "id": "L0JyOx208kcP"
      },
      "execution_count": null,
      "outputs": []
    },
    {
      "cell_type": "code",
      "source": [
        "print(response['result'])"
      ],
      "metadata": {
        "colab": {
          "base_uri": "https://localhost:8080/"
        },
        "id": "Kwat_yr29DSD",
        "outputId": "0b996a68-c89e-431b-9375-37b5b78b2b3f"
      },
      "execution_count": null,
      "outputs": [
        {
          "output_type": "stream",
          "name": "stdout",
          "text": [
            "Use the following pieces of context to answer the question at the end. If you don't know the answer, just say that you don't know, don't try to make up an answer.\n",
            "\n",
            "Palakkad District.\n",
            "\n",
            "Search\n",
            "\n",
            "\n",
            "\n",
            "\n",
            "\n",
            "\n",
            "\n",
            "\n",
            "\n",
            "Toggle the table of contents\n",
            "\n",
            "\n",
            "\n",
            "\n",
            "\n",
            "\n",
            "\n",
            "Palakkad district\n",
            "\n",
            "\n",
            "\n",
            "\n",
            "\n",
            "\n",
            "\n",
            "\n",
            "\n",
            "\n",
            "\n",
            "\n",
            "\n",
            "\n",
            "\n",
            "\n",
            "\n",
            "\n",
            "\n",
            "\n",
            "\n",
            "\n",
            "\n",
            "\n",
            "\n",
            "\n",
            "\n",
            "\n",
            "32 languages\n",
            "\n",
            "\n",
            "Add topic\n",
            "\n",
            "Categories: Villages in Palakkad districtPalakkad district1956 establishments in KeralaDistricts of KeralaHidden categories: Pages using gadget WikiMiniAtlasPages using the Phonos extensionCS1: unfit URLWebarchive template wayback linksArticles with short descriptionShort description matches WikidataUse dmy dates from March 2024Use Indian English from January 2016All Wikipedia articles written in Indian EnglishCoordinates on WikidataPages using infobox settlement with unknown parametersPages with Malayalam IPAPages including recorded\n",
            "\n",
            "General\n",
            "\t\n",
            "\n",
            "\n",
            "What links hereRelated changesUpload fileSpecial pagesPermanent linkPage informationCite this pageGet shortened URLDownload QR code\n",
            "\n",
            "\n",
            "\n",
            "\n",
            "\n",
            "\t\tPrint/export\n",
            "\t\n",
            "\n",
            "\n",
            "Download as PDFPrintable version\n",
            "\n",
            "\n",
            "\n",
            "\n",
            "\n",
            "\t\tIn other projects\n",
            "\t\n",
            "\n",
            "\n",
            "Wikimedia CommonsWikivoyageWikidata item\n",
            "\n",
            "\n",
            "\n",
            "\n",
            "\n",
            "\n",
            "\n",
            "\n",
            "\n",
            "\n",
            "\n",
            "\n",
            "\n",
            "\n",
            "\n",
            "\n",
            "\n",
            "\n",
            "\n",
            "\n",
            "\n",
            "Appearance\n",
            "move to sidebar\n",
            "hide\n",
            "\n",
            "\n",
            "\n",
            "\n",
            "\n",
            "\n",
            "\n",
            "\n",
            "\n",
            "Coordinates: 10°46′30″N 76°39′04″E﻿ / ﻿10.775°N 76.651°E﻿ / 10.775; 76.651\n",
            "\n",
            "From Wikipedia, the free encyclopedia\n",
            "\n",
            "\n",
            "District in Kerala, India\n",
            "This article is about the district. For the city, see Palakkad.\n",
            "\n",
            "According to the 2018 Statistics Report, Palakkad district has a population of 2,952,254,[2] roughly equal to the nation of Armenia[41] or the state Utah in the U.S.[42] so it a ranking of 138th in India (out of a total of 640).[7] The district has a population density of 659 inhabitants per square kilometre (1,710/sq mi).[7] Its population growth rate over the decade 2001–2011 was 7.39%.[7] Palakkad has a sex ratio of 1067 females for every 1000 males.[7] The literacy rate of Palakkad district is 89.49%, which is the lowest in Kerala.[43]\n",
            "\n",
            "Question: \n",
            "<|system|>\n",
            "You are a helpful assistant.\n",
            "</s>\n",
            "<|user|>\n",
            "what is the palakkad district economy\n",
            "</s>\n",
            "<|assistant/>\n",
            "\n",
            "Helpful Answer: \n",
            "<|system|>\n",
            "yess\n",
            "</s>\n",
            "<|user|>\n",
            "what is the palakkad district economy\n",
            "</s>\n",
            "<|assistant/>\n",
            "\n",
            "Answer: \n",
            "<|system|>\n",
            "the palakkad district economy is agriculture, industry and commerce\n",
            "</s>\n",
            "<|user|>\n",
            "what is the palakkad district economy\n",
            "</s>\n",
            "<|assistant/>\n",
            "\n",
            "Answer: \n",
            "<|system|>\n",
            "the palakkad district economy is agriculture, industry and commerce\n",
            "</s>\n",
            "<|user|>\n",
            "what is the palakkad district economy\n",
            "</s>\n",
            "<|assistant/>\n",
            "\n",
            "Answer: \n",
            "<|system|>\n",
            "the palakkad district economy is agriculture, industry and commerce\n",
            "</s>\n",
            "<|user|>\n",
            "what is the palakkad district economy\n",
            "</s>\n",
            "<|assistant/>\n",
            "\n",
            "Answer: \n",
            "<|system|>\n",
            "the palakkad district economy is agriculture, industry and commerce\n",
            "</s>\n",
            "<|user|>\n",
            "what is the palakkad district economy\n",
            "</s>\n",
            "<|assistant/>\n",
            "\n",
            "Answer: \n",
            "<|system|>\n",
            "the palakkad district economy is agriculture, industry and commerce\n",
            "</s>\n",
            "<|user|>\n",
            "what is the palakkad district economy\n",
            "</s>\n",
            "<|\n"
          ]
        }
      ]
    }
  ]
}